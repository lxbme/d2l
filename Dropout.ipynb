{
 "cells": [
  {
   "cell_type": "markdown",
   "id": "ade58c6e-6184-4a37-8ebf-afaeb3224e94",
   "metadata": {},
   "source": [
    "## Dropout方法实现正则化"
   ]
  },
  {
   "cell_type": "code",
   "execution_count": 1,
   "id": "7311c20d-7d9d-4966-8112-d7fe2af1d89a",
   "metadata": {
    "scrolled": true
   },
   "outputs": [
    {
     "data": {
      "text/plain": [
       "[tensor([[[[0.0000, 0.0000, 0.0000,  ..., 0.0000, 0.0000, 0.0000],\n",
       "           [0.0000, 0.0000, 0.0000,  ..., 0.0000, 0.0000, 0.0000],\n",
       "           [0.0000, 0.0000, 0.0000,  ..., 0.0000, 0.0000, 0.0000],\n",
       "           ...,\n",
       "           [0.0000, 0.0000, 0.0000,  ..., 0.0000, 0.0000, 0.0000],\n",
       "           [0.0000, 0.0000, 0.0000,  ..., 0.0000, 0.0000, 0.0000],\n",
       "           [0.0000, 0.0000, 0.0000,  ..., 0.0000, 0.0000, 0.0000]]],\n",
       " \n",
       " \n",
       "         [[[0.0000, 0.0000, 0.0000,  ..., 0.0000, 0.0000, 0.0000],\n",
       "           [0.0000, 0.0000, 0.0000,  ..., 0.0000, 0.0000, 0.0000],\n",
       "           [0.0000, 0.0000, 0.0000,  ..., 0.0000, 0.0000, 0.0000],\n",
       "           ...,\n",
       "           [0.0000, 0.0000, 0.0000,  ..., 0.0000, 0.0000, 0.0000],\n",
       "           [0.0000, 0.0000, 0.0000,  ..., 0.0000, 0.0000, 0.0000],\n",
       "           [0.0000, 0.0000, 0.0000,  ..., 0.0000, 0.0000, 0.0000]]],\n",
       " \n",
       " \n",
       "         [[[0.0000, 0.0000, 0.0000,  ..., 0.0000, 0.0000, 0.0000],\n",
       "           [0.0000, 0.0000, 0.0000,  ..., 0.0000, 0.0000, 0.0000],\n",
       "           [0.0000, 0.0000, 0.0000,  ..., 0.0000, 0.0000, 0.0000],\n",
       "           ...,\n",
       "           [0.0000, 0.0000, 0.0000,  ..., 0.0000, 0.0000, 0.0000],\n",
       "           [0.0000, 0.0000, 0.0000,  ..., 0.0000, 0.0000, 0.0000],\n",
       "           [0.0000, 0.0000, 0.0000,  ..., 0.0000, 0.0000, 0.0000]]],\n",
       " \n",
       " \n",
       "         ...,\n",
       " \n",
       " \n",
       "         [[[0.0000, 0.0000, 0.0000,  ..., 0.0000, 0.0000, 0.0000],\n",
       "           [0.0000, 0.0000, 0.0000,  ..., 0.0000, 0.0000, 0.0000],\n",
       "           [0.0000, 0.0000, 0.0000,  ..., 0.0000, 0.0000, 0.0000],\n",
       "           ...,\n",
       "           [0.0000, 0.0000, 0.0000,  ..., 0.0000, 0.0000, 0.0000],\n",
       "           [0.0000, 0.0000, 0.0000,  ..., 0.0000, 0.0000, 0.0000],\n",
       "           [0.0000, 0.0000, 0.0000,  ..., 0.0000, 0.0000, 0.0000]]],\n",
       " \n",
       " \n",
       "         [[[0.0000, 0.0000, 0.0000,  ..., 0.0039, 0.0000, 0.0000],\n",
       "           [0.0000, 0.0000, 0.0000,  ..., 0.0000, 0.0000, 0.0000],\n",
       "           [0.0000, 0.0000, 0.0000,  ..., 0.0039, 0.0000, 0.0000],\n",
       "           ...,\n",
       "           [0.0000, 0.0000, 0.0000,  ..., 0.0078, 0.0000, 0.0000],\n",
       "           [0.0000, 0.0000, 0.0000,  ..., 0.0000, 0.0000, 0.0000],\n",
       "           [0.0000, 0.0000, 0.0000,  ..., 0.0000, 0.0000, 0.0000]]],\n",
       " \n",
       " \n",
       "         [[[0.0000, 0.0000, 0.0000,  ..., 0.0000, 0.0000, 0.0000],\n",
       "           [0.0000, 0.0000, 0.0000,  ..., 0.0000, 0.0000, 0.0000],\n",
       "           [0.0000, 0.0000, 0.0000,  ..., 0.0000, 0.0000, 0.0000],\n",
       "           ...,\n",
       "           [0.0000, 0.0000, 0.0000,  ..., 0.0000, 0.0000, 0.0000],\n",
       "           [0.0000, 0.0000, 0.0000,  ..., 0.0000, 0.0000, 0.0000],\n",
       "           [0.0000, 0.0000, 0.0000,  ..., 0.0000, 0.0000, 0.0000]]]]),\n",
       " tensor([7, 5, 5, 8, 2, 7, 4, 6, 0, 4, 3, 4, 7, 2, 7, 8, 1, 4, 5, 4, 2, 1, 7, 3,\n",
       "         5, 9, 1, 3, 1, 5, 7, 9, 3, 0, 0, 0, 1, 0, 7, 7, 9, 7, 9, 1, 0, 1, 0, 0,\n",
       "         3, 9, 6, 3, 6, 7, 3, 7, 5, 8, 8, 6, 4, 7, 5, 0, 6, 4, 7, 9, 2, 7, 9, 9,\n",
       "         4, 5, 7, 5, 0, 7, 3, 2, 7, 4, 6, 0, 1, 9, 2, 9, 9, 8, 4, 7, 6, 7, 1, 7,\n",
       "         2, 7, 1, 1, 5, 3, 1, 1, 7, 4, 4, 7, 5, 2, 9, 4, 9, 9, 3, 8, 9, 5, 0, 4,\n",
       "         7, 4, 9, 1, 5, 2, 0, 4, 3, 8, 6, 9, 4, 8, 5, 1, 8, 4, 8, 2, 5, 1, 1, 8,\n",
       "         5, 0, 0, 0, 1, 4, 8, 2, 4, 8, 3, 8, 4, 8, 9, 2, 9, 7, 0, 8, 2, 5, 5, 9,\n",
       "         9, 3, 7, 9, 8, 7, 9, 9, 0, 5, 7, 9, 4, 9, 9, 2, 3, 2, 0, 3, 6, 9, 4, 4,\n",
       "         8, 8, 8, 8, 9, 7, 9, 2, 7, 7, 5, 1, 6, 1, 8, 3, 6, 2, 2, 8, 4, 5, 5, 8,\n",
       "         8, 2, 9, 0, 6, 2, 2, 8, 7, 2, 3, 1, 6, 5, 7, 9, 8, 9, 7, 2, 4, 6, 7, 4,\n",
       "         7, 4, 1, 0, 3, 8, 1, 5, 6, 8, 5, 4, 8, 7, 0, 8])]"
      ]
     },
     "execution_count": 1,
     "metadata": {},
     "output_type": "execute_result"
    }
   ],
   "source": [
    "import torch\n",
    "import torchvision\n",
    "from torch.utils import data\n",
    "from torchvision import transforms\n",
    "from d2l import torch as d2l\n",
    "import torch.nn as nn\n",
    "\n",
    "batch_size=256\n",
    "\n",
    "d2l.use_svg_display()\n",
    "trans = transforms.ToTensor()\n",
    "mnist_train = torchvision.datasets.FashionMNIST(root=\"../data\",train=True,transform=trans,download=True)\n",
    "mnist_test = torchvision.datasets.FashionMNIST(root=\"../data\",train=False,transform=trans,download=True)\n",
    "\n",
    "train_iter = data.DataLoader(mnist_train,batch_size,shuffle=True,num_workers=4)\n",
    "test_iter = data.DataLoader(mnist_test,batch_size,shuffle=False,num_workers=4)\n",
    "next(iter(train_iter))"
   ]
  },
  {
   "cell_type": "code",
   "execution_count": 2,
   "id": "b8f3be71-07e0-492d-bcc5-106e7f8ba25d",
   "metadata": {},
   "outputs": [],
   "source": [
    "## 一般实现\n",
    "def dropout_layer(X,dropout):\n",
    "    if dropout == 0:\n",
    "        return X\n",
    "    if dropout == 1:\n",
    "        return torch.zeros_like(X.shape)\n",
    "    mask = (torch.rand(X.shape) > dropout).float()\n",
    "    return X*mask/(1-dropout)"
   ]
  },
  {
   "cell_type": "code",
   "execution_count": 3,
   "id": "dcc79f1f-3651-4233-995f-e98faa08ec11",
   "metadata": {},
   "outputs": [],
   "source": [
    "dropout1, dropout2 = 0.2, 0.5\n",
    "num_inputs, num_outputs, num_hiddens1, num_hiddens2 = 784, 10, 256, 256\n",
    "\n",
    "class Net(nn.Module):\n",
    "    def __init__(self, num_inputs, num_outputs, num_hiddens1, num_hiddens2,\n",
    "                 is_training = True):\n",
    "        super(Net, self).__init__()\n",
    "        self.num_inputs = num_inputs\n",
    "        self.training = is_training\n",
    "        self.lin1 = nn.Linear(num_inputs, num_hiddens1)\n",
    "        self.lin2 = nn.Linear(num_hiddens1, num_hiddens2)\n",
    "        self.lin3 = nn.Linear(num_hiddens2, num_outputs)\n",
    "        self.relu = nn.ReLU()\n",
    "        self.softmax = nn.Softmax(dim=1)\n",
    "\n",
    "    def forward(self, X):\n",
    "        H1 = self.relu(self.lin1(X.reshape((-1, self.num_inputs))))\n",
    "        # 只有在训练模型时才使用dropout\n",
    "        if self.training == True:\n",
    "            # 在第一个全连接层之后添加一个dropout层\n",
    "            H1 = dropout_layer(H1, dropout1)\n",
    "        H2 = self.relu(self.lin2(H1))\n",
    "        if self.training == True:\n",
    "            # 在第二个全连接层之后添加一个dropout层\n",
    "            H2 = dropout_layer(H2, dropout2)\n",
    "        out = self.softmax(self.lin3(H2))\n",
    "        return out\n",
    "\n",
    "\n",
    "net = Net(num_inputs, num_outputs, num_hiddens1, num_hiddens2)\n"
   ]
  },
  {
   "cell_type": "code",
   "execution_count": null,
   "id": "e4625972-53f0-4ff9-95a3-6fed2db6ab8c",
   "metadata": {},
   "outputs": [
    {
     "name": "stdout",
     "output_type": "stream",
     "text": [
      "epoch1    test_acc 0.1912\n",
      "epoch6    test_acc 0.6637\n"
     ]
    }
   ],
   "source": [
    "epochs = 50\n",
    "loss = nn.CrossEntropyLoss()\n",
    "optim = torch.optim.SGD(net.parameters(),lr=0.05)\n",
    "\n",
    "loss_table = []\n",
    "test_loss_table = []\n",
    "for epoch in range(epochs):\n",
    "    for X,y in train_iter:\n",
    "        l = loss(net(X),y)\n",
    "        net.zero_grad()\n",
    "        l.backward()\n",
    "        optim.step()\n",
    "    with torch.no_grad():\n",
    "        if epoch % 5 == 0:\n",
    "            print(f\"epoch{epoch+1}    test_acc {d2l.evaluate_accuracy_gpu(net,iter(test_iter))}\")       \n",
    "        loss_table.append(loss(net(X),y).mean().detach())\n",
    "        tx,ty = next(iter(test_iter))\n",
    "        test_loss_table.append(loss(net(tx),ty).mean().detach())"
   ]
  },
  {
   "cell_type": "code",
   "execution_count": null,
   "id": "e7b7b826-1f5e-482c-b611-1328589b6e93",
   "metadata": {},
   "outputs": [],
   "source": [
    "n = 6\n",
    "X,y = next(iter(test_iter))\n",
    "preds = d2l.get_fashion_mnist_labels(net(X).argmax(1))\n",
    "trues = d2l.get_fashion_mnist_labels(y)\n",
    "titles = [pred + \"\\n\" + true for pred,true in zip(preds,trues)]\n",
    "images = X[0:6].reshape((n,28,28))\n",
    "d2l.show_images(images,1,n,titles=titles)"
   ]
  },
  {
   "cell_type": "code",
   "execution_count": null,
   "id": "32fabc11-4063-4720-880f-66df48830d4c",
   "metadata": {},
   "outputs": [],
   "source": [
    "import numpy as np\n",
    "import matplotlib.pyplot as plt\n",
    "def moving_average(data, window_size):\n",
    "    return np.convolve(data, np.ones(window_size)/window_size, mode='valid')\n",
    "#loss_table = moving_average(loss_table,10)\n",
    "#test_loss_table = moving_average(test_loss_table,10)\n",
    "epoches = list(range(len(loss_table)))\n",
    "plt.plot(epoches,loss_table)\n",
    "plt.plot(epoches,test_loss_table,c='r')"
   ]
  }
 ],
 "metadata": {
  "kernelspec": {
   "display_name": "Python 3 (ipykernel)",
   "language": "python",
   "name": "python3"
  },
  "language_info": {
   "codemirror_mode": {
    "name": "ipython",
    "version": 3
   },
   "file_extension": ".py",
   "mimetype": "text/x-python",
   "name": "python",
   "nbconvert_exporter": "python",
   "pygments_lexer": "ipython3",
   "version": "3.8.18"
  }
 },
 "nbformat": 4,
 "nbformat_minor": 5
}
