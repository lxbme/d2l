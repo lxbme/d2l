{
 "cells": [
  {
   "cell_type": "code",
   "execution_count": null,
   "id": "7ff6cdc4-f89b-4fbc-bbf9-e5f20dac62d1",
   "metadata": {},
   "outputs": [],
   "source": [
    "import torch\n",
    "import random"
   ]
  },
  {
   "cell_type": "code",
   "execution_count": null,
   "id": "ae9eb278-9a0d-4e24-8a3c-f3491d60f547",
   "metadata": {},
   "outputs": [],
   "source": [
    "def linear(X,w,b):\n",
    "    return torch.matmul(X,w) + b\n",
    "\n",
    "def loss(y_hat,y):\n",
    "    return (y_hat - y.reshape(y_hat.shape))**2/2\n",
    "\n",
    "def sgd(params,lr,batch_size):\n",
    "    with torch.no_grad():\n",
    "        for param in params:\n",
    "            param -= lr * param.grad / batch_size\n",
    "            param.grad.zero_()\n",
    "\n",
    "def sqr(X):\n",
    "    return X**2"
   ]
  },
  {
   "cell_type": "code",
   "execution_count": null,
   "id": "a86cdbf9-582d-4dd7-86f6-3afa5d9d6150",
   "metadata": {},
   "outputs": [],
   "source": [
    "def synthetic_data(w, b, num_examples):  #@save\n",
    "    \"\"\"生成y=Xw+b+噪声\"\"\"\n",
    "    X = torch.normal(0, 1, (num_examples, len(w)))\n",
    "    y = torch.matmul(X, w) + b\n",
    "    y += torch.normal(0, 0.01, y.shape)\n",
    "    return X, y.reshape((-1, 1))\n",
    "\n",
    "true_w = torch.tensor([2, -3.4])\n",
    "true_b = 4.2\n",
    "features, labels = synthetic_data(true_w, true_b, 1000)"
   ]
  },
  {
   "cell_type": "code",
   "execution_count": null,
   "id": "c1cfa591-8cfa-447b-b3a5-adc7b21ac97a",
   "metadata": {},
   "outputs": [],
   "source": [
    "from d2l import torch as d2l"
   ]
  },
  {
   "cell_type": "code",
   "execution_count": null,
   "id": "c21c9460-0e19-41c0-b1ee-044bdd533447",
   "metadata": {},
   "outputs": [],
   "source": [
    "d2l.set_figsize()\n",
    "d2l.plt.scatter(features[:, (1)].detach().numpy(), labels.detach().numpy(), 1);"
   ]
  },
  {
   "cell_type": "code",
   "execution_count": null,
   "id": "05945c88-b586-4855-a651-b193b974d85e",
   "metadata": {},
   "outputs": [],
   "source": [
    "def data_iter(batch_size, features, labels):\n",
    "    num_examples = len(features)\n",
    "    indices = list(range(num_examples))\n",
    "    # 这些样本是随机读取的，没有特定的顺序\n",
    "    random.shuffle(indices)\n",
    "    for i in range(0, num_examples, batch_size):\n",
    "        batch_indices = torch.tensor(\n",
    "            indices[i: min(i + batch_size, num_examples)])\n",
    "        yield features[batch_indices], labels[batch_indices]\n"
   ]
  },
  {
   "cell_type": "code",
   "execution_count": null,
   "id": "bd0b156d-12fb-4332-9119-e7ef2e2d0e19",
   "metadata": {},
   "outputs": [],
   "source": [
    "lr = 0.03\n",
    "epoch_num = 3\n",
    "net = linear\n",
    "batch_size = 10\n",
    "\n",
    "w = torch.normal(0, 0.01, size=(2,1), requires_grad=True)\n",
    "b = torch.zeros(1, requires_grad=True)\n",
    "\n",
    "for epoch in range(epoch_num):\n",
    "    for X,y in data_iter(batch_size,features,labels):\n",
    "        l = loss(net(X,w,b),y)\n",
    "        l.sum().backward()\n",
    "        sgd([w,b],lr,batch_size)\n",
    "    with torch.no_grad():\n",
    "        train_l = loss(net(features, w, b), labels)\n",
    "        print(f'epoch {epoch + 1}, loss {float(train_l.mean()):f}')        \n",
    "        "
   ]
  },
  {
   "cell_type": "code",
   "execution_count": null,
   "id": "ae4386a1-f51d-4b3f-a717-f832c6fd6261",
   "metadata": {},
   "outputs": [],
   "source": [
    "w.detach(),true_w"
   ]
  },
  {
   "cell_type": "code",
   "execution_count": null,
   "id": "518f8b17-0dfe-4373-9fb2-0b9eb7796897",
   "metadata": {},
   "outputs": [],
   "source": [
    "net = torch.nn.Sequential(torch.nn.Linear(2,1))"
   ]
  },
  {
   "cell_type": "code",
   "execution_count": null,
   "id": "90b34fb8-225d-44fc-9aae-cbbda6beaf96",
   "metadata": {},
   "outputs": [],
   "source": [
    "net[0].weight.data.normal_(0,0.01)\n",
    "net[0].bias.data.fill_(0)\n",
    "print(net[0].weight.data)"
   ]
  },
  {
   "cell_type": "code",
   "execution_count": null,
   "id": "371d2511-e343-4ae9-803f-e5e420becc0d",
   "metadata": {},
   "outputs": [],
   "source": [
    "trainer = torch.optim.SGD(net.parameters(),0.01)\n",
    "loss = torch.nn.MSELoss()"
   ]
  },
  {
   "cell_type": "code",
   "execution_count": null,
   "id": "1c51274b-7096-4d7a-bbf7-1a03e906d3f8",
   "metadata": {},
   "outputs": [],
   "source": [
    "from torch.utils.data import DataLoader,TensorDataset"
   ]
  },
  {
   "cell_type": "code",
   "execution_count": null,
   "id": "bf0da994-d1e3-4558-9cbb-8e0a53ce8149",
   "metadata": {},
   "outputs": [],
   "source": [
    "def load_array(data_arrays,batch_size,is_train=True):\n",
    "    dataset = TensorDataset(*data_arrays)\n",
    "    return DataLoader(dataset,batch_size,shuffle=is_train)"
   ]
  },
  {
   "cell_type": "code",
   "execution_count": null,
   "id": "155730e5-c689-442a-adeb-55002a647231",
   "metadata": {},
   "outputs": [],
   "source": [
    "data_iter = load_array((features,labels),batch_size)"
   ]
  },
  {
   "cell_type": "code",
   "execution_count": null,
   "id": "be6bb01f-066d-446f-ad56-52eeb46e5b8e",
   "metadata": {},
   "outputs": [],
   "source": [
    "def train(net,optim,loss,data_iter,epochs):\n",
    "    for epoch in range(epochs):\n",
    "        for X,y in data_iter:\n",
    "            l = loss(net(X),y)\n",
    "            trainer.zero_grad()\n",
    "            l.backward()\n",
    "            trainer.step()\n",
    "        with torch.no_grad():\n",
    "            train_l = loss(net(features), labels)\n",
    "            print(f'epoch {epoch + 1}, loss {float(train_l.mean()):f}')"
   ]
  },
  {
   "cell_type": "code",
   "execution_count": null,
   "id": "608d0ceb-45f5-44cb-8d75-20b1f07a4576",
   "metadata": {},
   "outputs": [],
   "source": [
    "train(net,trainer,loss,data_iter,3)"
   ]
  },
  {
   "cell_type": "code",
   "execution_count": null,
   "id": "d200f788-89de-45b8-9ca7-8a80345b54f4",
   "metadata": {},
   "outputs": [],
   "source": [
    "net[0].weight.data,true_w"
   ]
  }
 ],
 "metadata": {
  "kernelspec": {
   "display_name": "Python 3 (ipykernel)",
   "language": "python",
   "name": "python3"
  },
  "language_info": {
   "codemirror_mode": {
    "name": "ipython",
    "version": 3
   },
   "file_extension": ".py",
   "mimetype": "text/x-python",
   "name": "python",
   "nbconvert_exporter": "python",
   "pygments_lexer": "ipython3",
   "version": "3.8.17"
  }
 },
 "nbformat": 4,
 "nbformat_minor": 5
}
