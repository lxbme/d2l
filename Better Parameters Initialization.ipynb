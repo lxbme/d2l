{
 "cells": [
  {
   "cell_type": "markdown",
   "id": "cb1bb1b9-f6e4-47c0-bfb7-80ec32ed3b42",
   "metadata": {},
   "source": [
    "## Xavier Method\n",
    "Fills the input Tensor with values according to the method described in Understanding the difficulty of training deep feedforward neural networks - Glorot, X. & Bengio, Y. (2010), using a normal distribution. The resulting tensor will have values sampled from $ \\mathcal{N} (0,std^2) $ where\n",
    "$$\n",
    "gain\\times \\sqrt{\\frac{2}{fan\\_in-fan\\_out}} \n",
    "$$"
   ]
  },
  {
   "cell_type": "code",
   "execution_count": 1,
   "id": "06664ecf-2e7f-48dd-b3bf-503357c608d1",
   "metadata": {},
   "outputs": [],
   "source": [
    "import torch\n",
    "import torchvision\n",
    "from torch.utils import data\n",
    "from torchvision import transforms\n",
    "from d2l import torch as d2l\n",
    "import torch.nn as nn\n",
    "\n",
    "batch_size=256\n",
    "\n",
    "d2l.use_svg_display()\n",
    "trans = transforms.ToTensor()\n",
    "mnist_train = torchvision.datasets.FashionMNIST(root=\"../data\",train=True,transform=trans,download=True)\n",
    "mnist_test = torchvision.datasets.FashionMNIST(root=\"../data\",train=False,transform=trans,download=True)\n",
    "\n",
    "train_iter = data.DataLoader(mnist_train,batch_size,shuffle=True,num_workers=4)\n",
    "test_iter = data.DataLoader(mnist_test,batch_size,shuffle=False,num_workers=4)"
   ]
  },
  {
   "cell_type": "code",
   "execution_count": 2,
   "id": "15a053fe-3357-483d-af76-e304be461b72",
   "metadata": {},
   "outputs": [
    {
     "data": {
      "text/plain": [
       "Sequential(\n",
       "  (0): Flatten(start_dim=1, end_dim=-1)\n",
       "  (1): Linear(in_features=784, out_features=256, bias=True)\n",
       "  (2): ReLU()\n",
       "  (3): Linear(in_features=256, out_features=10, bias=True)\n",
       "  (4): Softmax(dim=1)\n",
       ")"
      ]
     },
     "execution_count": 2,
     "metadata": {},
     "output_type": "execute_result"
    }
   ],
   "source": [
    "import torch.nn as nn\n",
    "\n",
    "net = nn.Sequential(nn.Flatten(),\n",
    "                    nn.Linear(28*28,256),\n",
    "                    nn.ReLU(),\n",
    "                    nn.Linear(256,10),\n",
    "                    nn.Softmax(dim=1))\n",
    "\n",
    "def init_layer(m):\n",
    "    if type(m) == nn.Linear:\n",
    "        nn.init.xavier_normal_(m.weight)\n",
    "        m.bias.data.fill_(0)\n",
    "\n",
    "loss = nn.CrossEntropyLoss()\n",
    "trainer = torch.optim.SGD(net.parameters(),lr=0.05)\n",
    "\n",
    "net.apply(init_layer)"
   ]
  },
  {
   "cell_type": "code",
   "execution_count": 3,
   "id": "7e560412-fa7d-497f-958f-bbb3de0fc0a0",
   "metadata": {},
   "outputs": [
    {
     "name": "stdout",
     "output_type": "stream",
     "text": [
      " epoch5 test_acc 0.7677\n",
      " epoch10 test_acc 0.7866\n",
      " epoch15 test_acc 0.7971\n",
      " epoch20 test_acc 0.7999\n",
      " epoch25 test_acc 0.8029\n",
      " epoch30 test_acc 0.8065\n",
      " epoch35 test_acc 0.8083\n",
      " epoch40 test_acc 0.8093\n",
      " epoch45 test_acc 0.81\n"
     ]
    }
   ],
   "source": [
    "from torch.nn.functional import one_hot\n",
    "epochs = 45\n",
    "\n",
    "for epoch in range(epochs):\n",
    "    for X,y in train_iter:\n",
    "        l = loss(net(X),y)\n",
    "        trainer.zero_grad()\n",
    "        l.backward()\n",
    "        trainer.step()\n",
    "    with torch.no_grad():\n",
    "        if (epoch+1)%5 == 0:\n",
    "            print(f\" epoch{epoch+1} test_acc {d2l.evaluate_accuracy_gpu(net,iter(test_iter))}\")"
   ]
  },
  {
   "cell_type": "markdown",
   "id": "2d19f822-1731-4239-8d0e-90083a1a715a",
   "metadata": {},
   "source": [
    "This function will mitigating gradient explossion and gradient disappearance"
   ]
  }
 ],
 "metadata": {
  "kernelspec": {
   "display_name": "Python 3 (ipykernel)",
   "language": "python",
   "name": "python3"
  },
  "language_info": {
   "codemirror_mode": {
    "name": "ipython",
    "version": 3
   },
   "file_extension": ".py",
   "mimetype": "text/x-python",
   "name": "python",
   "nbconvert_exporter": "python",
   "pygments_lexer": "ipython3",
   "version": "3.9.18"
  }
 },
 "nbformat": 4,
 "nbformat_minor": 5
}
