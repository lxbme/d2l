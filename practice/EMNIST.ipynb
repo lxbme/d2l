{
 "cells": [
  {
   "cell_type": "code",
   "execution_count": 1,
   "id": "initial_id",
   "metadata": {
    "collapsed": true,
    "ExecuteTime": {
     "end_time": "2024-07-19T11:49:30.876269Z",
     "start_time": "2024-07-19T11:49:30.705264Z"
    }
   },
   "outputs": [],
   "source": [
    "import pandas as pd\n",
    "import numpy as np"
   ]
  },
  {
   "cell_type": "code",
   "outputs": [],
   "source": [
    "df = pd.read_csv('../../data/emnist/emnist-balanced-train.csv',header=None)"
   ],
   "metadata": {
    "collapsed": false,
    "ExecuteTime": {
     "end_time": "2024-07-19T11:49:33.513432Z",
     "start_time": "2024-07-19T11:49:30.877443Z"
    }
   },
   "id": "5233aef5509c78b6",
   "execution_count": 2
  },
  {
   "cell_type": "code",
   "outputs": [
    {
     "data": {
      "text/plain": "   0    1    2    3    4    5    6    7    8    9    ...  775  776  777  778  \\\n0   45    0    0    0    0    0    0    0    0    0  ...    0    0    0    0   \n1   36    0    0    0    0    0    0    0    0    0  ...    0    0    0    0   \n2   43    0    0    0    0    0    0    0    0    0  ...    0    0    0    0   \n3   15    0    0    0    0    0    0    0    0    0  ...    0    0    0    0   \n4    4    0    0    0    0    0    0    0    0    0  ...    0    0    0    0   \n\n   779  780  781  782  783  784  \n0    0    0    0    0    0    0  \n1    0    0    0    0    0    0  \n2    0    0    0    0    0    0  \n3    0    0    0    0    0    0  \n4    0    0    0    0    0    0  \n\n[5 rows x 785 columns]",
      "text/html": "<div>\n<style scoped>\n    .dataframe tbody tr th:only-of-type {\n        vertical-align: middle;\n    }\n\n    .dataframe tbody tr th {\n        vertical-align: top;\n    }\n\n    .dataframe thead th {\n        text-align: right;\n    }\n</style>\n<table border=\"1\" class=\"dataframe\">\n  <thead>\n    <tr style=\"text-align: right;\">\n      <th></th>\n      <th>0</th>\n      <th>1</th>\n      <th>2</th>\n      <th>3</th>\n      <th>4</th>\n      <th>5</th>\n      <th>6</th>\n      <th>7</th>\n      <th>8</th>\n      <th>9</th>\n      <th>...</th>\n      <th>775</th>\n      <th>776</th>\n      <th>777</th>\n      <th>778</th>\n      <th>779</th>\n      <th>780</th>\n      <th>781</th>\n      <th>782</th>\n      <th>783</th>\n      <th>784</th>\n    </tr>\n  </thead>\n  <tbody>\n    <tr>\n      <th>0</th>\n      <td>45</td>\n      <td>0</td>\n      <td>0</td>\n      <td>0</td>\n      <td>0</td>\n      <td>0</td>\n      <td>0</td>\n      <td>0</td>\n      <td>0</td>\n      <td>0</td>\n      <td>...</td>\n      <td>0</td>\n      <td>0</td>\n      <td>0</td>\n      <td>0</td>\n      <td>0</td>\n      <td>0</td>\n      <td>0</td>\n      <td>0</td>\n      <td>0</td>\n      <td>0</td>\n    </tr>\n    <tr>\n      <th>1</th>\n      <td>36</td>\n      <td>0</td>\n      <td>0</td>\n      <td>0</td>\n      <td>0</td>\n      <td>0</td>\n      <td>0</td>\n      <td>0</td>\n      <td>0</td>\n      <td>0</td>\n      <td>...</td>\n      <td>0</td>\n      <td>0</td>\n      <td>0</td>\n      <td>0</td>\n      <td>0</td>\n      <td>0</td>\n      <td>0</td>\n      <td>0</td>\n      <td>0</td>\n      <td>0</td>\n    </tr>\n    <tr>\n      <th>2</th>\n      <td>43</td>\n      <td>0</td>\n      <td>0</td>\n      <td>0</td>\n      <td>0</td>\n      <td>0</td>\n      <td>0</td>\n      <td>0</td>\n      <td>0</td>\n      <td>0</td>\n      <td>...</td>\n      <td>0</td>\n      <td>0</td>\n      <td>0</td>\n      <td>0</td>\n      <td>0</td>\n      <td>0</td>\n      <td>0</td>\n      <td>0</td>\n      <td>0</td>\n      <td>0</td>\n    </tr>\n    <tr>\n      <th>3</th>\n      <td>15</td>\n      <td>0</td>\n      <td>0</td>\n      <td>0</td>\n      <td>0</td>\n      <td>0</td>\n      <td>0</td>\n      <td>0</td>\n      <td>0</td>\n      <td>0</td>\n      <td>...</td>\n      <td>0</td>\n      <td>0</td>\n      <td>0</td>\n      <td>0</td>\n      <td>0</td>\n      <td>0</td>\n      <td>0</td>\n      <td>0</td>\n      <td>0</td>\n      <td>0</td>\n    </tr>\n    <tr>\n      <th>4</th>\n      <td>4</td>\n      <td>0</td>\n      <td>0</td>\n      <td>0</td>\n      <td>0</td>\n      <td>0</td>\n      <td>0</td>\n      <td>0</td>\n      <td>0</td>\n      <td>0</td>\n      <td>...</td>\n      <td>0</td>\n      <td>0</td>\n      <td>0</td>\n      <td>0</td>\n      <td>0</td>\n      <td>0</td>\n      <td>0</td>\n      <td>0</td>\n      <td>0</td>\n      <td>0</td>\n    </tr>\n  </tbody>\n</table>\n<p>5 rows × 785 columns</p>\n</div>"
     },
     "execution_count": 3,
     "metadata": {},
     "output_type": "execute_result"
    }
   ],
   "source": [
    "df.head()"
   ],
   "metadata": {
    "collapsed": false,
    "ExecuteTime": {
     "end_time": "2024-07-19T11:49:33.524141Z",
     "start_time": "2024-07-19T11:49:33.514385Z"
    }
   },
   "id": "915d0aa038501bd2",
   "execution_count": 3
  },
  {
   "cell_type": "code",
   "outputs": [
    {
     "data": {
      "text/plain": "(112800, 785)"
     },
     "execution_count": 4,
     "metadata": {},
     "output_type": "execute_result"
    }
   ],
   "source": [
    "df.shape"
   ],
   "metadata": {
    "collapsed": false,
    "ExecuteTime": {
     "end_time": "2024-07-19T11:49:33.557748Z",
     "start_time": "2024-07-19T11:49:33.525225Z"
    }
   },
   "id": "f2c470fec369c7fa",
   "execution_count": 4
  },
  {
   "cell_type": "code",
   "outputs": [],
   "source": [
    "fig = df.iloc[0,:].to_numpy()[1:].reshape(28,28)"
   ],
   "metadata": {
    "collapsed": false,
    "ExecuteTime": {
     "end_time": "2024-07-19T11:49:33.563221Z",
     "start_time": "2024-07-19T11:49:33.559112Z"
    }
   },
   "id": "cfdaf4501c0d1d6c",
   "execution_count": 5
  },
  {
   "cell_type": "code",
   "outputs": [
    {
     "data": {
      "text/plain": "<matplotlib.image.AxesImage at 0x7f7977ed6a00>"
     },
     "execution_count": 6,
     "metadata": {},
     "output_type": "execute_result"
    },
    {
     "data": {
      "text/plain": "<Figure size 640x480 with 1 Axes>",
      "image/png": "[encoded data removed]"
     },
     "metadata": {},
     "output_type": "display_data"
    }
   ],
   "source": [
    "#show the image\n",
    "import matplotlib.pyplot as plt\n",
    "plt.imshow(fig.T)"
   ],
   "metadata": {
    "collapsed": false,
    "ExecuteTime": {
     "end_time": "2024-07-19T11:49:33.862945Z",
     "start_time": "2024-07-19T11:49:33.564290Z"
    }
   },
   "id": "fcc95c99721004bf",
   "execution_count": 6
  },
  {
   "cell_type": "code",
   "outputs": [],
   "source": [
    "#read mapping\n",
    "mapping = pd.read_csv('../../data/emnist/emnist-balanced-mapping.txt', delimiter = ' ', index_col = 0, header = None)"
   ],
   "metadata": {
    "collapsed": false,
    "ExecuteTime": {
     "end_time": "2024-07-19T11:49:33.867781Z",
     "start_time": "2024-07-19T11:49:33.863737Z"
    }
   },
   "id": "186663c429c1511f",
   "execution_count": 7
  },
  {
   "cell_type": "code",
   "outputs": [
    {
     "name": "stdout",
     "output_type": "stream",
     "text": [
      "r\n"
     ]
    }
   ],
   "source": [
    "# show image with label\n",
    "label = df.iloc[0,0]\n",
    "print(chr(int(mapping.loc[label].values)))"
   ],
   "metadata": {
    "collapsed": false,
    "ExecuteTime": {
     "end_time": "2024-07-19T11:49:33.883200Z",
     "start_time": "2024-07-19T11:49:33.869195Z"
    }
   },
   "id": "7964fbcc9a552a5",
   "execution_count": 8
  },
  {
   "cell_type": "code",
   "outputs": [],
   "source": [
    "# read test data\n",
    "df_test = pd.read_csv('../../data/emnist/emnist-balanced-test.csv')\n"
   ],
   "metadata": {
    "collapsed": false,
    "ExecuteTime": {
     "end_time": "2024-07-19T11:49:34.336897Z",
     "start_time": "2024-07-19T11:49:33.884647Z"
    }
   },
   "id": "2ce21929a1a5c685",
   "execution_count": 9
  },
  {
   "cell_type": "code",
   "outputs": [],
   "source": [
    "# split data\n",
    "X_train = df.iloc[:,1:].to_numpy()\n",
    "y_train = df.iloc[:,0].to_numpy()\n",
    "X_test = df_test.iloc[:,1:].to_numpy()\n",
    "y_test = df_test.iloc[:,0].to_numpy()"
   ],
   "metadata": {
    "collapsed": false,
    "ExecuteTime": {
     "end_time": "2024-07-19T11:49:34.343652Z",
     "start_time": "2024-07-19T11:49:34.340072Z"
    }
   },
   "id": "fa0a5b51f9b39dfd",
   "execution_count": 10
  },
  {
   "cell_type": "code",
   "outputs": [],
   "source": [
    "# one hot encoding for labels\n",
    "#y_train = pd.get_dummies(y_train).to_numpy()\n",
    "#y_test = pd.get_dummies(y_test).to_numpy()"
   ],
   "metadata": {
    "collapsed": false,
    "ExecuteTime": {
     "end_time": "2024-07-19T11:49:34.358302Z",
     "start_time": "2024-07-19T11:49:34.344391Z"
    }
   },
   "id": "b9866f6d4420dc7c",
   "execution_count": 11
  },
  {
   "cell_type": "code",
   "outputs": [],
   "source": [
    "# reshape data\n",
    "X_train = X_train.reshape(-1, 1, 28, 28)\n",
    "X_test = X_test.reshape(-1, 1, 28, 28)"
   ],
   "metadata": {
    "collapsed": false,
    "ExecuteTime": {
     "end_time": "2024-07-19T11:49:34.364471Z",
     "start_time": "2024-07-19T11:49:34.359568Z"
    }
   },
   "id": "7583c37bcf9fcbe2",
   "execution_count": 12
  },
  {
   "cell_type": "code",
   "outputs": [
    {
     "data": {
      "text/plain": "<matplotlib.image.AxesImage at 0x7f7977d549d0>"
     },
     "execution_count": 13,
     "metadata": {},
     "output_type": "execute_result"
    },
    {
     "data": {
      "text/plain": "<Figure size 640x480 with 1 Axes>",
      "image/png": "[encoded data removed]"
     },
     "metadata": {},
     "output_type": "display_data"
    }
   ],
   "source": [
    "#transpose data\n",
    "X_train = X_train.swapaxes(2, 3)\n",
    "X_test = X_test.swapaxes(2, 3)\n",
    "# display example\n",
    "plt.imshow(X_train[0].reshape(28,28))"
   ],
   "metadata": {
    "collapsed": false,
    "ExecuteTime": {
     "end_time": "2024-07-19T11:49:34.448475Z",
     "start_time": "2024-07-19T11:49:34.365393Z"
    }
   },
   "id": "b042e90056990c3f",
   "execution_count": 13
  },
  {
   "cell_type": "code",
   "outputs": [],
   "source": [
    "# normalize data\n",
    "X_train = X_train/255\n",
    "X_test = X_test/255"
   ],
   "metadata": {
    "collapsed": false,
    "ExecuteTime": {
     "end_time": "2024-07-19T11:49:34.637334Z",
     "start_time": "2024-07-19T11:49:34.449933Z"
    }
   },
   "id": "a33f5dd4aad09ef7",
   "execution_count": 14
  },
  {
   "cell_type": "code",
   "outputs": [],
   "source": [
    "import torch\n",
    "from torch.utils.data import DataLoader, Dataset\n",
    "from torch import nn\n",
    "from torch import optim\n",
    "from torch.nn import functional as F\n",
    "import d2l.torch as d2l"
   ],
   "metadata": {
    "collapsed": false,
    "ExecuteTime": {
     "end_time": "2024-07-19T11:49:35.787983Z",
     "start_time": "2024-07-19T11:49:34.638770Z"
    }
   },
   "id": "88a2a9f868659bf4",
   "execution_count": 15
  },
  {
   "cell_type": "code",
   "outputs": [],
   "source": [
    "# convert to tensor\n",
    "X_train = torch.tensor(X_train, dtype=torch.float32)\n",
    "y_train = torch.tensor(y_train, dtype=torch.long)\n",
    "X_test = torch.tensor(X_test, dtype=torch.float32)\n",
    "y_test = torch.tensor(y_test, dtype=torch.long)"
   ],
   "metadata": {
    "collapsed": false,
    "ExecuteTime": {
     "end_time": "2024-07-19T11:49:35.913267Z",
     "start_time": "2024-07-19T11:49:35.790279Z"
    }
   },
   "id": "479a46284ff04aa7",
   "execution_count": 16
  },
  {
   "cell_type": "code",
   "outputs": [],
   "source": [
    "import torchvision.transforms as transforms\n",
    "transform = transforms.Compose([\n",
    "    transforms.Resize((224, 224)),  # 调整图像大小到 224x224\n",
    "    transforms.ToTensor()           # 将图像转换为tensor\n",
    "])"
   ],
   "metadata": {
    "collapsed": false,
    "ExecuteTime": {
     "end_time": "2024-07-19T11:49:35.918556Z",
     "start_time": "2024-07-19T11:49:35.915117Z"
    }
   },
   "id": "d09c7575d5400ae0",
   "execution_count": 17
  },
  {
   "cell_type": "code",
   "outputs": [],
   "source": [
    "class EMNISTDataset(Dataset):\n",
    "    def __init__(self, X, y):\n",
    "        self.X = X\n",
    "        self.y = y\n",
    "    def __len__(self):\n",
    "        return len(self.y)\n",
    "    def __getitem__(self, idx):\n",
    "        return self.X[idx], self.y[idx]"
   ],
   "metadata": {
    "collapsed": false,
    "ExecuteTime": {
     "end_time": "2024-07-19T11:49:35.926140Z",
     "start_time": "2024-07-19T11:49:35.919606Z"
    }
   },
   "id": "b7a8ecb3f9949085",
   "execution_count": 18
  },
  {
   "cell_type": "code",
   "outputs": [],
   "source": [
    "# create dataset\n",
    "train_dataset = EMNISTDataset(X_train, y_train)\n",
    "test_dataset = EMNISTDataset(X_test, y_test)"
   ],
   "metadata": {
    "collapsed": false,
    "ExecuteTime": {
     "end_time": "2024-07-19T11:49:35.933777Z",
     "start_time": "2024-07-19T11:49:35.927047Z"
    }
   },
   "id": "c1b050e6a53c7f98",
   "execution_count": 19
  },
  {
   "cell_type": "code",
   "outputs": [],
   "source": [
    "# create dataloader\n",
    "batch_size = 128\n",
    "train_loader = DataLoader(train_dataset, batch_size=batch_size, shuffle=True)\n",
    "test_loader = DataLoader(test_dataset, batch_size=batch_size, shuffle=False)"
   ],
   "metadata": {
    "collapsed": false,
    "ExecuteTime": {
     "end_time": "2024-07-19T11:49:35.940007Z",
     "start_time": "2024-07-19T11:49:35.934499Z"
    }
   },
   "id": "52b0ca5c354b4f41",
   "execution_count": 20
  },
  {
   "cell_type": "markdown",
   "source": [
    "# define model"
   ],
   "metadata": {
    "collapsed": false
   },
   "id": "3866c389b9aa8075"
  },
  {
   "cell_type": "code",
   "outputs": [],
   "source": [
    "class Residual(nn.Module): \n",
    "    def __init__(self, input_channels, num_channels,\n",
    "                 use_1x1conv=False, strides=1):\n",
    "        super().__init__()\n",
    "        self.conv1 = nn.Conv2d(input_channels, num_channels,\n",
    "                               kernel_size=3, padding=1, stride=strides)\n",
    "        self.conv2 = nn.Conv2d(num_channels, num_channels,\n",
    "                               kernel_size=3, padding=1)\n",
    "        if use_1x1conv:\n",
    "            self.conv3 = nn.Conv2d(input_channels, num_channels,\n",
    "                                   kernel_size=1, stride=strides)\n",
    "        else:\n",
    "            self.conv3 = None\n",
    "        self.bn1 = nn.BatchNorm2d(num_channels)\n",
    "        self.bn2 = nn.BatchNorm2d(num_channels)\n",
    "\n",
    "    def forward(self, X):\n",
    "        Y = F.relu(self.bn1(self.conv1(X)))\n",
    "        Y = self.bn2(self.conv2(Y))\n",
    "        if self.conv3:\n",
    "            X = self.conv3(X)\n",
    "        Y += X\n",
    "        return F.relu(Y)"
   ],
   "metadata": {
    "collapsed": false,
    "ExecuteTime": {
     "end_time": "2024-07-19T11:49:35.946289Z",
     "start_time": "2024-07-19T11:49:35.940785Z"
    }
   },
   "id": "7c6f8df2429058bf",
   "execution_count": 21
  },
  {
   "cell_type": "code",
   "outputs": [],
   "source": [
    "b1 = nn.Sequential(nn.Conv2d(1, 64, kernel_size=3, stride=1, padding=1),\n",
    "                   nn.BatchNorm2d(64), nn.ReLU(),\n",
    "                   nn.MaxPool2d(kernel_size=2, stride=2, padding=1))"
   ],
   "metadata": {
    "collapsed": false,
    "ExecuteTime": {
     "end_time": "2024-07-19T11:49:35.952746Z",
     "start_time": "2024-07-19T11:49:35.947500Z"
    }
   },
   "id": "17128628723e790b",
   "execution_count": 22
  },
  {
   "cell_type": "code",
   "outputs": [],
   "source": [
    "def resnet_block(input_channels, num_channels, num_residuals,\n",
    "                 first_block=False):\n",
    "    blk = []\n",
    "    for i in range(num_residuals):\n",
    "        if i == 0 and not first_block:\n",
    "            blk.append(Residual(input_channels, num_channels,\n",
    "                                use_1x1conv=True, strides=2))\n",
    "        else:\n",
    "            blk.append(Residual(num_channels, num_channels))\n",
    "    return blk"
   ],
   "metadata": {
    "collapsed": false,
    "ExecuteTime": {
     "end_time": "2024-07-19T11:49:35.957729Z",
     "start_time": "2024-07-19T11:49:35.953635Z"
    }
   },
   "id": "7d0c19b867558688",
   "execution_count": 23
  },
  {
   "cell_type": "code",
   "outputs": [],
   "source": [
    "b2 = nn.Sequential(*resnet_block(64, 64, 2, first_block=True))\n",
    "b3 = nn.Sequential(*resnet_block(64, 128, 2))\n",
    "b4 = nn.Sequential(*resnet_block(128, 256, 2))"
   ],
   "metadata": {
    "collapsed": false,
    "ExecuteTime": {
     "end_time": "2024-07-19T11:49:35.976533Z",
     "start_time": "2024-07-19T11:49:35.958640Z"
    }
   },
   "id": "37ef8bef2f0c2374",
   "execution_count": 24
  },
  {
   "cell_type": "code",
   "outputs": [],
   "source": [
    "net = nn.Sequential(b1, b2, b3, b4,\n",
    "                    nn.AdaptiveAvgPool2d((1,1)),\n",
    "                    nn.Flatten(), \n",
    "                    nn.Linear(256, 47))"
   ],
   "metadata": {
    "collapsed": false,
    "ExecuteTime": {
     "end_time": "2024-07-19T11:49:35.979992Z",
     "start_time": "2024-07-19T11:49:35.977418Z"
    }
   },
   "id": "5cf044a0c713615f",
   "execution_count": 25
  },
  {
   "cell_type": "code",
   "outputs": [
    {
     "name": "stdout",
     "output_type": "stream",
     "text": [
      "Sequential output shape:\t torch.Size([1, 64, 15, 15])\n",
      "Sequential output shape:\t torch.Size([1, 64, 15, 15])\n",
      "Sequential output shape:\t torch.Size([1, 128, 8, 8])\n",
      "Sequential output shape:\t torch.Size([1, 256, 4, 4])\n",
      "AdaptiveAvgPool2d output shape:\t torch.Size([1, 256, 1, 1])\n",
      "Flatten output shape:\t torch.Size([1, 256])\n",
      "Linear output shape:\t torch.Size([1, 47])\n"
     ]
    },
    {
     "data": {
      "text/plain": "tensor([[ 0.3183, -0.2366,  0.4033,  0.6249,  0.2842, -0.7843, -0.8579,  0.9398,\n          0.7371,  0.1122, -0.0153, -1.0219,  0.1152, -0.3305,  0.3747, -0.2443,\n         -0.2028, -0.5191,  0.5866, -0.3000, -0.6292, -0.4383,  0.2166, -0.2164,\n          0.7738, -0.6142, -0.2567,  0.4823,  0.7942, -0.6395, -0.0826,  0.4470,\n          0.3563,  0.4413,  0.3344, -0.3261,  0.0900, -0.4939, -0.0597,  0.4270,\n          0.6576,  0.2224, -0.9409,  0.3533,  0.2435,  0.2164, -0.4284]],\n       grad_fn=<AddmmBackward0>)"
     },
     "execution_count": 26,
     "metadata": {},
     "output_type": "execute_result"
    }
   ],
   "source": [
    "x = torch.rand((1,1,28,28))\n",
    "for layer in net:\n",
    "    x = layer(x)\n",
    "    print(type(layer).__name__,'output shape:\\t', x.shape)\n",
    "x"
   ],
   "metadata": {
    "collapsed": false,
    "ExecuteTime": {
     "end_time": "2024-07-19T11:49:35.996334Z",
     "start_time": "2024-07-19T11:49:35.980909Z"
    }
   },
   "id": "b3d7e8e1c42c9a6c",
   "execution_count": 26
  },
  {
   "cell_type": "code",
   "outputs": [
    {
     "name": "stdout",
     "output_type": "stream",
     "text": [
      "loss 0.157, train acc 0.936, test acc 0.866\n",
      "9473.3 examples/sec on cuda:0\n"
     ]
    },
    {
     "data": {
      "text/plain": "<Figure size 350x250 with 1 Axes>",
      "image/svg+xml": "<?xml version=\"1.0\" encoding=\"utf-8\" standalone=\"no\"?>\n<!DOCTYPE svg PUBLIC \"-//W3C//DTD SVG 1.1//EN\"\n  \"http://www.w3.org/Graphics/SVG/1.1/DTD/svg11.dtd\">\n<svg xmlns:xlink=\"http://www.w3.org/1999/xlink\" width=\"245.328125pt\" height=\"183.35625pt\" viewBox=\"0 0 245.328125 183.35625\" xmlns=\"http://www.w3.org/2000/svg\" version=\"1.1\">\n <metadata>\n  <rdf:RDF xmlns:dc=\"http://purl.org/dc/elements/1.1/\" xmlns:cc=\"http://creativecommons.org/ns#\" xmlns:rdf=\"http://www.w3.org/1999/02/22-rdf-syntax-ns#\">\n   <cc:Work>\n    <dc:type rdf:resource=\"http://purl.org/dc/dcmitype/StillImage\"/>\n    <dc:date>2024-07-19T19:52:04.444384</dc:date>\n    <dc:format>image/svg+xml</dc:format>\n    <dc:creator>\n     <cc:Agent>\n      <dc:title>Matplotlib v3.7.2, https://matplotlib.org/</dc:title>\n     </cc:Agent>\n    </dc:creator>\n   </cc:Work>\n  </rdf:RDF>\n </metadata>\n <defs>\n  <style type=\"text/css\">*{stroke-linejoin: round; stroke-linecap: butt}</style>\n </defs>\n <g id=\"figure_1\">\n  <g id=\"patch_1\">\n   <path d=\"M 0 183.35625 \nL 245.328125 183.35625 \nL 245.328125 0 \nL 0 0 \nz\n\" style=\"fill: #ffffff\"/>\n  </g>\n  <g id=\"axes_1\">\n   <g id=\"patch_2\">\n    <path d=\"M 36.465625 145.8 \nL 231.765625 145.8 \nL 231.765625 7.2 \nL 36.465625 7.2 \nz\n\" style=\"fill: #ffffff\"/>\n   </g>\n   <g id=\"matplotlib.axis_1\">\n    <g id=\"xtick_1\">\n     <g id=\"line2d_1\">\n      <path d=\"M 58.165625 145.8 \nL 58.165625 7.2 \n\" clip-path=\"url(#p3db3090c02)\" style=\"fill: none; stroke: #b0b0b0; stroke-width: 0.8; stroke-linecap: square\"/>\n     </g>\n     <g id=\"line2d_2\">\n      <defs>\n       <path id=\"m425a24efea\" d=\"M 0 0 \nL 0 3.5 \n\" style=\"stroke: #000000; stroke-width: 0.8\"/>\n      </defs>\n      <g>\n       <use xlink:href=\"#m425a24efea\" x=\"58.165625\" y=\"145.8\" style=\"stroke: #000000; stroke-width: 0.8\"/>\n      </g>\n     </g>\n     <g id=\"text_1\">\n      <!-- 2 -->\n      <g transform=\"translate(54.984375 160.398438) scale(0.1 -0.1)\">\n       <defs>\n        <path id=\"DejaVuSans-32\" d=\"M 1228 531 \nL 3431 531 \nL 3431 0 \nL 469 0 \nL 469 531 \nQ 828 903 1448 1529 \nQ 2069 2156 2228 2338 \nQ 2531 2678 2651 2914 \nQ 2772 3150 2772 3378 \nQ 2772 3750 2511 3984 \nQ 2250 4219 1831 4219 \nQ 1534 4219 1204 4116 \nQ 875 4013 500 3803 \nL 500 4441 \nQ 881 4594 1212 4672 \nQ 1544 4750 1819 4750 \nQ 2544 4750 2975 4387 \nQ 3406 4025 3406 3419 \nQ 3406 3131 3298 2873 \nQ 3191 2616 2906 2266 \nQ 2828 2175 2409 1742 \nQ 1991 1309 1228 531 \nz\n\" transform=\"scale(0.015625)\"/>\n       </defs>\n       <use xlink:href=\"#DejaVuSans-32\"/>\n      </g>\n     </g>\n    </g>\n    <g id=\"xtick_2\">\n     <g id=\"line2d_3\">\n      <path d=\"M 101.565625 145.8 \nL 101.565625 7.2 \n\" clip-path=\"url(#p3db3090c02)\" style=\"fill: none; stroke: #b0b0b0; stroke-width: 0.8; stroke-linecap: square\"/>\n     </g>\n     <g id=\"line2d_4\">\n      <g>\n       <use xlink:href=\"#m425a24efea\" x=\"101.565625\" y=\"145.8\" style=\"stroke: #000000; stroke-width: 0.8\"/>\n      </g>\n     </g>\n     <g id=\"text_2\">\n      <!-- 4 -->\n      <g transform=\"translate(98.384375 160.398438) scale(0.1 -0.1)\">\n       <defs>\n        <path id=\"DejaVuSans-34\" d=\"M 2419 4116 \nL 825 1625 \nL 2419 1625 \nL 2419 4116 \nz\nM 2253 4666 \nL 3047 4666 \nL 3047 1625 \nL 3713 1625 \nL 3713 1100 \nL 3047 1100 \nL 3047 0 \nL 2419 0 \nL 2419 1100 \nL 313 1100 \nL 313 1709 \nL 2253 4666 \nz\n\" transform=\"scale(0.015625)\"/>\n       </defs>\n       <use xlink:href=\"#DejaVuSans-34\"/>\n      </g>\n     </g>\n    </g>\n    <g id=\"xtick_3\">\n     <g id=\"line2d_5\">\n      <path d=\"M 144.965625 145.8 \nL 144.965625 7.2 \n\" clip-path=\"url(#p3db3090c02)\" style=\"fill: none; stroke: #b0b0b0; stroke-width: 0.8; stroke-linecap: square\"/>\n     </g>\n     <g id=\"line2d_6\">\n      <g>\n       <use xlink:href=\"#m425a24efea\" x=\"144.965625\" y=\"145.8\" style=\"stroke: #000000; stroke-width: 0.8\"/>\n      </g>\n     </g>\n     <g id=\"text_3\">\n      <!-- 6 -->\n      <g transform=\"translate(141.784375 160.398438) scale(0.1 -0.1)\">\n       <defs>\n        <path id=\"DejaVuSans-36\" d=\"M 2113 2584 \nQ 1688 2584 1439 2293 \nQ 1191 2003 1191 1497 \nQ 1191 994 1439 701 \nQ 1688 409 2113 409 \nQ 2538 409 2786 701 \nQ 3034 994 3034 1497 \nQ 3034 2003 2786 2293 \nQ 2538 2584 2113 2584 \nz\nM 3366 4563 \nL 3366 3988 \nQ 3128 4100 2886 4159 \nQ 2644 4219 2406 4219 \nQ 1781 4219 1451 3797 \nQ 1122 3375 1075 2522 \nQ 1259 2794 1537 2939 \nQ 1816 3084 2150 3084 \nQ 2853 3084 3261 2657 \nQ 3669 2231 3669 1497 \nQ 3669 778 3244 343 \nQ 2819 -91 2113 -91 \nQ 1303 -91 875 529 \nQ 447 1150 447 2328 \nQ 447 3434 972 4092 \nQ 1497 4750 2381 4750 \nQ 2619 4750 2861 4703 \nQ 3103 4656 3366 4563 \nz\n\" transform=\"scale(0.015625)\"/>\n       </defs>\n       <use xlink:href=\"#DejaVuSans-36\"/>\n      </g>\n     </g>\n    </g>\n    <g id=\"xtick_4\">\n     <g id=\"line2d_7\">\n      <path d=\"M 188.365625 145.8 \nL 188.365625 7.2 \n\" clip-path=\"url(#p3db3090c02)\" style=\"fill: none; stroke: #b0b0b0; stroke-width: 0.8; stroke-linecap: square\"/>\n     </g>\n     <g id=\"line2d_8\">\n      <g>\n       <use xlink:href=\"#m425a24efea\" x=\"188.365625\" y=\"145.8\" style=\"stroke: #000000; stroke-width: 0.8\"/>\n      </g>\n     </g>\n     <g id=\"text_4\">\n      <!-- 8 -->\n      <g transform=\"translate(185.184375 160.398438) scale(0.1 -0.1)\">\n       <defs>\n        <path id=\"DejaVuSans-38\" d=\"M 2034 2216 \nQ 1584 2216 1326 1975 \nQ 1069 1734 1069 1313 \nQ 1069 891 1326 650 \nQ 1584 409 2034 409 \nQ 2484 409 2743 651 \nQ 3003 894 3003 1313 \nQ 3003 1734 2745 1975 \nQ 2488 2216 2034 2216 \nz\nM 1403 2484 \nQ 997 2584 770 2862 \nQ 544 3141 544 3541 \nQ 544 4100 942 4425 \nQ 1341 4750 2034 4750 \nQ 2731 4750 3128 4425 \nQ 3525 4100 3525 3541 \nQ 3525 3141 3298 2862 \nQ 3072 2584 2669 2484 \nQ 3125 2378 3379 2068 \nQ 3634 1759 3634 1313 \nQ 3634 634 3220 271 \nQ 2806 -91 2034 -91 \nQ 1263 -91 848 271 \nQ 434 634 434 1313 \nQ 434 1759 690 2068 \nQ 947 2378 1403 2484 \nz\nM 1172 3481 \nQ 1172 3119 1398 2916 \nQ 1625 2713 2034 2713 \nQ 2441 2713 2670 2916 \nQ 2900 3119 2900 3481 \nQ 2900 3844 2670 4047 \nQ 2441 4250 2034 4250 \nQ 1625 4250 1398 4047 \nQ 1172 3844 1172 3481 \nz\n\" transform=\"scale(0.015625)\"/>\n       </defs>\n       <use xlink:href=\"#DejaVuSans-38\"/>\n      </g>\n     </g>\n    </g>\n    <g id=\"xtick_5\">\n     <g id=\"line2d_9\">\n      <path d=\"M 231.765625 145.8 \nL 231.765625 7.2 \n\" clip-path=\"url(#p3db3090c02)\" style=\"fill: none; stroke: #b0b0b0; stroke-width: 0.8; stroke-linecap: square\"/>\n     </g>\n     <g id=\"line2d_10\">\n      <g>\n       <use xlink:href=\"#m425a24efea\" x=\"231.765625\" y=\"145.8\" style=\"stroke: #000000; stroke-width: 0.8\"/>\n      </g>\n     </g>\n     <g id=\"text_5\">\n      <!-- 10 -->\n      <g transform=\"translate(225.403125 160.398438) scale(0.1 -0.1)\">\n       <defs>\n        <path id=\"DejaVuSans-31\" d=\"M 794 531 \nL 1825 531 \nL 1825 4091 \nL 703 3866 \nL 703 4441 \nL 1819 4666 \nL 2450 4666 \nL 2450 531 \nL 3481 531 \nL 3481 0 \nL 794 0 \nL 794 531 \nz\n\" transform=\"scale(0.015625)\"/>\n        <path id=\"DejaVuSans-30\" d=\"M 2034 4250 \nQ 1547 4250 1301 3770 \nQ 1056 3291 1056 2328 \nQ 1056 1369 1301 889 \nQ 1547 409 2034 409 \nQ 2525 409 2770 889 \nQ 3016 1369 3016 2328 \nQ 3016 3291 2770 3770 \nQ 2525 4250 2034 4250 \nz\nM 2034 4750 \nQ 2819 4750 3233 4129 \nQ 3647 3509 3647 2328 \nQ 3647 1150 3233 529 \nQ 2819 -91 2034 -91 \nQ 1250 -91 836 529 \nQ 422 1150 422 2328 \nQ 422 3509 836 4129 \nQ 1250 4750 2034 4750 \nz\n\" transform=\"scale(0.015625)\"/>\n       </defs>\n       <use xlink:href=\"#DejaVuSans-31\"/>\n       <use xlink:href=\"#DejaVuSans-30\" x=\"63.623047\"/>\n      </g>\n     </g>\n    </g>\n    <g id=\"text_6\">\n     <!-- epoch -->\n     <g transform=\"translate(118.8875 174.076563) scale(0.1 -0.1)\">\n      <defs>\n       <path id=\"DejaVuSans-65\" d=\"M 3597 1894 \nL 3597 1613 \nL 953 1613 \nQ 991 1019 1311 708 \nQ 1631 397 2203 397 \nQ 2534 397 2845 478 \nQ 3156 559 3463 722 \nL 3463 178 \nQ 3153 47 2828 -22 \nQ 2503 -91 2169 -91 \nQ 1331 -91 842 396 \nQ 353 884 353 1716 \nQ 353 2575 817 3079 \nQ 1281 3584 2069 3584 \nQ 2775 3584 3186 3129 \nQ 3597 2675 3597 1894 \nz\nM 3022 2063 \nQ 3016 2534 2758 2815 \nQ 2500 3097 2075 3097 \nQ 1594 3097 1305 2825 \nQ 1016 2553 972 2059 \nL 3022 2063 \nz\n\" transform=\"scale(0.015625)\"/>\n       <path id=\"DejaVuSans-70\" d=\"M 1159 525 \nL 1159 -1331 \nL 581 -1331 \nL 581 3500 \nL 1159 3500 \nL 1159 2969 \nQ 1341 3281 1617 3432 \nQ 1894 3584 2278 3584 \nQ 2916 3584 3314 3078 \nQ 3713 2572 3713 1747 \nQ 3713 922 3314 415 \nQ 2916 -91 2278 -91 \nQ 1894 -91 1617 61 \nQ 1341 213 1159 525 \nz\nM 3116 1747 \nQ 3116 2381 2855 2742 \nQ 2594 3103 2138 3103 \nQ 1681 3103 1420 2742 \nQ 1159 2381 1159 1747 \nQ 1159 1113 1420 752 \nQ 1681 391 2138 391 \nQ 2594 391 2855 752 \nQ 3116 1113 3116 1747 \nz\n\" transform=\"scale(0.015625)\"/>\n       <path id=\"DejaVuSans-6f\" d=\"M 1959 3097 \nQ 1497 3097 1228 2736 \nQ 959 2375 959 1747 \nQ 959 1119 1226 758 \nQ 1494 397 1959 397 \nQ 2419 397 2687 759 \nQ 2956 1122 2956 1747 \nQ 2956 2369 2687 2733 \nQ 2419 3097 1959 3097 \nz\nM 1959 3584 \nQ 2709 3584 3137 3096 \nQ 3566 2609 3566 1747 \nQ 3566 888 3137 398 \nQ 2709 -91 1959 -91 \nQ 1206 -91 779 398 \nQ 353 888 353 1747 \nQ 353 2609 779 3096 \nQ 1206 3584 1959 3584 \nz\n\" transform=\"scale(0.015625)\"/>\n       <path id=\"DejaVuSans-63\" d=\"M 3122 3366 \nL 3122 2828 \nQ 2878 2963 2633 3030 \nQ 2388 3097 2138 3097 \nQ 1578 3097 1268 2742 \nQ 959 2388 959 1747 \nQ 959 1106 1268 751 \nQ 1578 397 2138 397 \nQ 2388 397 2633 464 \nQ 2878 531 3122 666 \nL 3122 134 \nQ 2881 22 2623 -34 \nQ 2366 -91 2075 -91 \nQ 1284 -91 818 406 \nQ 353 903 353 1747 \nQ 353 2603 823 3093 \nQ 1294 3584 2113 3584 \nQ 2378 3584 2631 3529 \nQ 2884 3475 3122 3366 \nz\n\" transform=\"scale(0.015625)\"/>\n       <path id=\"DejaVuSans-68\" d=\"M 3513 2113 \nL 3513 0 \nL 2938 0 \nL 2938 2094 \nQ 2938 2591 2744 2837 \nQ 2550 3084 2163 3084 \nQ 1697 3084 1428 2787 \nQ 1159 2491 1159 1978 \nL 1159 0 \nL 581 0 \nL 581 4863 \nL 1159 4863 \nL 1159 2956 \nQ 1366 3272 1645 3428 \nQ 1925 3584 2291 3584 \nQ 2894 3584 3203 3211 \nQ 3513 2838 3513 2113 \nz\n\" transform=\"scale(0.015625)\"/>\n      </defs>\n      <use xlink:href=\"#DejaVuSans-65\"/>\n      <use xlink:href=\"#DejaVuSans-70\" x=\"61.523438\"/>\n      <use xlink:href=\"#DejaVuSans-6f\" x=\"125\"/>\n      <use xlink:href=\"#DejaVuSans-63\" x=\"186.181641\"/>\n      <use xlink:href=\"#DejaVuSans-68\" x=\"241.162109\"/>\n     </g>\n    </g>\n   </g>\n   <g id=\"matplotlib.axis_2\">\n    <g id=\"ytick_1\">\n     <g id=\"line2d_11\">\n      <path d=\"M 36.465625 128.982171 \nL 231.765625 128.982171 \n\" clip-path=\"url(#p3db3090c02)\" style=\"fill: none; stroke: #b0b0b0; stroke-width: 0.8; stroke-linecap: square\"/>\n     </g>\n     <g id=\"line2d_12\">\n      <defs>\n       <path id=\"m4739f6e2c2\" d=\"M 0 0 \nL -3.5 0 \n\" style=\"stroke: #000000; stroke-width: 0.8\"/>\n      </defs>\n      <g>\n       <use xlink:href=\"#m4739f6e2c2\" x=\"36.465625\" y=\"128.982171\" style=\"stroke: #000000; stroke-width: 0.8\"/>\n      </g>\n     </g>\n     <g id=\"text_7\">\n      <!-- 0.25 -->\n      <g transform=\"translate(7.2 132.78139) scale(0.1 -0.1)\">\n       <defs>\n        <path id=\"DejaVuSans-2e\" d=\"M 684 794 \nL 1344 794 \nL 1344 0 \nL 684 0 \nL 684 794 \nz\n\" transform=\"scale(0.015625)\"/>\n        <path id=\"DejaVuSans-35\" d=\"M 691 4666 \nL 3169 4666 \nL 3169 4134 \nL 1269 4134 \nL 1269 2991 \nQ 1406 3038 1543 3061 \nQ 1681 3084 1819 3084 \nQ 2600 3084 3056 2656 \nQ 3513 2228 3513 1497 \nQ 3513 744 3044 326 \nQ 2575 -91 1722 -91 \nQ 1428 -91 1123 -41 \nQ 819 9 494 109 \nL 494 744 \nQ 775 591 1075 516 \nQ 1375 441 1709 441 \nQ 2250 441 2565 725 \nQ 2881 1009 2881 1497 \nQ 2881 1984 2565 2268 \nQ 2250 2553 1709 2553 \nQ 1456 2553 1204 2497 \nQ 953 2441 691 2322 \nL 691 4666 \nz\n\" transform=\"scale(0.015625)\"/>\n       </defs>\n       <use xlink:href=\"#DejaVuSans-30\"/>\n       <use xlink:href=\"#DejaVuSans-2e\" x=\"63.623047\"/>\n       <use xlink:href=\"#DejaVuSans-32\" x=\"95.410156\"/>\n       <use xlink:href=\"#DejaVuSans-35\" x=\"159.033203\"/>\n      </g>\n     </g>\n    </g>\n    <g id=\"ytick_2\">\n     <g id=\"line2d_13\">\n      <path d=\"M 36.465625 102.60111 \nL 231.765625 102.60111 \n\" clip-path=\"url(#p3db3090c02)\" style=\"fill: none; stroke: #b0b0b0; stroke-width: 0.8; stroke-linecap: square\"/>\n     </g>\n     <g id=\"line2d_14\">\n      <g>\n       <use xlink:href=\"#m4739f6e2c2\" x=\"36.465625\" y=\"102.60111\" style=\"stroke: #000000; stroke-width: 0.8\"/>\n      </g>\n     </g>\n     <g id=\"text_8\">\n      <!-- 0.50 -->\n      <g transform=\"translate(7.2 106.400329) scale(0.1 -0.1)\">\n       <use xlink:href=\"#DejaVuSans-30\"/>\n       <use xlink:href=\"#DejaVuSans-2e\" x=\"63.623047\"/>\n       <use xlink:href=\"#DejaVuSans-35\" x=\"95.410156\"/>\n       <use xlink:href=\"#DejaVuSans-30\" x=\"159.033203\"/>\n      </g>\n     </g>\n    </g>\n    <g id=\"ytick_3\">\n     <g id=\"line2d_15\">\n      <path d=\"M 36.465625 76.220048 \nL 231.765625 76.220048 \n\" clip-path=\"url(#p3db3090c02)\" style=\"fill: none; stroke: #b0b0b0; stroke-width: 0.8; stroke-linecap: square\"/>\n     </g>\n     <g id=\"line2d_16\">\n      <g>\n       <use xlink:href=\"#m4739f6e2c2\" x=\"36.465625\" y=\"76.220048\" style=\"stroke: #000000; stroke-width: 0.8\"/>\n      </g>\n     </g>\n     <g id=\"text_9\">\n      <!-- 0.75 -->\n      <g transform=\"translate(7.2 80.019267) scale(0.1 -0.1)\">\n       <defs>\n        <path id=\"DejaVuSans-37\" d=\"M 525 4666 \nL 3525 4666 \nL 3525 4397 \nL 1831 0 \nL 1172 0 \nL 2766 4134 \nL 525 4134 \nL 525 4666 \nz\n\" transform=\"scale(0.015625)\"/>\n       </defs>\n       <use xlink:href=\"#DejaVuSans-30\"/>\n       <use xlink:href=\"#DejaVuSans-2e\" x=\"63.623047\"/>\n       <use xlink:href=\"#DejaVuSans-37\" x=\"95.410156\"/>\n       <use xlink:href=\"#DejaVuSans-35\" x=\"159.033203\"/>\n      </g>\n     </g>\n    </g>\n    <g id=\"ytick_4\">\n     <g id=\"line2d_17\">\n      <path d=\"M 36.465625 49.838987 \nL 231.765625 49.838987 \n\" clip-path=\"url(#p3db3090c02)\" style=\"fill: none; stroke: #b0b0b0; stroke-width: 0.8; stroke-linecap: square\"/>\n     </g>\n     <g id=\"line2d_18\">\n      <g>\n       <use xlink:href=\"#m4739f6e2c2\" x=\"36.465625\" y=\"49.838987\" style=\"stroke: #000000; stroke-width: 0.8\"/>\n      </g>\n     </g>\n     <g id=\"text_10\">\n      <!-- 1.00 -->\n      <g transform=\"translate(7.2 53.638205) scale(0.1 -0.1)\">\n       <use xlink:href=\"#DejaVuSans-31\"/>\n       <use xlink:href=\"#DejaVuSans-2e\" x=\"63.623047\"/>\n       <use xlink:href=\"#DejaVuSans-30\" x=\"95.410156\"/>\n       <use xlink:href=\"#DejaVuSans-30\" x=\"159.033203\"/>\n      </g>\n     </g>\n    </g>\n    <g id=\"ytick_5\">\n     <g id=\"line2d_19\">\n      <path d=\"M 36.465625 23.457925 \nL 231.765625 23.457925 \n\" clip-path=\"url(#p3db3090c02)\" style=\"fill: none; stroke: #b0b0b0; stroke-width: 0.8; stroke-linecap: square\"/>\n     </g>\n     <g id=\"line2d_20\">\n      <g>\n       <use xlink:href=\"#m4739f6e2c2\" x=\"36.465625\" y=\"23.457925\" style=\"stroke: #000000; stroke-width: 0.8\"/>\n      </g>\n     </g>\n     <g id=\"text_11\">\n      <!-- 1.25 -->\n      <g transform=\"translate(7.2 27.257144) scale(0.1 -0.1)\">\n       <use xlink:href=\"#DejaVuSans-31\"/>\n       <use xlink:href=\"#DejaVuSans-2e\" x=\"63.623047\"/>\n       <use xlink:href=\"#DejaVuSans-32\" x=\"95.410156\"/>\n       <use xlink:href=\"#DejaVuSans-35\" x=\"159.033203\"/>\n      </g>\n     </g>\n    </g>\n   </g>\n   <g id=\"line2d_21\">\n    <path d=\"M 19.095784 13.5 \nL 23.425942 56.341007 \nL 27.756101 73.497239 \nL 32.08626 83.407846 \nL 36.416419 89.737682 \nL 36.465625 89.787641 \nL 40.795784 118.903895 \nL 45.125942 119.302544 \nL 49.456101 119.61426 \nL 53.78626 119.965856 \nL 58.116419 120.135362 \nL 58.165625 120.144011 \nL 62.495784 124.245147 \nL 66.825942 124.193146 \nL 71.156101 124.512313 \nL 75.48626 124.512352 \nL 79.816419 124.571199 \nL 79.865625 124.584278 \nL 84.195784 127.923186 \nL 88.525942 127.485449 \nL 92.856101 127.555127 \nL 97.18626 127.657319 \nL 101.516419 127.672437 \nL 101.565625 127.681028 \nL 105.895784 130.324535 \nL 110.225942 130.724899 \nL 114.556101 130.253158 \nL 118.88626 130.279345 \nL 123.216419 130.031601 \nL 123.265625 130.03248 \nL 127.595784 132.582733 \nL 131.925942 132.219528 \nL 136.256101 132.303831 \nL 140.58626 132.125111 \nL 144.916419 132.004707 \nL 144.965625 132.011209 \nL 149.295784 135.204796 \nL 153.625942 134.487007 \nL 157.956101 134.336513 \nL 162.28626 134.075179 \nL 166.616419 133.814789 \nL 166.665625 133.806114 \nL 170.995784 136.367372 \nL 175.325942 136.094625 \nL 179.656101 135.898891 \nL 183.98626 135.836419 \nL 188.316419 135.619298 \nL 188.365625 135.604086 \nL 192.695784 138.773615 \nL 197.025942 138.199926 \nL 201.356101 137.934304 \nL 205.68626 137.560656 \nL 210.016419 137.332589 \nL 210.065625 137.334526 \nL 214.395784 139.5 \nL 218.725942 139.440456 \nL 223.056101 139.29492 \nL 227.38626 138.926073 \nL 231.716419 138.83178 \nL 231.765625 138.83219 \n\" clip-path=\"url(#p3db3090c02)\" style=\"fill: none; stroke: #1f77b4; stroke-width: 1.5; stroke-linecap: square\"/>\n   </g>\n   <g id=\"line2d_22\">\n    <path d=\"M 19.095784 86.459572 \nL 23.425942 77.384056 \nL 27.756101 73.623475 \nL 32.08626 71.408268 \nL 36.416419 70.007945 \nL 36.465625 69.991498 \nL 40.795784 62.734417 \nL 45.125942 62.814047 \nL 49.456101 62.781258 \nL 53.78626 62.650102 \nL 58.116419 62.65666 \nL 58.165625 62.65064 \nL 62.495784 61.736696 \nL 66.825942 61.486094 \nL 71.156101 61.330737 \nL 75.48626 61.290531 \nL 79.816419 61.302944 \nL 79.865625 61.297909 \nL 84.195784 60.181562 \nL 88.525942 60.397032 \nL 92.856101 60.318963 \nL 97.18626 60.293981 \nL 101.516419 60.277118 \nL 101.565625 60.272603 \nL 105.895784 59.596045 \nL 110.225942 59.340759 \nL 114.556101 59.496116 \nL 118.88626 59.517585 \nL 123.216419 59.57075 \nL 123.265625 59.570043 \nL 127.595784 59.066737 \nL 131.925942 59.052685 \nL 136.256101 59.019896 \nL 140.58626 59.048001 \nL 144.916419 59.015212 \nL 144.965625 59.014357 \nL 149.295784 57.727074 \nL 153.625942 58.08541 \nL 157.956101 58.090875 \nL 162.28626 58.238816 \nL 166.616419 58.328517 \nL 166.665625 58.335185 \nL 170.995784 57.324238 \nL 175.325942 57.453052 \nL 179.656101 57.539708 \nL 183.98626 57.557274 \nL 188.316419 57.68398 \nL 188.365625 57.689691 \nL 192.695784 56.387411 \nL 197.025942 56.619275 \nL 201.356101 56.746528 \nL 205.68626 56.957704 \nL 210.016419 57.0994 \nL 210.065625 57.099392 \nL 214.395784 56.237518 \nL 218.725942 56.303096 \nL 223.056101 56.385849 \nL 227.38626 56.546671 \nL 231.716419 56.564471 \nL 231.765625 56.564286 \n\" clip-path=\"url(#p3db3090c02)\" style=\"fill: none; stroke-dasharray: 5.55,2.4; stroke-dashoffset: 0; stroke: #bf00bf; stroke-width: 1.5\"/>\n   </g>\n   <g id=\"line2d_23\">\n    <path d=\"M 36.465625 66.909003 \nL 58.165625 70.720427 \nL 79.865625 64.742273 \nL 101.565625 63.574708 \nL 123.265625 63.176165 \nL 144.965625 62.446437 \nL 166.665625 62.356624 \nL 188.365625 65.763892 \nL 210.065625 62.704648 \nL 231.765625 63.962025 \n\" clip-path=\"url(#p3db3090c02)\" style=\"fill: none; stroke-dasharray: 9.6,2.4,1.5,2.4; stroke-dashoffset: 0; stroke: #008000; stroke-width: 1.5\"/>\n   </g>\n   <g id=\"patch_3\">\n    <path d=\"M 36.465625 145.8 \nL 36.465625 7.2 \n\" style=\"fill: none; stroke: #000000; stroke-width: 0.8; stroke-linejoin: miter; stroke-linecap: square\"/>\n   </g>\n   <g id=\"patch_4\">\n    <path d=\"M 231.765625 145.8 \nL 231.765625 7.2 \n\" style=\"fill: none; stroke: #000000; stroke-width: 0.8; stroke-linejoin: miter; stroke-linecap: square\"/>\n   </g>\n   <g id=\"patch_5\">\n    <path d=\"M 36.465625 145.8 \nL 231.765625 145.8 \n\" style=\"fill: none; stroke: #000000; stroke-width: 0.8; stroke-linejoin: miter; stroke-linecap: square\"/>\n   </g>\n   <g id=\"patch_6\">\n    <path d=\"M 36.465625 7.2 \nL 231.765625 7.2 \n\" style=\"fill: none; stroke: #000000; stroke-width: 0.8; stroke-linejoin: miter; stroke-linecap: square\"/>\n   </g>\n   <g id=\"legend_1\">\n    <g id=\"patch_7\">\n     <path d=\"M 43.465625 59.234375 \nL 121.234375 59.234375 \nQ 123.234375 59.234375 123.234375 57.234375 \nL 123.234375 14.2 \nQ 123.234375 12.2 121.234375 12.2 \nL 43.465625 12.2 \nQ 41.465625 12.2 41.465625 14.2 \nL 41.465625 57.234375 \nQ 41.465625 59.234375 43.465625 59.234375 \nz\n\" style=\"fill: #ffffff; opacity: 0.8; stroke: #cccccc; stroke-linejoin: miter\"/>\n    </g>\n    <g id=\"line2d_24\">\n     <path d=\"M 45.465625 20.298438 \nL 55.465625 20.298438 \nL 65.465625 20.298438 \n\" style=\"fill: none; stroke: #1f77b4; stroke-width: 1.5; stroke-linecap: square\"/>\n    </g>\n    <g id=\"text_12\">\n     <!-- train loss -->\n     <g transform=\"translate(73.465625 23.798438) scale(0.1 -0.1)\">\n      <defs>\n       <path id=\"DejaVuSans-74\" d=\"M 1172 4494 \nL 1172 3500 \nL 2356 3500 \nL 2356 3053 \nL 1172 3053 \nL 1172 1153 \nQ 1172 725 1289 603 \nQ 1406 481 1766 481 \nL 2356 481 \nL 2356 0 \nL 1766 0 \nQ 1100 0 847 248 \nQ 594 497 594 1153 \nL 594 3053 \nL 172 3053 \nL 172 3500 \nL 594 3500 \nL 594 4494 \nL 1172 4494 \nz\n\" transform=\"scale(0.015625)\"/>\n       <path id=\"DejaVuSans-72\" d=\"M 2631 2963 \nQ 2534 3019 2420 3045 \nQ 2306 3072 2169 3072 \nQ 1681 3072 1420 2755 \nQ 1159 2438 1159 1844 \nL 1159 0 \nL 581 0 \nL 581 3500 \nL 1159 3500 \nL 1159 2956 \nQ 1341 3275 1631 3429 \nQ 1922 3584 2338 3584 \nQ 2397 3584 2469 3576 \nQ 2541 3569 2628 3553 \nL 2631 2963 \nz\n\" transform=\"scale(0.015625)\"/>\n       <path id=\"DejaVuSans-61\" d=\"M 2194 1759 \nQ 1497 1759 1228 1600 \nQ 959 1441 959 1056 \nQ 959 750 1161 570 \nQ 1363 391 1709 391 \nQ 2188 391 2477 730 \nQ 2766 1069 2766 1631 \nL 2766 1759 \nL 2194 1759 \nz\nM 3341 1997 \nL 3341 0 \nL 2766 0 \nL 2766 531 \nQ 2569 213 2275 61 \nQ 1981 -91 1556 -91 \nQ 1019 -91 701 211 \nQ 384 513 384 1019 \nQ 384 1609 779 1909 \nQ 1175 2209 1959 2209 \nL 2766 2209 \nL 2766 2266 \nQ 2766 2663 2505 2880 \nQ 2244 3097 1772 3097 \nQ 1472 3097 1187 3025 \nQ 903 2953 641 2809 \nL 641 3341 \nQ 956 3463 1253 3523 \nQ 1550 3584 1831 3584 \nQ 2591 3584 2966 3190 \nQ 3341 2797 3341 1997 \nz\n\" transform=\"scale(0.015625)\"/>\n       <path id=\"DejaVuSans-69\" d=\"M 603 3500 \nL 1178 3500 \nL 1178 0 \nL 603 0 \nL 603 3500 \nz\nM 603 4863 \nL 1178 4863 \nL 1178 4134 \nL 603 4134 \nL 603 4863 \nz\n\" transform=\"scale(0.015625)\"/>\n       <path id=\"DejaVuSans-6e\" d=\"M 3513 2113 \nL 3513 0 \nL 2938 0 \nL 2938 2094 \nQ 2938 2591 2744 2837 \nQ 2550 3084 2163 3084 \nQ 1697 3084 1428 2787 \nQ 1159 2491 1159 1978 \nL 1159 0 \nL 581 0 \nL 581 3500 \nL 1159 3500 \nL 1159 2956 \nQ 1366 3272 1645 3428 \nQ 1925 3584 2291 3584 \nQ 2894 3584 3203 3211 \nQ 3513 2838 3513 2113 \nz\n\" transform=\"scale(0.015625)\"/>\n       <path id=\"DejaVuSans-20\" transform=\"scale(0.015625)\"/>\n       <path id=\"DejaVuSans-6c\" d=\"M 603 4863 \nL 1178 4863 \nL 1178 0 \nL 603 0 \nL 603 4863 \nz\n\" transform=\"scale(0.015625)\"/>\n       <path id=\"DejaVuSans-73\" d=\"M 2834 3397 \nL 2834 2853 \nQ 2591 2978 2328 3040 \nQ 2066 3103 1784 3103 \nQ 1356 3103 1142 2972 \nQ 928 2841 928 2578 \nQ 928 2378 1081 2264 \nQ 1234 2150 1697 2047 \nL 1894 2003 \nQ 2506 1872 2764 1633 \nQ 3022 1394 3022 966 \nQ 3022 478 2636 193 \nQ 2250 -91 1575 -91 \nQ 1294 -91 989 -36 \nQ 684 19 347 128 \nL 347 722 \nQ 666 556 975 473 \nQ 1284 391 1588 391 \nQ 1994 391 2212 530 \nQ 2431 669 2431 922 \nQ 2431 1156 2273 1281 \nQ 2116 1406 1581 1522 \nL 1381 1569 \nQ 847 1681 609 1914 \nQ 372 2147 372 2553 \nQ 372 3047 722 3315 \nQ 1072 3584 1716 3584 \nQ 2034 3584 2315 3537 \nQ 2597 3491 2834 3397 \nz\n\" transform=\"scale(0.015625)\"/>\n      </defs>\n      <use xlink:href=\"#DejaVuSans-74\"/>\n      <use xlink:href=\"#DejaVuSans-72\" x=\"39.208984\"/>\n      <use xlink:href=\"#DejaVuSans-61\" x=\"80.322266\"/>\n      <use xlink:href=\"#DejaVuSans-69\" x=\"141.601562\"/>\n      <use xlink:href=\"#DejaVuSans-6e\" x=\"169.384766\"/>\n      <use xlink:href=\"#DejaVuSans-20\" x=\"232.763672\"/>\n      <use xlink:href=\"#DejaVuSans-6c\" x=\"264.550781\"/>\n      <use xlink:href=\"#DejaVuSans-6f\" x=\"292.333984\"/>\n      <use xlink:href=\"#DejaVuSans-73\" x=\"353.515625\"/>\n      <use xlink:href=\"#DejaVuSans-73\" x=\"405.615234\"/>\n     </g>\n    </g>\n    <g id=\"line2d_25\">\n     <path d=\"M 45.465625 34.976563 \nL 55.465625 34.976563 \nL 65.465625 34.976563 \n\" style=\"fill: none; stroke-dasharray: 5.55,2.4; stroke-dashoffset: 0; stroke: #bf00bf; stroke-width: 1.5\"/>\n    </g>\n    <g id=\"text_13\">\n     <!-- train acc -->\n     <g transform=\"translate(73.465625 38.476563) scale(0.1 -0.1)\">\n      <use xlink:href=\"#DejaVuSans-74\"/>\n      <use xlink:href=\"#DejaVuSans-72\" x=\"39.208984\"/>\n      <use xlink:href=\"#DejaVuSans-61\" x=\"80.322266\"/>\n      <use xlink:href=\"#DejaVuSans-69\" x=\"141.601562\"/>\n      <use xlink:href=\"#DejaVuSans-6e\" x=\"169.384766\"/>\n      <use xlink:href=\"#DejaVuSans-20\" x=\"232.763672\"/>\n      <use xlink:href=\"#DejaVuSans-61\" x=\"264.550781\"/>\n      <use xlink:href=\"#DejaVuSans-63\" x=\"325.830078\"/>\n      <use xlink:href=\"#DejaVuSans-63\" x=\"380.810547\"/>\n     </g>\n    </g>\n    <g id=\"line2d_26\">\n     <path d=\"M 45.465625 49.654688 \nL 55.465625 49.654688 \nL 65.465625 49.654688 \n\" style=\"fill: none; stroke-dasharray: 9.6,2.4,1.5,2.4; stroke-dashoffset: 0; stroke: #008000; stroke-width: 1.5\"/>\n    </g>\n    <g id=\"text_14\">\n     <!-- test acc -->\n     <g transform=\"translate(73.465625 53.154688) scale(0.1 -0.1)\">\n      <use xlink:href=\"#DejaVuSans-74\"/>\n      <use xlink:href=\"#DejaVuSans-65\" x=\"39.208984\"/>\n      <use xlink:href=\"#DejaVuSans-73\" x=\"100.732422\"/>\n      <use xlink:href=\"#DejaVuSans-74\" x=\"152.832031\"/>\n      <use xlink:href=\"#DejaVuSans-20\" x=\"192.041016\"/>\n      <use xlink:href=\"#DejaVuSans-61\" x=\"223.828125\"/>\n      <use xlink:href=\"#DejaVuSans-63\" x=\"285.107422\"/>\n      <use xlink:href=\"#DejaVuSans-63\" x=\"340.087891\"/>\n     </g>\n    </g>\n   </g>\n  </g>\n </g>\n <defs>\n  <clipPath id=\"p3db3090c02\">\n   <rect x=\"36.465625\" y=\"7.2\" width=\"195.3\" height=\"138.6\"/>\n  </clipPath>\n </defs>\n</svg>\n"
     },
     "metadata": {},
     "output_type": "display_data"
    }
   ],
   "source": [
    "lr, num_epochs = 0.05, 10\n",
    "d2l.train_ch6(net, train_loader, test_loader, num_epochs, lr, d2l.try_gpu())"
   ],
   "metadata": {
    "collapsed": false
   },
   "id": "d8b904efcf3347a2",
   "execution_count": 27
  },
  {
   "cell_type": "code",
   "outputs": [],
   "source": [
    "# save a benchmark\n",
    "torch.save(net.state_dict(), '../models/emnist-resnet-10-epochs.pth')"
   ],
   "metadata": {
    "collapsed": false,
    "ExecuteTime": {
     "end_time": "2024-07-19T11:52:04.491066Z",
     "start_time": "2024-07-19T11:52:04.467649Z"
    }
   },
   "id": "b4b8e5870bf3482c",
   "execution_count": 28
  },
  {
   "cell_type": "code",
   "outputs": [],
   "source": [
    "b1 = nn.Sequential(nn.Conv2d(1, 64, kernel_size=5, stride=1, padding=2),\n",
    "                   nn.BatchNorm2d(64), nn.ReLU(),\n",
    "                   nn.MaxPool2d(kernel_size=2, stride=1, padding=1))\n",
    "net[0] = b1"
   ],
   "metadata": {
    "collapsed": false,
    "ExecuteTime": {
     "end_time": "2024-07-19T12:13:12.670886Z",
     "start_time": "2024-07-19T12:13:12.665019Z"
    }
   },
   "id": "fe8a5a0fb2851053",
   "execution_count": 32
  },
  {
   "cell_type": "code",
   "outputs": [
    {
     "name": "stdout",
     "output_type": "stream",
     "text": [
      "loss 0.222, train acc 0.914, test acc 0.872\n",
      "2532.9 examples/sec on cuda:0\n"
     ]
    },
    {
     "data": {
      "text/plain": "<Figure size 350x250 with 1 Axes>",
      "image/svg+xml": "<?xml version=\"1.0\" encoding=\"utf-8\" standalone=\"no\"?>\n<!DOCTYPE svg PUBLIC \"-//W3C//DTD SVG 1.1//EN\"\n  \"http://www.w3.org/Graphics/SVG/1.1/DTD/svg11.dtd\">\n<svg xmlns:xlink=\"http://www.w3.org/1999/xlink\" width=\"238.965625pt\" height=\"183.35625pt\" viewBox=\"0 0 238.965625 183.35625\" xmlns=\"http://www.w3.org/2000/svg\" version=\"1.1\">\n <metadata>\n  <rdf:RDF xmlns:dc=\"http://purl.org/dc/elements/1.1/\" xmlns:cc=\"http://creativecommons.org/ns#\" xmlns:rdf=\"http://www.w3.org/1999/02/22-rdf-syntax-ns#\">\n   <cc:Work>\n    <dc:type rdf:resource=\"http://purl.org/dc/dcmitype/StillImage\"/>\n    <dc:date>2024-07-19T20:21:34.812774</dc:date>\n    <dc:format>image/svg+xml</dc:format>\n    <dc:creator>\n     <cc:Agent>\n      <dc:title>Matplotlib v3.7.2, https://matplotlib.org/</dc:title>\n     </cc:Agent>\n    </dc:creator>\n   </cc:Work>\n  </rdf:RDF>\n </metadata>\n <defs>\n  <style type=\"text/css\">*{stroke-linejoin: round; stroke-linecap: butt}</style>\n </defs>\n <g id=\"figure_1\">\n  <g id=\"patch_1\">\n   <path d=\"M 0 183.35625 \nL 238.965625 183.35625 \nL 238.965625 0 \nL 0 0 \nz\n\" style=\"fill: #ffffff\"/>\n  </g>\n  <g id=\"axes_1\">\n   <g id=\"patch_2\">\n    <path d=\"M 30.103125 145.8 \nL 225.403125 145.8 \nL 225.403125 7.2 \nL 30.103125 7.2 \nz\n\" style=\"fill: #ffffff\"/>\n   </g>\n   <g id=\"matplotlib.axis_1\">\n    <g id=\"xtick_1\">\n     <g id=\"line2d_1\">\n      <path d=\"M 51.803125 145.8 \nL 51.803125 7.2 \n\" clip-path=\"url(#pcae33e69b4)\" style=\"fill: none; stroke: #b0b0b0; stroke-width: 0.8; stroke-linecap: square\"/>\n     </g>\n     <g id=\"line2d_2\">\n      <defs>\n       <path id=\"m062e88eb24\" d=\"M 0 0 \nL 0 3.5 \n\" style=\"stroke: #000000; stroke-width: 0.8\"/>\n      </defs>\n      <g>\n       <use xlink:href=\"#m062e88eb24\" x=\"51.803125\" y=\"145.8\" style=\"stroke: #000000; stroke-width: 0.8\"/>\n      </g>\n     </g>\n     <g id=\"text_1\">\n      <!-- 2 -->\n      <g transform=\"translate(48.621875 160.398438) scale(0.1 -0.1)\">\n       <defs>\n        <path id=\"DejaVuSans-32\" d=\"M 1228 531 \nL 3431 531 \nL 3431 0 \nL 469 0 \nL 469 531 \nQ 828 903 1448 1529 \nQ 2069 2156 2228 2338 \nQ 2531 2678 2651 2914 \nQ 2772 3150 2772 3378 \nQ 2772 3750 2511 3984 \nQ 2250 4219 1831 4219 \nQ 1534 4219 1204 4116 \nQ 875 4013 500 3803 \nL 500 4441 \nQ 881 4594 1212 4672 \nQ 1544 4750 1819 4750 \nQ 2544 4750 2975 4387 \nQ 3406 4025 3406 3419 \nQ 3406 3131 3298 2873 \nQ 3191 2616 2906 2266 \nQ 2828 2175 2409 1742 \nQ 1991 1309 1228 531 \nz\n\" transform=\"scale(0.015625)\"/>\n       </defs>\n       <use xlink:href=\"#DejaVuSans-32\"/>\n      </g>\n     </g>\n    </g>\n    <g id=\"xtick_2\">\n     <g id=\"line2d_3\">\n      <path d=\"M 95.203125 145.8 \nL 95.203125 7.2 \n\" clip-path=\"url(#pcae33e69b4)\" style=\"fill: none; stroke: #b0b0b0; stroke-width: 0.8; stroke-linecap: square\"/>\n     </g>\n     <g id=\"line2d_4\">\n      <g>\n       <use xlink:href=\"#m062e88eb24\" x=\"95.203125\" y=\"145.8\" style=\"stroke: #000000; stroke-width: 0.8\"/>\n      </g>\n     </g>\n     <g id=\"text_2\">\n      <!-- 4 -->\n      <g transform=\"translate(92.021875 160.398438) scale(0.1 -0.1)\">\n       <defs>\n        <path id=\"DejaVuSans-34\" d=\"M 2419 4116 \nL 825 1625 \nL 2419 1625 \nL 2419 4116 \nz\nM 2253 4666 \nL 3047 4666 \nL 3047 1625 \nL 3713 1625 \nL 3713 1100 \nL 3047 1100 \nL 3047 0 \nL 2419 0 \nL 2419 1100 \nL 313 1100 \nL 313 1709 \nL 2253 4666 \nz\n\" transform=\"scale(0.015625)\"/>\n       </defs>\n       <use xlink:href=\"#DejaVuSans-34\"/>\n      </g>\n     </g>\n    </g>\n    <g id=\"xtick_3\">\n     <g id=\"line2d_5\">\n      <path d=\"M 138.603125 145.8 \nL 138.603125 7.2 \n\" clip-path=\"url(#pcae33e69b4)\" style=\"fill: none; stroke: #b0b0b0; stroke-width: 0.8; stroke-linecap: square\"/>\n     </g>\n     <g id=\"line2d_6\">\n      <g>\n       <use xlink:href=\"#m062e88eb24\" x=\"138.603125\" y=\"145.8\" style=\"stroke: #000000; stroke-width: 0.8\"/>\n      </g>\n     </g>\n     <g id=\"text_3\">\n      <!-- 6 -->\n      <g transform=\"translate(135.421875 160.398438) scale(0.1 -0.1)\">\n       <defs>\n        <path id=\"DejaVuSans-36\" d=\"M 2113 2584 \nQ 1688 2584 1439 2293 \nQ 1191 2003 1191 1497 \nQ 1191 994 1439 701 \nQ 1688 409 2113 409 \nQ 2538 409 2786 701 \nQ 3034 994 3034 1497 \nQ 3034 2003 2786 2293 \nQ 2538 2584 2113 2584 \nz\nM 3366 4563 \nL 3366 3988 \nQ 3128 4100 2886 4159 \nQ 2644 4219 2406 4219 \nQ 1781 4219 1451 3797 \nQ 1122 3375 1075 2522 \nQ 1259 2794 1537 2939 \nQ 1816 3084 2150 3084 \nQ 2853 3084 3261 2657 \nQ 3669 2231 3669 1497 \nQ 3669 778 3244 343 \nQ 2819 -91 2113 -91 \nQ 1303 -91 875 529 \nQ 447 1150 447 2328 \nQ 447 3434 972 4092 \nQ 1497 4750 2381 4750 \nQ 2619 4750 2861 4703 \nQ 3103 4656 3366 4563 \nz\n\" transform=\"scale(0.015625)\"/>\n       </defs>\n       <use xlink:href=\"#DejaVuSans-36\"/>\n      </g>\n     </g>\n    </g>\n    <g id=\"xtick_4\">\n     <g id=\"line2d_7\">\n      <path d=\"M 182.003125 145.8 \nL 182.003125 7.2 \n\" clip-path=\"url(#pcae33e69b4)\" style=\"fill: none; stroke: #b0b0b0; stroke-width: 0.8; stroke-linecap: square\"/>\n     </g>\n     <g id=\"line2d_8\">\n      <g>\n       <use xlink:href=\"#m062e88eb24\" x=\"182.003125\" y=\"145.8\" style=\"stroke: #000000; stroke-width: 0.8\"/>\n      </g>\n     </g>\n     <g id=\"text_4\">\n      <!-- 8 -->\n      <g transform=\"translate(178.821875 160.398438) scale(0.1 -0.1)\">\n       <defs>\n        <path id=\"DejaVuSans-38\" d=\"M 2034 2216 \nQ 1584 2216 1326 1975 \nQ 1069 1734 1069 1313 \nQ 1069 891 1326 650 \nQ 1584 409 2034 409 \nQ 2484 409 2743 651 \nQ 3003 894 3003 1313 \nQ 3003 1734 2745 1975 \nQ 2488 2216 2034 2216 \nz\nM 1403 2484 \nQ 997 2584 770 2862 \nQ 544 3141 544 3541 \nQ 544 4100 942 4425 \nQ 1341 4750 2034 4750 \nQ 2731 4750 3128 4425 \nQ 3525 4100 3525 3541 \nQ 3525 3141 3298 2862 \nQ 3072 2584 2669 2484 \nQ 3125 2378 3379 2068 \nQ 3634 1759 3634 1313 \nQ 3634 634 3220 271 \nQ 2806 -91 2034 -91 \nQ 1263 -91 848 271 \nQ 434 634 434 1313 \nQ 434 1759 690 2068 \nQ 947 2378 1403 2484 \nz\nM 1172 3481 \nQ 1172 3119 1398 2916 \nQ 1625 2713 2034 2713 \nQ 2441 2713 2670 2916 \nQ 2900 3119 2900 3481 \nQ 2900 3844 2670 4047 \nQ 2441 4250 2034 4250 \nQ 1625 4250 1398 4047 \nQ 1172 3844 1172 3481 \nz\n\" transform=\"scale(0.015625)\"/>\n       </defs>\n       <use xlink:href=\"#DejaVuSans-38\"/>\n      </g>\n     </g>\n    </g>\n    <g id=\"xtick_5\">\n     <g id=\"line2d_9\">\n      <path d=\"M 225.403125 145.8 \nL 225.403125 7.2 \n\" clip-path=\"url(#pcae33e69b4)\" style=\"fill: none; stroke: #b0b0b0; stroke-width: 0.8; stroke-linecap: square\"/>\n     </g>\n     <g id=\"line2d_10\">\n      <g>\n       <use xlink:href=\"#m062e88eb24\" x=\"225.403125\" y=\"145.8\" style=\"stroke: #000000; stroke-width: 0.8\"/>\n      </g>\n     </g>\n     <g id=\"text_5\">\n      <!-- 10 -->\n      <g transform=\"translate(219.040625 160.398438) scale(0.1 -0.1)\">\n       <defs>\n        <path id=\"DejaVuSans-31\" d=\"M 794 531 \nL 1825 531 \nL 1825 4091 \nL 703 3866 \nL 703 4441 \nL 1819 4666 \nL 2450 4666 \nL 2450 531 \nL 3481 531 \nL 3481 0 \nL 794 0 \nL 794 531 \nz\n\" transform=\"scale(0.015625)\"/>\n        <path id=\"DejaVuSans-30\" d=\"M 2034 4250 \nQ 1547 4250 1301 3770 \nQ 1056 3291 1056 2328 \nQ 1056 1369 1301 889 \nQ 1547 409 2034 409 \nQ 2525 409 2770 889 \nQ 3016 1369 3016 2328 \nQ 3016 3291 2770 3770 \nQ 2525 4250 2034 4250 \nz\nM 2034 4750 \nQ 2819 4750 3233 4129 \nQ 3647 3509 3647 2328 \nQ 3647 1150 3233 529 \nQ 2819 -91 2034 -91 \nQ 1250 -91 836 529 \nQ 422 1150 422 2328 \nQ 422 3509 836 4129 \nQ 1250 4750 2034 4750 \nz\n\" transform=\"scale(0.015625)\"/>\n       </defs>\n       <use xlink:href=\"#DejaVuSans-31\"/>\n       <use xlink:href=\"#DejaVuSans-30\" x=\"63.623047\"/>\n      </g>\n     </g>\n    </g>\n    <g id=\"text_6\">\n     <!-- epoch -->\n     <g transform=\"translate(112.525 174.076563) scale(0.1 -0.1)\">\n      <defs>\n       <path id=\"DejaVuSans-65\" d=\"M 3597 1894 \nL 3597 1613 \nL 953 1613 \nQ 991 1019 1311 708 \nQ 1631 397 2203 397 \nQ 2534 397 2845 478 \nQ 3156 559 3463 722 \nL 3463 178 \nQ 3153 47 2828 -22 \nQ 2503 -91 2169 -91 \nQ 1331 -91 842 396 \nQ 353 884 353 1716 \nQ 353 2575 817 3079 \nQ 1281 3584 2069 3584 \nQ 2775 3584 3186 3129 \nQ 3597 2675 3597 1894 \nz\nM 3022 2063 \nQ 3016 2534 2758 2815 \nQ 2500 3097 2075 3097 \nQ 1594 3097 1305 2825 \nQ 1016 2553 972 2059 \nL 3022 2063 \nz\n\" transform=\"scale(0.015625)\"/>\n       <path id=\"DejaVuSans-70\" d=\"M 1159 525 \nL 1159 -1331 \nL 581 -1331 \nL 581 3500 \nL 1159 3500 \nL 1159 2969 \nQ 1341 3281 1617 3432 \nQ 1894 3584 2278 3584 \nQ 2916 3584 3314 3078 \nQ 3713 2572 3713 1747 \nQ 3713 922 3314 415 \nQ 2916 -91 2278 -91 \nQ 1894 -91 1617 61 \nQ 1341 213 1159 525 \nz\nM 3116 1747 \nQ 3116 2381 2855 2742 \nQ 2594 3103 2138 3103 \nQ 1681 3103 1420 2742 \nQ 1159 2381 1159 1747 \nQ 1159 1113 1420 752 \nQ 1681 391 2138 391 \nQ 2594 391 2855 752 \nQ 3116 1113 3116 1747 \nz\n\" transform=\"scale(0.015625)\"/>\n       <path id=\"DejaVuSans-6f\" d=\"M 1959 3097 \nQ 1497 3097 1228 2736 \nQ 959 2375 959 1747 \nQ 959 1119 1226 758 \nQ 1494 397 1959 397 \nQ 2419 397 2687 759 \nQ 2956 1122 2956 1747 \nQ 2956 2369 2687 2733 \nQ 2419 3097 1959 3097 \nz\nM 1959 3584 \nQ 2709 3584 3137 3096 \nQ 3566 2609 3566 1747 \nQ 3566 888 3137 398 \nQ 2709 -91 1959 -91 \nQ 1206 -91 779 398 \nQ 353 888 353 1747 \nQ 353 2609 779 3096 \nQ 1206 3584 1959 3584 \nz\n\" transform=\"scale(0.015625)\"/>\n       <path id=\"DejaVuSans-63\" d=\"M 3122 3366 \nL 3122 2828 \nQ 2878 2963 2633 3030 \nQ 2388 3097 2138 3097 \nQ 1578 3097 1268 2742 \nQ 959 2388 959 1747 \nQ 959 1106 1268 751 \nQ 1578 397 2138 397 \nQ 2388 397 2633 464 \nQ 2878 531 3122 666 \nL 3122 134 \nQ 2881 22 2623 -34 \nQ 2366 -91 2075 -91 \nQ 1284 -91 818 406 \nQ 353 903 353 1747 \nQ 353 2603 823 3093 \nQ 1294 3584 2113 3584 \nQ 2378 3584 2631 3529 \nQ 2884 3475 3122 3366 \nz\n\" transform=\"scale(0.015625)\"/>\n       <path id=\"DejaVuSans-68\" d=\"M 3513 2113 \nL 3513 0 \nL 2938 0 \nL 2938 2094 \nQ 2938 2591 2744 2837 \nQ 2550 3084 2163 3084 \nQ 1697 3084 1428 2787 \nQ 1159 2491 1159 1978 \nL 1159 0 \nL 581 0 \nL 581 4863 \nL 1159 4863 \nL 1159 2956 \nQ 1366 3272 1645 3428 \nQ 1925 3584 2291 3584 \nQ 2894 3584 3203 3211 \nQ 3513 2838 3513 2113 \nz\n\" transform=\"scale(0.015625)\"/>\n      </defs>\n      <use xlink:href=\"#DejaVuSans-65\"/>\n      <use xlink:href=\"#DejaVuSans-70\" x=\"61.523438\"/>\n      <use xlink:href=\"#DejaVuSans-6f\" x=\"125\"/>\n      <use xlink:href=\"#DejaVuSans-63\" x=\"186.181641\"/>\n      <use xlink:href=\"#DejaVuSans-68\" x=\"241.162109\"/>\n     </g>\n    </g>\n   </g>\n   <g id=\"matplotlib.axis_2\">\n    <g id=\"ytick_1\">\n     <g id=\"line2d_11\">\n      <path d=\"M 30.103125 114.794677 \nL 225.403125 114.794677 \n\" clip-path=\"url(#pcae33e69b4)\" style=\"fill: none; stroke: #b0b0b0; stroke-width: 0.8; stroke-linecap: square\"/>\n     </g>\n     <g id=\"line2d_12\">\n      <defs>\n       <path id=\"m80d7c3b248\" d=\"M 0 0 \nL -3.5 0 \n\" style=\"stroke: #000000; stroke-width: 0.8\"/>\n      </defs>\n      <g>\n       <use xlink:href=\"#m80d7c3b248\" x=\"30.103125\" y=\"114.794677\" style=\"stroke: #000000; stroke-width: 0.8\"/>\n      </g>\n     </g>\n     <g id=\"text_7\">\n      <!-- 0.5 -->\n      <g transform=\"translate(7.2 118.593896) scale(0.1 -0.1)\">\n       <defs>\n        <path id=\"DejaVuSans-2e\" d=\"M 684 794 \nL 1344 794 \nL 1344 0 \nL 684 0 \nL 684 794 \nz\n\" transform=\"scale(0.015625)\"/>\n        <path id=\"DejaVuSans-35\" d=\"M 691 4666 \nL 3169 4666 \nL 3169 4134 \nL 1269 4134 \nL 1269 2991 \nQ 1406 3038 1543 3061 \nQ 1681 3084 1819 3084 \nQ 2600 3084 3056 2656 \nQ 3513 2228 3513 1497 \nQ 3513 744 3044 326 \nQ 2575 -91 1722 -91 \nQ 1428 -91 1123 -41 \nQ 819 9 494 109 \nL 494 744 \nQ 775 591 1075 516 \nQ 1375 441 1709 441 \nQ 2250 441 2565 725 \nQ 2881 1009 2881 1497 \nQ 2881 1984 2565 2268 \nQ 2250 2553 1709 2553 \nQ 1456 2553 1204 2497 \nQ 953 2441 691 2322 \nL 691 4666 \nz\n\" transform=\"scale(0.015625)\"/>\n       </defs>\n       <use xlink:href=\"#DejaVuSans-30\"/>\n       <use xlink:href=\"#DejaVuSans-2e\" x=\"63.623047\"/>\n       <use xlink:href=\"#DejaVuSans-35\" x=\"95.410156\"/>\n      </g>\n     </g>\n    </g>\n    <g id=\"ytick_2\">\n     <g id=\"line2d_13\">\n      <path d=\"M 30.103125 70.716489 \nL 225.403125 70.716489 \n\" clip-path=\"url(#pcae33e69b4)\" style=\"fill: none; stroke: #b0b0b0; stroke-width: 0.8; stroke-linecap: square\"/>\n     </g>\n     <g id=\"line2d_14\">\n      <g>\n       <use xlink:href=\"#m80d7c3b248\" x=\"30.103125\" y=\"70.716489\" style=\"stroke: #000000; stroke-width: 0.8\"/>\n      </g>\n     </g>\n     <g id=\"text_8\">\n      <!-- 1.0 -->\n      <g transform=\"translate(7.2 74.515708) scale(0.1 -0.1)\">\n       <use xlink:href=\"#DejaVuSans-31\"/>\n       <use xlink:href=\"#DejaVuSans-2e\" x=\"63.623047\"/>\n       <use xlink:href=\"#DejaVuSans-30\" x=\"95.410156\"/>\n      </g>\n     </g>\n    </g>\n    <g id=\"ytick_3\">\n     <g id=\"line2d_15\">\n      <path d=\"M 30.103125 26.638301 \nL 225.403125 26.638301 \n\" clip-path=\"url(#pcae33e69b4)\" style=\"fill: none; stroke: #b0b0b0; stroke-width: 0.8; stroke-linecap: square\"/>\n     </g>\n     <g id=\"line2d_16\">\n      <g>\n       <use xlink:href=\"#m80d7c3b248\" x=\"30.103125\" y=\"26.638301\" style=\"stroke: #000000; stroke-width: 0.8\"/>\n      </g>\n     </g>\n     <g id=\"text_9\">\n      <!-- 1.5 -->\n      <g transform=\"translate(7.2 30.43752) scale(0.1 -0.1)\">\n       <use xlink:href=\"#DejaVuSans-31\"/>\n       <use xlink:href=\"#DejaVuSans-2e\" x=\"63.623047\"/>\n       <use xlink:href=\"#DejaVuSans-35\" x=\"95.410156\"/>\n      </g>\n     </g>\n    </g>\n   </g>\n   <g id=\"line2d_17\">\n    <path d=\"M 12.733284 13.5 \nL 17.063442 59.668731 \nL 21.393601 78.627703 \nL 25.72376 89.252434 \nL 30.053919 96.117237 \nL 30.103125 96.164398 \nL 34.433284 125.756084 \nL 38.763442 126.429751 \nL 43.093601 126.90958 \nL 47.42376 127.226754 \nL 51.753919 127.73671 \nL 51.803125 127.738203 \nL 56.133284 131.220914 \nL 60.463442 131.081084 \nL 64.793601 130.926392 \nL 69.12376 131.018201 \nL 73.453919 131.129637 \nL 73.503125 131.138984 \nL 77.833284 133.041439 \nL 82.163442 133.023007 \nL 86.493601 133.183338 \nL 90.82376 133.114806 \nL 95.153919 133.17359 \nL 95.203125 133.177384 \nL 99.533284 135.117811 \nL 103.863442 134.823736 \nL 108.193601 134.823662 \nL 112.52376 134.777009 \nL 116.853919 134.613725 \nL 116.903125 134.604553 \nL 121.233284 135.660552 \nL 125.563442 136.004337 \nL 129.893601 135.941639 \nL 134.22376 135.822874 \nL 138.553919 135.729094 \nL 138.603125 135.736954 \nL 142.933284 137.406208 \nL 147.263442 137.344595 \nL 151.593601 137.215995 \nL 155.92376 136.982805 \nL 160.253919 136.834435 \nL 160.303125 136.841068 \nL 164.633284 138.142596 \nL 168.963442 137.979139 \nL 173.293601 137.963383 \nL 177.62376 137.973132 \nL 181.953919 137.752136 \nL 182.003125 137.751105 \nL 186.333284 139.095003 \nL 190.663442 138.656836 \nL 194.993601 138.823856 \nL 199.32376 138.795647 \nL 203.653919 138.664065 \nL 203.703125 138.655443 \nL 208.033284 139.5 \nL 212.363442 139.347912 \nL 216.693601 139.290647 \nL 221.02376 139.231057 \nL 225.353919 139.330506 \nL 225.403125 139.336902 \n\" clip-path=\"url(#pcae33e69b4)\" style=\"fill: none; stroke: #1f77b4; stroke-width: 1.5; stroke-linecap: square\"/>\n   </g>\n   <g id=\"line2d_18\">\n    <path d=\"M 12.733284 107.567012 \nL 17.063442 97.380975 \nL 21.393601 93.089509 \nL 25.72376 90.769638 \nL 30.053919 89.256407 \nL 30.103125 89.244958 \nL 34.433284 82.334754 \nL 38.763442 82.174313 \nL 43.093601 82.088223 \nL 47.42376 81.959088 \nL 51.753919 81.789255 \nL 51.803125 81.786054 \nL 56.133284 80.929919 \nL 60.463442 80.88883 \nL 64.793601 80.863394 \nL 69.12376 80.781217 \nL 73.453919 80.738172 \nL 73.503125 80.734898 \nL 77.833284 80.323374 \nL 82.163442 80.254893 \nL 86.493601 80.268589 \nL 90.82376 80.304786 \nL 95.153919 80.263893 \nL 95.203125 80.2652 \nL 99.533284 79.501604 \nL 103.863442 79.709003 \nL 108.193601 79.698568 \nL 112.52376 79.690415 \nL 116.853919 79.744222 \nL 116.903125 79.746265 \nL 121.233284 79.60726 \nL 125.563442 79.437036 \nL 129.893601 79.517256 \nL 134.22376 79.492799 \nL 138.553919 79.5243 \nL 138.603125 79.522748 \nL 142.933284 78.546785 \nL 147.263442 78.738531 \nL 151.593601 78.854623 \nL 155.92376 79.00365 \nL 160.253919 79.064109 \nL 160.303125 79.057739 \nL 164.633284 78.523306 \nL 168.963442 78.625049 \nL 173.293601 78.669398 \nL 177.62376 78.620157 \nL 181.953919 78.708791 \nL 182.003125 78.71074 \nL 186.333284 78.210251 \nL 190.663442 78.31982 \nL 194.993601 78.296341 \nL 199.32376 78.385366 \nL 203.653919 78.463043 \nL 203.703125 78.465341 \nL 208.033284 78.253296 \nL 212.363442 78.278731 \nL 216.693601 78.262426 \nL 221.02376 78.297319 \nL 225.353919 78.257209 \nL 225.403125 78.254328 \n\" clip-path=\"url(#pcae33e69b4)\" style=\"fill: none; stroke-dasharray: 5.55,2.4; stroke-dashoffset: 0; stroke: #bf00bf; stroke-width: 1.5\"/>\n   </g>\n   <g id=\"line2d_19\">\n    <path d=\"M 30.103125 122.403258 \nL 51.803125 84.540894 \nL 73.503125 85.577256 \nL 95.203125 91.715704 \nL 116.903125 94.25268 \nL 138.603125 80.779981 \nL 160.303125 82.313421 \nL 182.003125 82.927734 \nL 203.703125 83.377919 \nL 225.403125 81.989851 \n\" clip-path=\"url(#pcae33e69b4)\" style=\"fill: none; stroke-dasharray: 9.6,2.4,1.5,2.4; stroke-dashoffset: 0; stroke: #008000; stroke-width: 1.5\"/>\n   </g>\n   <g id=\"patch_3\">\n    <path d=\"M 30.103125 145.8 \nL 30.103125 7.2 \n\" style=\"fill: none; stroke: #000000; stroke-width: 0.8; stroke-linejoin: miter; stroke-linecap: square\"/>\n   </g>\n   <g id=\"patch_4\">\n    <path d=\"M 225.403125 145.8 \nL 225.403125 7.2 \n\" style=\"fill: none; stroke: #000000; stroke-width: 0.8; stroke-linejoin: miter; stroke-linecap: square\"/>\n   </g>\n   <g id=\"patch_5\">\n    <path d=\"M 30.103125 145.8 \nL 225.403125 145.8 \n\" style=\"fill: none; stroke: #000000; stroke-width: 0.8; stroke-linejoin: miter; stroke-linecap: square\"/>\n   </g>\n   <g id=\"patch_6\">\n    <path d=\"M 30.103125 7.2 \nL 225.403125 7.2 \n\" style=\"fill: none; stroke: #000000; stroke-width: 0.8; stroke-linejoin: miter; stroke-linecap: square\"/>\n   </g>\n   <g id=\"legend_1\">\n    <g id=\"patch_7\">\n     <path d=\"M 140.634375 59.234375 \nL 218.403125 59.234375 \nQ 220.403125 59.234375 220.403125 57.234375 \nL 220.403125 14.2 \nQ 220.403125 12.2 218.403125 12.2 \nL 140.634375 12.2 \nQ 138.634375 12.2 138.634375 14.2 \nL 138.634375 57.234375 \nQ 138.634375 59.234375 140.634375 59.234375 \nz\n\" style=\"fill: #ffffff; opacity: 0.8; stroke: #cccccc; stroke-linejoin: miter\"/>\n    </g>\n    <g id=\"line2d_20\">\n     <path d=\"M 142.634375 20.298438 \nL 152.634375 20.298438 \nL 162.634375 20.298438 \n\" style=\"fill: none; stroke: #1f77b4; stroke-width: 1.5; stroke-linecap: square\"/>\n    </g>\n    <g id=\"text_10\">\n     <!-- train loss -->\n     <g transform=\"translate(170.634375 23.798438) scale(0.1 -0.1)\">\n      <defs>\n       <path id=\"DejaVuSans-74\" d=\"M 1172 4494 \nL 1172 3500 \nL 2356 3500 \nL 2356 3053 \nL 1172 3053 \nL 1172 1153 \nQ 1172 725 1289 603 \nQ 1406 481 1766 481 \nL 2356 481 \nL 2356 0 \nL 1766 0 \nQ 1100 0 847 248 \nQ 594 497 594 1153 \nL 594 3053 \nL 172 3053 \nL 172 3500 \nL 594 3500 \nL 594 4494 \nL 1172 4494 \nz\n\" transform=\"scale(0.015625)\"/>\n       <path id=\"DejaVuSans-72\" d=\"M 2631 2963 \nQ 2534 3019 2420 3045 \nQ 2306 3072 2169 3072 \nQ 1681 3072 1420 2755 \nQ 1159 2438 1159 1844 \nL 1159 0 \nL 581 0 \nL 581 3500 \nL 1159 3500 \nL 1159 2956 \nQ 1341 3275 1631 3429 \nQ 1922 3584 2338 3584 \nQ 2397 3584 2469 3576 \nQ 2541 3569 2628 3553 \nL 2631 2963 \nz\n\" transform=\"scale(0.015625)\"/>\n       <path id=\"DejaVuSans-61\" d=\"M 2194 1759 \nQ 1497 1759 1228 1600 \nQ 959 1441 959 1056 \nQ 959 750 1161 570 \nQ 1363 391 1709 391 \nQ 2188 391 2477 730 \nQ 2766 1069 2766 1631 \nL 2766 1759 \nL 2194 1759 \nz\nM 3341 1997 \nL 3341 0 \nL 2766 0 \nL 2766 531 \nQ 2569 213 2275 61 \nQ 1981 -91 1556 -91 \nQ 1019 -91 701 211 \nQ 384 513 384 1019 \nQ 384 1609 779 1909 \nQ 1175 2209 1959 2209 \nL 2766 2209 \nL 2766 2266 \nQ 2766 2663 2505 2880 \nQ 2244 3097 1772 3097 \nQ 1472 3097 1187 3025 \nQ 903 2953 641 2809 \nL 641 3341 \nQ 956 3463 1253 3523 \nQ 1550 3584 1831 3584 \nQ 2591 3584 2966 3190 \nQ 3341 2797 3341 1997 \nz\n\" transform=\"scale(0.015625)\"/>\n       <path id=\"DejaVuSans-69\" d=\"M 603 3500 \nL 1178 3500 \nL 1178 0 \nL 603 0 \nL 603 3500 \nz\nM 603 4863 \nL 1178 4863 \nL 1178 4134 \nL 603 4134 \nL 603 4863 \nz\n\" transform=\"scale(0.015625)\"/>\n       <path id=\"DejaVuSans-6e\" d=\"M 3513 2113 \nL 3513 0 \nL 2938 0 \nL 2938 2094 \nQ 2938 2591 2744 2837 \nQ 2550 3084 2163 3084 \nQ 1697 3084 1428 2787 \nQ 1159 2491 1159 1978 \nL 1159 0 \nL 581 0 \nL 581 3500 \nL 1159 3500 \nL 1159 2956 \nQ 1366 3272 1645 3428 \nQ 1925 3584 2291 3584 \nQ 2894 3584 3203 3211 \nQ 3513 2838 3513 2113 \nz\n\" transform=\"scale(0.015625)\"/>\n       <path id=\"DejaVuSans-20\" transform=\"scale(0.015625)\"/>\n       <path id=\"DejaVuSans-6c\" d=\"M 603 4863 \nL 1178 4863 \nL 1178 0 \nL 603 0 \nL 603 4863 \nz\n\" transform=\"scale(0.015625)\"/>\n       <path id=\"DejaVuSans-73\" d=\"M 2834 3397 \nL 2834 2853 \nQ 2591 2978 2328 3040 \nQ 2066 3103 1784 3103 \nQ 1356 3103 1142 2972 \nQ 928 2841 928 2578 \nQ 928 2378 1081 2264 \nQ 1234 2150 1697 2047 \nL 1894 2003 \nQ 2506 1872 2764 1633 \nQ 3022 1394 3022 966 \nQ 3022 478 2636 193 \nQ 2250 -91 1575 -91 \nQ 1294 -91 989 -36 \nQ 684 19 347 128 \nL 347 722 \nQ 666 556 975 473 \nQ 1284 391 1588 391 \nQ 1994 391 2212 530 \nQ 2431 669 2431 922 \nQ 2431 1156 2273 1281 \nQ 2116 1406 1581 1522 \nL 1381 1569 \nQ 847 1681 609 1914 \nQ 372 2147 372 2553 \nQ 372 3047 722 3315 \nQ 1072 3584 1716 3584 \nQ 2034 3584 2315 3537 \nQ 2597 3491 2834 3397 \nz\n\" transform=\"scale(0.015625)\"/>\n      </defs>\n      <use xlink:href=\"#DejaVuSans-74\"/>\n      <use xlink:href=\"#DejaVuSans-72\" x=\"39.208984\"/>\n      <use xlink:href=\"#DejaVuSans-61\" x=\"80.322266\"/>\n      <use xlink:href=\"#DejaVuSans-69\" x=\"141.601562\"/>\n      <use xlink:href=\"#DejaVuSans-6e\" x=\"169.384766\"/>\n      <use xlink:href=\"#DejaVuSans-20\" x=\"232.763672\"/>\n      <use xlink:href=\"#DejaVuSans-6c\" x=\"264.550781\"/>\n      <use xlink:href=\"#DejaVuSans-6f\" x=\"292.333984\"/>\n      <use xlink:href=\"#DejaVuSans-73\" x=\"353.515625\"/>\n      <use xlink:href=\"#DejaVuSans-73\" x=\"405.615234\"/>\n     </g>\n    </g>\n    <g id=\"line2d_21\">\n     <path d=\"M 142.634375 34.976563 \nL 152.634375 34.976563 \nL 162.634375 34.976563 \n\" style=\"fill: none; stroke-dasharray: 5.55,2.4; stroke-dashoffset: 0; stroke: #bf00bf; stroke-width: 1.5\"/>\n    </g>\n    <g id=\"text_11\">\n     <!-- train acc -->\n     <g transform=\"translate(170.634375 38.476563) scale(0.1 -0.1)\">\n      <use xlink:href=\"#DejaVuSans-74\"/>\n      <use xlink:href=\"#DejaVuSans-72\" x=\"39.208984\"/>\n      <use xlink:href=\"#DejaVuSans-61\" x=\"80.322266\"/>\n      <use xlink:href=\"#DejaVuSans-69\" x=\"141.601562\"/>\n      <use xlink:href=\"#DejaVuSans-6e\" x=\"169.384766\"/>\n      <use xlink:href=\"#DejaVuSans-20\" x=\"232.763672\"/>\n      <use xlink:href=\"#DejaVuSans-61\" x=\"264.550781\"/>\n      <use xlink:href=\"#DejaVuSans-63\" x=\"325.830078\"/>\n      <use xlink:href=\"#DejaVuSans-63\" x=\"380.810547\"/>\n     </g>\n    </g>\n    <g id=\"line2d_22\">\n     <path d=\"M 142.634375 49.654688 \nL 152.634375 49.654688 \nL 162.634375 49.654688 \n\" style=\"fill: none; stroke-dasharray: 9.6,2.4,1.5,2.4; stroke-dashoffset: 0; stroke: #008000; stroke-width: 1.5\"/>\n    </g>\n    <g id=\"text_12\">\n     <!-- test acc -->\n     <g transform=\"translate(170.634375 53.154688) scale(0.1 -0.1)\">\n      <use xlink:href=\"#DejaVuSans-74\"/>\n      <use xlink:href=\"#DejaVuSans-65\" x=\"39.208984\"/>\n      <use xlink:href=\"#DejaVuSans-73\" x=\"100.732422\"/>\n      <use xlink:href=\"#DejaVuSans-74\" x=\"152.832031\"/>\n      <use xlink:href=\"#DejaVuSans-20\" x=\"192.041016\"/>\n      <use xlink:href=\"#DejaVuSans-61\" x=\"223.828125\"/>\n      <use xlink:href=\"#DejaVuSans-63\" x=\"285.107422\"/>\n      <use xlink:href=\"#DejaVuSans-63\" x=\"340.087891\"/>\n     </g>\n    </g>\n   </g>\n  </g>\n </g>\n <defs>\n  <clipPath id=\"pcae33e69b4\">\n   <rect x=\"30.103125\" y=\"7.2\" width=\"195.3\" height=\"138.6\"/>\n  </clipPath>\n </defs>\n</svg>\n"
     },
     "metadata": {},
     "output_type": "display_data"
    }
   ],
   "source": [
    "lr, num_epochs = 0.05, 10\n",
    "d2l.train_ch6(net, train_loader, test_loader, num_epochs, lr, d2l.try_gpu())"
   ],
   "metadata": {
    "collapsed": false
   },
   "id": "f23231a327d7a1b7",
   "execution_count": 33
  },
  {
   "cell_type": "code",
   "outputs": [],
   "source": [
    "# save a benchmark\n",
    "torch.save(net.state_dict(), '../models/emnist-resnet-10-epochs-2.pth')"
   ],
   "metadata": {
    "collapsed": false,
    "ExecuteTime": {
     "end_time": "2024-07-19T12:23:19.773608Z",
     "start_time": "2024-07-19T12:23:19.751088Z"
    }
   },
   "id": "ffd76683011891e6",
   "execution_count": 34
  },
  {
   "cell_type": "code",
   "outputs": [
    {
     "data": {
      "text/plain": "Sequential(\n  (0): Sequential(\n    (0): Conv2d(1, 64, kernel_size=(5, 5), stride=(1, 1), padding=(2, 2))\n    (1): BatchNorm2d(64, eps=1e-05, momentum=0.1, affine=True, track_running_stats=True)\n    (2): ReLU()\n    (3): MaxPool2d(kernel_size=2, stride=1, padding=1, dilation=1, ceil_mode=False)\n  )\n  (1): Sequential(\n    (0): Residual(\n      (conv1): Conv2d(64, 64, kernel_size=(3, 3), stride=(1, 1), padding=(1, 1))\n      (conv2): Conv2d(64, 64, kernel_size=(3, 3), stride=(1, 1), padding=(1, 1))\n      (bn1): BatchNorm2d(64, eps=1e-05, momentum=0.1, affine=True, track_running_stats=True)\n      (bn2): BatchNorm2d(64, eps=1e-05, momentum=0.1, affine=True, track_running_stats=True)\n    )\n    (1): Residual(\n      (conv1): Conv2d(64, 64, kernel_size=(3, 3), stride=(1, 1), padding=(1, 1))\n      (conv2): Conv2d(64, 64, kernel_size=(3, 3), stride=(1, 1), padding=(1, 1))\n      (bn1): BatchNorm2d(64, eps=1e-05, momentum=0.1, affine=True, track_running_stats=True)\n      (bn2): BatchNorm2d(64, eps=1e-05, momentum=0.1, affine=True, track_running_stats=True)\n    )\n  )\n  (2): Sequential(\n    (0): Residual(\n      (conv1): Conv2d(64, 128, kernel_size=(3, 3), stride=(2, 2), padding=(1, 1))\n      (conv2): Conv2d(128, 128, kernel_size=(3, 3), stride=(1, 1), padding=(1, 1))\n      (conv3): Conv2d(64, 128, kernel_size=(1, 1), stride=(2, 2))\n      (bn1): BatchNorm2d(128, eps=1e-05, momentum=0.1, affine=True, track_running_stats=True)\n      (bn2): BatchNorm2d(128, eps=1e-05, momentum=0.1, affine=True, track_running_stats=True)\n    )\n    (1): Residual(\n      (conv1): Conv2d(128, 128, kernel_size=(3, 3), stride=(1, 1), padding=(1, 1))\n      (conv2): Conv2d(128, 128, kernel_size=(3, 3), stride=(1, 1), padding=(1, 1))\n      (bn1): BatchNorm2d(128, eps=1e-05, momentum=0.1, affine=True, track_running_stats=True)\n      (bn2): BatchNorm2d(128, eps=1e-05, momentum=0.1, affine=True, track_running_stats=True)\n    )\n  )\n  (3): Sequential(\n    (0): Residual(\n      (conv1): Conv2d(128, 256, kernel_size=(3, 3), stride=(2, 2), padding=(1, 1))\n      (conv2): Conv2d(256, 256, kernel_size=(3, 3), stride=(1, 1), padding=(1, 1))\n      (conv3): Conv2d(128, 256, kernel_size=(1, 1), stride=(2, 2))\n      (bn1): BatchNorm2d(256, eps=1e-05, momentum=0.1, affine=True, track_running_stats=True)\n      (bn2): BatchNorm2d(256, eps=1e-05, momentum=0.1, affine=True, track_running_stats=True)\n    )\n    (1): Residual(\n      (conv1): Conv2d(256, 256, kernel_size=(3, 3), stride=(1, 1), padding=(1, 1))\n      (conv2): Conv2d(256, 256, kernel_size=(3, 3), stride=(1, 1), padding=(1, 1))\n      (bn1): BatchNorm2d(256, eps=1e-05, momentum=0.1, affine=True, track_running_stats=True)\n      (bn2): BatchNorm2d(256, eps=1e-05, momentum=0.1, affine=True, track_running_stats=True)\n    )\n  )\n  (4): Sequential(\n    (0): Residual(\n      (conv1): Conv2d(256, 512, kernel_size=(3, 3), stride=(2, 2), padding=(1, 1))\n      (conv2): Conv2d(512, 512, kernel_size=(3, 3), stride=(1, 1), padding=(1, 1))\n      (conv3): Conv2d(256, 512, kernel_size=(1, 1), stride=(2, 2))\n      (bn1): BatchNorm2d(512, eps=1e-05, momentum=0.1, affine=True, track_running_stats=True)\n      (bn2): BatchNorm2d(512, eps=1e-05, momentum=0.1, affine=True, track_running_stats=True)\n    )\n    (1): Residual(\n      (conv1): Conv2d(512, 512, kernel_size=(3, 3), stride=(1, 1), padding=(1, 1))\n      (conv2): Conv2d(512, 512, kernel_size=(3, 3), stride=(1, 1), padding=(1, 1))\n      (bn1): BatchNorm2d(512, eps=1e-05, momentum=0.1, affine=True, track_running_stats=True)\n      (bn2): BatchNorm2d(512, eps=1e-05, momentum=0.1, affine=True, track_running_stats=True)\n    )\n  )\n  (5): AdaptiveAvgPool2d(output_size=(1, 1))\n  (6): Flatten(start_dim=1, end_dim=-1)\n  (7): Linear(in_features=256, out_features=47, bias=True)\n)"
     },
     "execution_count": 35,
     "metadata": {},
     "output_type": "execute_result"
    }
   ],
   "source": [
    "b5 = nn.Sequential(*resnet_block(256, 512, 2))\n",
    "net.insert(4, b5)"
   ],
   "metadata": {
    "collapsed": false,
    "ExecuteTime": {
     "end_time": "2024-07-19T12:23:26.591361Z",
     "start_time": "2024-07-19T12:23:26.554882Z"
    }
   },
   "id": "1e5f882f64234685",
   "execution_count": 35
  },
  {
   "cell_type": "code",
   "outputs": [],
   "source": [
    "net[-1] = nn.Linear(512, 47)"
   ],
   "metadata": {
    "collapsed": false,
    "ExecuteTime": {
     "end_time": "2024-07-19T12:25:42.832216Z",
     "start_time": "2024-07-19T12:25:42.828505Z"
    }
   },
   "id": "1413a342d241f2c8",
   "execution_count": 38
  },
  {
   "cell_type": "code",
   "outputs": [
    {
     "name": "stdout",
     "output_type": "stream",
     "text": [
      "loss 0.111, train acc 0.955, test acc 0.877\n",
      "2068.0 examples/sec on cuda:0\n"
     ]
    },
    {
     "data": {
      "text/plain": "<Figure size 350x250 with 1 Axes>",
      "image/svg+xml": "<?xml version=\"1.0\" encoding=\"utf-8\" standalone=\"no\"?>\n<!DOCTYPE svg PUBLIC \"-//W3C//DTD SVG 1.1//EN\"\n  \"http://www.w3.org/Graphics/SVG/1.1/DTD/svg11.dtd\">\n<svg xmlns:xlink=\"http://www.w3.org/1999/xlink\" width=\"238.965625pt\" height=\"183.35625pt\" viewBox=\"0 0 238.965625 183.35625\" xmlns=\"http://www.w3.org/2000/svg\" version=\"1.1\">\n <metadata>\n  <rdf:RDF xmlns:dc=\"http://purl.org/dc/elements/1.1/\" xmlns:cc=\"http://creativecommons.org/ns#\" xmlns:rdf=\"http://www.w3.org/1999/02/22-rdf-syntax-ns#\">\n   <cc:Work>\n    <dc:type rdf:resource=\"http://purl.org/dc/dcmitype/StillImage\"/>\n    <dc:date>2024-07-19T20:35:42.243634</dc:date>\n    <dc:format>image/svg+xml</dc:format>\n    <dc:creator>\n     <cc:Agent>\n      <dc:title>Matplotlib v3.7.2, https://matplotlib.org/</dc:title>\n     </cc:Agent>\n    </dc:creator>\n   </cc:Work>\n  </rdf:RDF>\n </metadata>\n <defs>\n  <style type=\"text/css\">*{stroke-linejoin: round; stroke-linecap: butt}</style>\n </defs>\n <g id=\"figure_1\">\n  <g id=\"patch_1\">\n   <path d=\"M 0 183.35625 \nL 238.965625 183.35625 \nL 238.965625 0 \nL 0 0 \nz\n\" style=\"fill: #ffffff\"/>\n  </g>\n  <g id=\"axes_1\">\n   <g id=\"patch_2\">\n    <path d=\"M 30.103125 145.8 \nL 225.403125 145.8 \nL 225.403125 7.2 \nL 30.103125 7.2 \nz\n\" style=\"fill: #ffffff\"/>\n   </g>\n   <g id=\"matplotlib.axis_1\">\n    <g id=\"xtick_1\">\n     <g id=\"line2d_1\">\n      <path d=\"M 51.803125 145.8 \nL 51.803125 7.2 \n\" clip-path=\"url(#pa6222ee24d)\" style=\"fill: none; stroke: #b0b0b0; stroke-width: 0.8; stroke-linecap: square\"/>\n     </g>\n     <g id=\"line2d_2\">\n      <defs>\n       <path id=\"m55da563063\" d=\"M 0 0 \nL 0 3.5 \n\" style=\"stroke: #000000; stroke-width: 0.8\"/>\n      </defs>\n      <g>\n       <use xlink:href=\"#m55da563063\" x=\"51.803125\" y=\"145.8\" style=\"stroke: #000000; stroke-width: 0.8\"/>\n      </g>\n     </g>\n     <g id=\"text_1\">\n      <!-- 2 -->\n      <g transform=\"translate(48.621875 160.398438) scale(0.1 -0.1)\">\n       <defs>\n        <path id=\"DejaVuSans-32\" d=\"M 1228 531 \nL 3431 531 \nL 3431 0 \nL 469 0 \nL 469 531 \nQ 828 903 1448 1529 \nQ 2069 2156 2228 2338 \nQ 2531 2678 2651 2914 \nQ 2772 3150 2772 3378 \nQ 2772 3750 2511 3984 \nQ 2250 4219 1831 4219 \nQ 1534 4219 1204 4116 \nQ 875 4013 500 3803 \nL 500 4441 \nQ 881 4594 1212 4672 \nQ 1544 4750 1819 4750 \nQ 2544 4750 2975 4387 \nQ 3406 4025 3406 3419 \nQ 3406 3131 3298 2873 \nQ 3191 2616 2906 2266 \nQ 2828 2175 2409 1742 \nQ 1991 1309 1228 531 \nz\n\" transform=\"scale(0.015625)\"/>\n       </defs>\n       <use xlink:href=\"#DejaVuSans-32\"/>\n      </g>\n     </g>\n    </g>\n    <g id=\"xtick_2\">\n     <g id=\"line2d_3\">\n      <path d=\"M 95.203125 145.8 \nL 95.203125 7.2 \n\" clip-path=\"url(#pa6222ee24d)\" style=\"fill: none; stroke: #b0b0b0; stroke-width: 0.8; stroke-linecap: square\"/>\n     </g>\n     <g id=\"line2d_4\">\n      <g>\n       <use xlink:href=\"#m55da563063\" x=\"95.203125\" y=\"145.8\" style=\"stroke: #000000; stroke-width: 0.8\"/>\n      </g>\n     </g>\n     <g id=\"text_2\">\n      <!-- 4 -->\n      <g transform=\"translate(92.021875 160.398438) scale(0.1 -0.1)\">\n       <defs>\n        <path id=\"DejaVuSans-34\" d=\"M 2419 4116 \nL 825 1625 \nL 2419 1625 \nL 2419 4116 \nz\nM 2253 4666 \nL 3047 4666 \nL 3047 1625 \nL 3713 1625 \nL 3713 1100 \nL 3047 1100 \nL 3047 0 \nL 2419 0 \nL 2419 1100 \nL 313 1100 \nL 313 1709 \nL 2253 4666 \nz\n\" transform=\"scale(0.015625)\"/>\n       </defs>\n       <use xlink:href=\"#DejaVuSans-34\"/>\n      </g>\n     </g>\n    </g>\n    <g id=\"xtick_3\">\n     <g id=\"line2d_5\">\n      <path d=\"M 138.603125 145.8 \nL 138.603125 7.2 \n\" clip-path=\"url(#pa6222ee24d)\" style=\"fill: none; stroke: #b0b0b0; stroke-width: 0.8; stroke-linecap: square\"/>\n     </g>\n     <g id=\"line2d_6\">\n      <g>\n       <use xlink:href=\"#m55da563063\" x=\"138.603125\" y=\"145.8\" style=\"stroke: #000000; stroke-width: 0.8\"/>\n      </g>\n     </g>\n     <g id=\"text_3\">\n      <!-- 6 -->\n      <g transform=\"translate(135.421875 160.398438) scale(0.1 -0.1)\">\n       <defs>\n        <path id=\"DejaVuSans-36\" d=\"M 2113 2584 \nQ 1688 2584 1439 2293 \nQ 1191 2003 1191 1497 \nQ 1191 994 1439 701 \nQ 1688 409 2113 409 \nQ 2538 409 2786 701 \nQ 3034 994 3034 1497 \nQ 3034 2003 2786 2293 \nQ 2538 2584 2113 2584 \nz\nM 3366 4563 \nL 3366 3988 \nQ 3128 4100 2886 4159 \nQ 2644 4219 2406 4219 \nQ 1781 4219 1451 3797 \nQ 1122 3375 1075 2522 \nQ 1259 2794 1537 2939 \nQ 1816 3084 2150 3084 \nQ 2853 3084 3261 2657 \nQ 3669 2231 3669 1497 \nQ 3669 778 3244 343 \nQ 2819 -91 2113 -91 \nQ 1303 -91 875 529 \nQ 447 1150 447 2328 \nQ 447 3434 972 4092 \nQ 1497 4750 2381 4750 \nQ 2619 4750 2861 4703 \nQ 3103 4656 3366 4563 \nz\n\" transform=\"scale(0.015625)\"/>\n       </defs>\n       <use xlink:href=\"#DejaVuSans-36\"/>\n      </g>\n     </g>\n    </g>\n    <g id=\"xtick_4\">\n     <g id=\"line2d_7\">\n      <path d=\"M 182.003125 145.8 \nL 182.003125 7.2 \n\" clip-path=\"url(#pa6222ee24d)\" style=\"fill: none; stroke: #b0b0b0; stroke-width: 0.8; stroke-linecap: square\"/>\n     </g>\n     <g id=\"line2d_8\">\n      <g>\n       <use xlink:href=\"#m55da563063\" x=\"182.003125\" y=\"145.8\" style=\"stroke: #000000; stroke-width: 0.8\"/>\n      </g>\n     </g>\n     <g id=\"text_4\">\n      <!-- 8 -->\n      <g transform=\"translate(178.821875 160.398438) scale(0.1 -0.1)\">\n       <defs>\n        <path id=\"DejaVuSans-38\" d=\"M 2034 2216 \nQ 1584 2216 1326 1975 \nQ 1069 1734 1069 1313 \nQ 1069 891 1326 650 \nQ 1584 409 2034 409 \nQ 2484 409 2743 651 \nQ 3003 894 3003 1313 \nQ 3003 1734 2745 1975 \nQ 2488 2216 2034 2216 \nz\nM 1403 2484 \nQ 997 2584 770 2862 \nQ 544 3141 544 3541 \nQ 544 4100 942 4425 \nQ 1341 4750 2034 4750 \nQ 2731 4750 3128 4425 \nQ 3525 4100 3525 3541 \nQ 3525 3141 3298 2862 \nQ 3072 2584 2669 2484 \nQ 3125 2378 3379 2068 \nQ 3634 1759 3634 1313 \nQ 3634 634 3220 271 \nQ 2806 -91 2034 -91 \nQ 1263 -91 848 271 \nQ 434 634 434 1313 \nQ 434 1759 690 2068 \nQ 947 2378 1403 2484 \nz\nM 1172 3481 \nQ 1172 3119 1398 2916 \nQ 1625 2713 2034 2713 \nQ 2441 2713 2670 2916 \nQ 2900 3119 2900 3481 \nQ 2900 3844 2670 4047 \nQ 2441 4250 2034 4250 \nQ 1625 4250 1398 4047 \nQ 1172 3844 1172 3481 \nz\n\" transform=\"scale(0.015625)\"/>\n       </defs>\n       <use xlink:href=\"#DejaVuSans-38\"/>\n      </g>\n     </g>\n    </g>\n    <g id=\"xtick_5\">\n     <g id=\"line2d_9\">\n      <path d=\"M 225.403125 145.8 \nL 225.403125 7.2 \n\" clip-path=\"url(#pa6222ee24d)\" style=\"fill: none; stroke: #b0b0b0; stroke-width: 0.8; stroke-linecap: square\"/>\n     </g>\n     <g id=\"line2d_10\">\n      <g>\n       <use xlink:href=\"#m55da563063\" x=\"225.403125\" y=\"145.8\" style=\"stroke: #000000; stroke-width: 0.8\"/>\n      </g>\n     </g>\n     <g id=\"text_5\">\n      <!-- 10 -->\n      <g transform=\"translate(219.040625 160.398438) scale(0.1 -0.1)\">\n       <defs>\n        <path id=\"DejaVuSans-31\" d=\"M 794 531 \nL 1825 531 \nL 1825 4091 \nL 703 3866 \nL 703 4441 \nL 1819 4666 \nL 2450 4666 \nL 2450 531 \nL 3481 531 \nL 3481 0 \nL 794 0 \nL 794 531 \nz\n\" transform=\"scale(0.015625)\"/>\n        <path id=\"DejaVuSans-30\" d=\"M 2034 4250 \nQ 1547 4250 1301 3770 \nQ 1056 3291 1056 2328 \nQ 1056 1369 1301 889 \nQ 1547 409 2034 409 \nQ 2525 409 2770 889 \nQ 3016 1369 3016 2328 \nQ 3016 3291 2770 3770 \nQ 2525 4250 2034 4250 \nz\nM 2034 4750 \nQ 2819 4750 3233 4129 \nQ 3647 3509 3647 2328 \nQ 3647 1150 3233 529 \nQ 2819 -91 2034 -91 \nQ 1250 -91 836 529 \nQ 422 1150 422 2328 \nQ 422 3509 836 4129 \nQ 1250 4750 2034 4750 \nz\n\" transform=\"scale(0.015625)\"/>\n       </defs>\n       <use xlink:href=\"#DejaVuSans-31\"/>\n       <use xlink:href=\"#DejaVuSans-30\" x=\"63.623047\"/>\n      </g>\n     </g>\n    </g>\n    <g id=\"text_6\">\n     <!-- epoch -->\n     <g transform=\"translate(112.525 174.076563) scale(0.1 -0.1)\">\n      <defs>\n       <path id=\"DejaVuSans-65\" d=\"M 3597 1894 \nL 3597 1613 \nL 953 1613 \nQ 991 1019 1311 708 \nQ 1631 397 2203 397 \nQ 2534 397 2845 478 \nQ 3156 559 3463 722 \nL 3463 178 \nQ 3153 47 2828 -22 \nQ 2503 -91 2169 -91 \nQ 1331 -91 842 396 \nQ 353 884 353 1716 \nQ 353 2575 817 3079 \nQ 1281 3584 2069 3584 \nQ 2775 3584 3186 3129 \nQ 3597 2675 3597 1894 \nz\nM 3022 2063 \nQ 3016 2534 2758 2815 \nQ 2500 3097 2075 3097 \nQ 1594 3097 1305 2825 \nQ 1016 2553 972 2059 \nL 3022 2063 \nz\n\" transform=\"scale(0.015625)\"/>\n       <path id=\"DejaVuSans-70\" d=\"M 1159 525 \nL 1159 -1331 \nL 581 -1331 \nL 581 3500 \nL 1159 3500 \nL 1159 2969 \nQ 1341 3281 1617 3432 \nQ 1894 3584 2278 3584 \nQ 2916 3584 3314 3078 \nQ 3713 2572 3713 1747 \nQ 3713 922 3314 415 \nQ 2916 -91 2278 -91 \nQ 1894 -91 1617 61 \nQ 1341 213 1159 525 \nz\nM 3116 1747 \nQ 3116 2381 2855 2742 \nQ 2594 3103 2138 3103 \nQ 1681 3103 1420 2742 \nQ 1159 2381 1159 1747 \nQ 1159 1113 1420 752 \nQ 1681 391 2138 391 \nQ 2594 391 2855 752 \nQ 3116 1113 3116 1747 \nz\n\" transform=\"scale(0.015625)\"/>\n       <path id=\"DejaVuSans-6f\" d=\"M 1959 3097 \nQ 1497 3097 1228 2736 \nQ 959 2375 959 1747 \nQ 959 1119 1226 758 \nQ 1494 397 1959 397 \nQ 2419 397 2687 759 \nQ 2956 1122 2956 1747 \nQ 2956 2369 2687 2733 \nQ 2419 3097 1959 3097 \nz\nM 1959 3584 \nQ 2709 3584 3137 3096 \nQ 3566 2609 3566 1747 \nQ 3566 888 3137 398 \nQ 2709 -91 1959 -91 \nQ 1206 -91 779 398 \nQ 353 888 353 1747 \nQ 353 2609 779 3096 \nQ 1206 3584 1959 3584 \nz\n\" transform=\"scale(0.015625)\"/>\n       <path id=\"DejaVuSans-63\" d=\"M 3122 3366 \nL 3122 2828 \nQ 2878 2963 2633 3030 \nQ 2388 3097 2138 3097 \nQ 1578 3097 1268 2742 \nQ 959 2388 959 1747 \nQ 959 1106 1268 751 \nQ 1578 397 2138 397 \nQ 2388 397 2633 464 \nQ 2878 531 3122 666 \nL 3122 134 \nQ 2881 22 2623 -34 \nQ 2366 -91 2075 -91 \nQ 1284 -91 818 406 \nQ 353 903 353 1747 \nQ 353 2603 823 3093 \nQ 1294 3584 2113 3584 \nQ 2378 3584 2631 3529 \nQ 2884 3475 3122 3366 \nz\n\" transform=\"scale(0.015625)\"/>\n       <path id=\"DejaVuSans-68\" d=\"M 3513 2113 \nL 3513 0 \nL 2938 0 \nL 2938 2094 \nQ 2938 2591 2744 2837 \nQ 2550 3084 2163 3084 \nQ 1697 3084 1428 2787 \nQ 1159 2491 1159 1978 \nL 1159 0 \nL 581 0 \nL 581 4863 \nL 1159 4863 \nL 1159 2956 \nQ 1366 3272 1645 3428 \nQ 1925 3584 2291 3584 \nQ 2894 3584 3203 3211 \nQ 3513 2838 3513 2113 \nz\n\" transform=\"scale(0.015625)\"/>\n      </defs>\n      <use xlink:href=\"#DejaVuSans-65\"/>\n      <use xlink:href=\"#DejaVuSans-70\" x=\"61.523438\"/>\n      <use xlink:href=\"#DejaVuSans-6f\" x=\"125\"/>\n      <use xlink:href=\"#DejaVuSans-63\" x=\"186.181641\"/>\n      <use xlink:href=\"#DejaVuSans-68\" x=\"241.162109\"/>\n     </g>\n    </g>\n   </g>\n   <g id=\"matplotlib.axis_2\">\n    <g id=\"ytick_1\">\n     <g id=\"line2d_11\">\n      <path d=\"M 30.103125 127.952271 \nL 225.403125 127.952271 \n\" clip-path=\"url(#pa6222ee24d)\" style=\"fill: none; stroke: #b0b0b0; stroke-width: 0.8; stroke-linecap: square\"/>\n     </g>\n     <g id=\"line2d_12\">\n      <defs>\n       <path id=\"meab5643904\" d=\"M 0 0 \nL -3.5 0 \n\" style=\"stroke: #000000; stroke-width: 0.8\"/>\n      </defs>\n      <g>\n       <use xlink:href=\"#meab5643904\" x=\"30.103125\" y=\"127.952271\" style=\"stroke: #000000; stroke-width: 0.8\"/>\n      </g>\n     </g>\n     <g id=\"text_7\">\n      <!-- 0.2 -->\n      <g transform=\"translate(7.2 131.751489) scale(0.1 -0.1)\">\n       <defs>\n        <path id=\"DejaVuSans-2e\" d=\"M 684 794 \nL 1344 794 \nL 1344 0 \nL 684 0 \nL 684 794 \nz\n\" transform=\"scale(0.015625)\"/>\n       </defs>\n       <use xlink:href=\"#DejaVuSans-30\"/>\n       <use xlink:href=\"#DejaVuSans-2e\" x=\"63.623047\"/>\n       <use xlink:href=\"#DejaVuSans-32\" x=\"95.410156\"/>\n      </g>\n     </g>\n    </g>\n    <g id=\"ytick_2\">\n     <g id=\"line2d_13\">\n      <path d=\"M 30.103125 103.105453 \nL 225.403125 103.105453 \n\" clip-path=\"url(#pa6222ee24d)\" style=\"fill: none; stroke: #b0b0b0; stroke-width: 0.8; stroke-linecap: square\"/>\n     </g>\n     <g id=\"line2d_14\">\n      <g>\n       <use xlink:href=\"#meab5643904\" x=\"30.103125\" y=\"103.105453\" style=\"stroke: #000000; stroke-width: 0.8\"/>\n      </g>\n     </g>\n     <g id=\"text_8\">\n      <!-- 0.4 -->\n      <g transform=\"translate(7.2 106.904672) scale(0.1 -0.1)\">\n       <use xlink:href=\"#DejaVuSans-30\"/>\n       <use xlink:href=\"#DejaVuSans-2e\" x=\"63.623047\"/>\n       <use xlink:href=\"#DejaVuSans-34\" x=\"95.410156\"/>\n      </g>\n     </g>\n    </g>\n    <g id=\"ytick_3\">\n     <g id=\"line2d_15\">\n      <path d=\"M 30.103125 78.258636 \nL 225.403125 78.258636 \n\" clip-path=\"url(#pa6222ee24d)\" style=\"fill: none; stroke: #b0b0b0; stroke-width: 0.8; stroke-linecap: square\"/>\n     </g>\n     <g id=\"line2d_16\">\n      <g>\n       <use xlink:href=\"#meab5643904\" x=\"30.103125\" y=\"78.258636\" style=\"stroke: #000000; stroke-width: 0.8\"/>\n      </g>\n     </g>\n     <g id=\"text_9\">\n      <!-- 0.6 -->\n      <g transform=\"translate(7.2 82.057855) scale(0.1 -0.1)\">\n       <use xlink:href=\"#DejaVuSans-30\"/>\n       <use xlink:href=\"#DejaVuSans-2e\" x=\"63.623047\"/>\n       <use xlink:href=\"#DejaVuSans-36\" x=\"95.410156\"/>\n      </g>\n     </g>\n    </g>\n    <g id=\"ytick_4\">\n     <g id=\"line2d_17\">\n      <path d=\"M 30.103125 53.411819 \nL 225.403125 53.411819 \n\" clip-path=\"url(#pa6222ee24d)\" style=\"fill: none; stroke: #b0b0b0; stroke-width: 0.8; stroke-linecap: square\"/>\n     </g>\n     <g id=\"line2d_18\">\n      <g>\n       <use xlink:href=\"#meab5643904\" x=\"30.103125\" y=\"53.411819\" style=\"stroke: #000000; stroke-width: 0.8\"/>\n      </g>\n     </g>\n     <g id=\"text_10\">\n      <!-- 0.8 -->\n      <g transform=\"translate(7.2 57.211037) scale(0.1 -0.1)\">\n       <use xlink:href=\"#DejaVuSans-30\"/>\n       <use xlink:href=\"#DejaVuSans-2e\" x=\"63.623047\"/>\n       <use xlink:href=\"#DejaVuSans-38\" x=\"95.410156\"/>\n      </g>\n     </g>\n    </g>\n    <g id=\"ytick_5\">\n     <g id=\"line2d_19\">\n      <path d=\"M 30.103125 28.565001 \nL 225.403125 28.565001 \n\" clip-path=\"url(#pa6222ee24d)\" style=\"fill: none; stroke: #b0b0b0; stroke-width: 0.8; stroke-linecap: square\"/>\n     </g>\n     <g id=\"line2d_20\">\n      <g>\n       <use xlink:href=\"#meab5643904\" x=\"30.103125\" y=\"28.565001\" style=\"stroke: #000000; stroke-width: 0.8\"/>\n      </g>\n     </g>\n     <g id=\"text_11\">\n      <!-- 1.0 -->\n      <g transform=\"translate(7.2 32.36422) scale(0.1 -0.1)\">\n       <use xlink:href=\"#DejaVuSans-31\"/>\n       <use xlink:href=\"#DejaVuSans-2e\" x=\"63.623047\"/>\n       <use xlink:href=\"#DejaVuSans-30\" x=\"95.410156\"/>\n      </g>\n     </g>\n    </g>\n   </g>\n   <g id=\"line2d_21\">\n    <path d=\"M 12.733284 13.5 \nL 17.063442 53.863891 \nL 21.393601 69.602875 \nL 25.72376 78.610144 \nL 30.053919 84.529851 \nL 30.103125 84.577748 \nL 34.433284 112.039949 \nL 38.763442 113.413504 \nL 43.093601 113.181329 \nL 47.42376 113.574394 \nL 51.753919 114.05937 \nL 51.803125 114.058711 \nL 56.133284 120.697417 \nL 60.463442 119.811766 \nL 64.793601 119.644438 \nL 69.12376 119.440865 \nL 73.453919 119.451415 \nL 73.503125 119.433472 \nL 77.833284 124.767907 \nL 82.163442 124.23522 \nL 86.493601 123.777968 \nL 90.82376 123.484652 \nL 95.153919 123.369486 \nL 95.203125 123.373458 \nL 99.533284 127.465971 \nL 103.863442 127.346911 \nL 108.193601 127.08017 \nL 112.52376 126.869821 \nL 116.853919 126.670648 \nL 116.903125 126.678088 \nL 121.233284 130.430493 \nL 125.563442 130.12551 \nL 129.893601 129.93624 \nL 134.22376 129.824804 \nL 138.553919 129.711748 \nL 138.603125 129.708783 \nL 142.933284 133.509363 \nL 147.263442 133.588898 \nL 151.593601 133.181633 \nL 155.92376 132.810142 \nL 160.253919 132.333729 \nL 160.303125 132.329499 \nL 164.633284 135.97725 \nL 168.963442 135.862914 \nL 173.293601 135.562828 \nL 177.62376 135.076344 \nL 181.953919 134.927185 \nL 182.003125 134.909557 \nL 186.333284 138.553528 \nL 190.663442 138.193729 \nL 194.993601 137.877397 \nL 199.32376 137.544753 \nL 203.653919 137.237504 \nL 203.703125 137.220074 \nL 208.033284 139.13279 \nL 212.363442 139.5 \nL 216.693601 139.333698 \nL 221.02376 139.322286 \nL 225.353919 139.027409 \nL 225.403125 139.033371 \n\" clip-path=\"url(#pa6222ee24d)\" style=\"fill: none; stroke: #1f77b4; stroke-width: 1.5; stroke-linecap: square\"/>\n   </g>\n   <g id=\"line2d_22\">\n    <path d=\"M 12.733284 67.741091 \nL 17.063442 58.206257 \nL 21.393601 54.366221 \nL 25.72376 52.104295 \nL 30.053919 50.653389 \nL 30.103125 50.63968 \nL 34.433284 43.57037 \nL 38.763442 43.087838 \nL 43.093601 43.088757 \nL 47.42376 42.93067 \nL 51.753919 42.88545 \nL 51.803125 42.890469 \nL 56.133284 40.680692 \nL 60.463442 41.008814 \nL 64.793601 41.079585 \nL 69.12376 41.196312 \nL 73.453919 41.177011 \nL 73.503125 41.186656 \nL 77.833284 39.291 \nL 82.163442 39.511586 \nL 86.493601 39.69357 \nL 90.82376 39.781804 \nL 95.153919 39.873347 \nL 95.203125 39.873828 \nL 99.533284 38.33145 \nL 103.863442 38.461045 \nL 108.193601 38.678874 \nL 112.52376 38.819497 \nL 116.853919 38.890636 \nL 116.903125 38.885902 \nL 121.233284 37.449106 \nL 125.563442 37.493223 \nL 129.893601 37.601678 \nL 134.22376 37.705537 \nL 138.553919 37.773368 \nL 138.603125 37.77132 \nL 142.933284 36.158677 \nL 147.263442 36.189008 \nL 151.593601 36.445439 \nL 155.92376 36.602607 \nL 160.253919 36.775216 \nL 160.303125 36.778989 \nL 164.633284 35.32045 \nL 168.963442 35.430743 \nL 173.293601 35.612727 \nL 177.62376 35.874673 \nL 181.953919 35.956841 \nL 182.003125 35.961775 \nL 186.333284 34.327813 \nL 190.663442 34.462922 \nL 194.993601 34.649501 \nL 199.32376 34.796558 \nL 203.653919 34.939939 \nL 203.703125 34.948519 \nL 208.033284 34.024507 \nL 212.363442 33.941787 \nL 216.693601 34.042889 \nL 221.02376 34.049323 \nL 225.353919 34.19877 \nL 225.403125 34.195184 \n\" clip-path=\"url(#pa6222ee24d)\" style=\"fill: none; stroke-dasharray: 5.55,2.4; stroke-dashoffset: 0; stroke: #bf00bf; stroke-width: 1.5\"/>\n   </g>\n   <g id=\"line2d_23\">\n    <path d=\"M 30.103125 51.265362 \nL 51.803125 46.665813 \nL 73.503125 46.619553 \nL 95.203125 43.764661 \nL 116.903125 54.576245 \nL 138.603125 53.254535 \nL 160.303125 45.350712 \nL 182.003125 44.40569 \nL 203.703125 56.5522 \nL 225.403125 43.810921 \n\" clip-path=\"url(#pa6222ee24d)\" style=\"fill: none; stroke-dasharray: 9.6,2.4,1.5,2.4; stroke-dashoffset: 0; stroke: #008000; stroke-width: 1.5\"/>\n   </g>\n   <g id=\"patch_3\">\n    <path d=\"M 30.103125 145.8 \nL 30.103125 7.2 \n\" style=\"fill: none; stroke: #000000; stroke-width: 0.8; stroke-linejoin: miter; stroke-linecap: square\"/>\n   </g>\n   <g id=\"patch_4\">\n    <path d=\"M 225.403125 145.8 \nL 225.403125 7.2 \n\" style=\"fill: none; stroke: #000000; stroke-width: 0.8; stroke-linejoin: miter; stroke-linecap: square\"/>\n   </g>\n   <g id=\"patch_5\">\n    <path d=\"M 30.103125 145.8 \nL 225.403125 145.8 \n\" style=\"fill: none; stroke: #000000; stroke-width: 0.8; stroke-linejoin: miter; stroke-linecap: square\"/>\n   </g>\n   <g id=\"patch_6\">\n    <path d=\"M 30.103125 7.2 \nL 225.403125 7.2 \n\" style=\"fill: none; stroke: #000000; stroke-width: 0.8; stroke-linejoin: miter; stroke-linecap: square\"/>\n   </g>\n   <g id=\"legend_1\">\n    <g id=\"patch_7\">\n     <path d=\"M 37.103125 100.017188 \nL 114.871875 100.017188 \nQ 116.871875 100.017188 116.871875 98.017188 \nL 116.871875 54.982812 \nQ 116.871875 52.982812 114.871875 52.982812 \nL 37.103125 52.982812 \nQ 35.103125 52.982812 35.103125 54.982812 \nL 35.103125 98.017188 \nQ 35.103125 100.017188 37.103125 100.017188 \nz\n\" style=\"fill: #ffffff; opacity: 0.8; stroke: #cccccc; stroke-linejoin: miter\"/>\n    </g>\n    <g id=\"line2d_24\">\n     <path d=\"M 39.103125 61.08125 \nL 49.103125 61.08125 \nL 59.103125 61.08125 \n\" style=\"fill: none; stroke: #1f77b4; stroke-width: 1.5; stroke-linecap: square\"/>\n    </g>\n    <g id=\"text_12\">\n     <!-- train loss -->\n     <g transform=\"translate(67.103125 64.58125) scale(0.1 -0.1)\">\n      <defs>\n       <path id=\"DejaVuSans-74\" d=\"M 1172 4494 \nL 1172 3500 \nL 2356 3500 \nL 2356 3053 \nL 1172 3053 \nL 1172 1153 \nQ 1172 725 1289 603 \nQ 1406 481 1766 481 \nL 2356 481 \nL 2356 0 \nL 1766 0 \nQ 1100 0 847 248 \nQ 594 497 594 1153 \nL 594 3053 \nL 172 3053 \nL 172 3500 \nL 594 3500 \nL 594 4494 \nL 1172 4494 \nz\n\" transform=\"scale(0.015625)\"/>\n       <path id=\"DejaVuSans-72\" d=\"M 2631 2963 \nQ 2534 3019 2420 3045 \nQ 2306 3072 2169 3072 \nQ 1681 3072 1420 2755 \nQ 1159 2438 1159 1844 \nL 1159 0 \nL 581 0 \nL 581 3500 \nL 1159 3500 \nL 1159 2956 \nQ 1341 3275 1631 3429 \nQ 1922 3584 2338 3584 \nQ 2397 3584 2469 3576 \nQ 2541 3569 2628 3553 \nL 2631 2963 \nz\n\" transform=\"scale(0.015625)\"/>\n       <path id=\"DejaVuSans-61\" d=\"M 2194 1759 \nQ 1497 1759 1228 1600 \nQ 959 1441 959 1056 \nQ 959 750 1161 570 \nQ 1363 391 1709 391 \nQ 2188 391 2477 730 \nQ 2766 1069 2766 1631 \nL 2766 1759 \nL 2194 1759 \nz\nM 3341 1997 \nL 3341 0 \nL 2766 0 \nL 2766 531 \nQ 2569 213 2275 61 \nQ 1981 -91 1556 -91 \nQ 1019 -91 701 211 \nQ 384 513 384 1019 \nQ 384 1609 779 1909 \nQ 1175 2209 1959 2209 \nL 2766 2209 \nL 2766 2266 \nQ 2766 2663 2505 2880 \nQ 2244 3097 1772 3097 \nQ 1472 3097 1187 3025 \nQ 903 2953 641 2809 \nL 641 3341 \nQ 956 3463 1253 3523 \nQ 1550 3584 1831 3584 \nQ 2591 3584 2966 3190 \nQ 3341 2797 3341 1997 \nz\n\" transform=\"scale(0.015625)\"/>\n       <path id=\"DejaVuSans-69\" d=\"M 603 3500 \nL 1178 3500 \nL 1178 0 \nL 603 0 \nL 603 3500 \nz\nM 603 4863 \nL 1178 4863 \nL 1178 4134 \nL 603 4134 \nL 603 4863 \nz\n\" transform=\"scale(0.015625)\"/>\n       <path id=\"DejaVuSans-6e\" d=\"M 3513 2113 \nL 3513 0 \nL 2938 0 \nL 2938 2094 \nQ 2938 2591 2744 2837 \nQ 2550 3084 2163 3084 \nQ 1697 3084 1428 2787 \nQ 1159 2491 1159 1978 \nL 1159 0 \nL 581 0 \nL 581 3500 \nL 1159 3500 \nL 1159 2956 \nQ 1366 3272 1645 3428 \nQ 1925 3584 2291 3584 \nQ 2894 3584 3203 3211 \nQ 3513 2838 3513 2113 \nz\n\" transform=\"scale(0.015625)\"/>\n       <path id=\"DejaVuSans-20\" transform=\"scale(0.015625)\"/>\n       <path id=\"DejaVuSans-6c\" d=\"M 603 4863 \nL 1178 4863 \nL 1178 0 \nL 603 0 \nL 603 4863 \nz\n\" transform=\"scale(0.015625)\"/>\n       <path id=\"DejaVuSans-73\" d=\"M 2834 3397 \nL 2834 2853 \nQ 2591 2978 2328 3040 \nQ 2066 3103 1784 3103 \nQ 1356 3103 1142 2972 \nQ 928 2841 928 2578 \nQ 928 2378 1081 2264 \nQ 1234 2150 1697 2047 \nL 1894 2003 \nQ 2506 1872 2764 1633 \nQ 3022 1394 3022 966 \nQ 3022 478 2636 193 \nQ 2250 -91 1575 -91 \nQ 1294 -91 989 -36 \nQ 684 19 347 128 \nL 347 722 \nQ 666 556 975 473 \nQ 1284 391 1588 391 \nQ 1994 391 2212 530 \nQ 2431 669 2431 922 \nQ 2431 1156 2273 1281 \nQ 2116 1406 1581 1522 \nL 1381 1569 \nQ 847 1681 609 1914 \nQ 372 2147 372 2553 \nQ 372 3047 722 3315 \nQ 1072 3584 1716 3584 \nQ 2034 3584 2315 3537 \nQ 2597 3491 2834 3397 \nz\n\" transform=\"scale(0.015625)\"/>\n      </defs>\n      <use xlink:href=\"#DejaVuSans-74\"/>\n      <use xlink:href=\"#DejaVuSans-72\" x=\"39.208984\"/>\n      <use xlink:href=\"#DejaVuSans-61\" x=\"80.322266\"/>\n      <use xlink:href=\"#DejaVuSans-69\" x=\"141.601562\"/>\n      <use xlink:href=\"#DejaVuSans-6e\" x=\"169.384766\"/>\n      <use xlink:href=\"#DejaVuSans-20\" x=\"232.763672\"/>\n      <use xlink:href=\"#DejaVuSans-6c\" x=\"264.550781\"/>\n      <use xlink:href=\"#DejaVuSans-6f\" x=\"292.333984\"/>\n      <use xlink:href=\"#DejaVuSans-73\" x=\"353.515625\"/>\n      <use xlink:href=\"#DejaVuSans-73\" x=\"405.615234\"/>\n     </g>\n    </g>\n    <g id=\"line2d_25\">\n     <path d=\"M 39.103125 75.759375 \nL 49.103125 75.759375 \nL 59.103125 75.759375 \n\" style=\"fill: none; stroke-dasharray: 5.55,2.4; stroke-dashoffset: 0; stroke: #bf00bf; stroke-width: 1.5\"/>\n    </g>\n    <g id=\"text_13\">\n     <!-- train acc -->\n     <g transform=\"translate(67.103125 79.259375) scale(0.1 -0.1)\">\n      <use xlink:href=\"#DejaVuSans-74\"/>\n      <use xlink:href=\"#DejaVuSans-72\" x=\"39.208984\"/>\n      <use xlink:href=\"#DejaVuSans-61\" x=\"80.322266\"/>\n      <use xlink:href=\"#DejaVuSans-69\" x=\"141.601562\"/>\n      <use xlink:href=\"#DejaVuSans-6e\" x=\"169.384766\"/>\n      <use xlink:href=\"#DejaVuSans-20\" x=\"232.763672\"/>\n      <use xlink:href=\"#DejaVuSans-61\" x=\"264.550781\"/>\n      <use xlink:href=\"#DejaVuSans-63\" x=\"325.830078\"/>\n      <use xlink:href=\"#DejaVuSans-63\" x=\"380.810547\"/>\n     </g>\n    </g>\n    <g id=\"line2d_26\">\n     <path d=\"M 39.103125 90.4375 \nL 49.103125 90.4375 \nL 59.103125 90.4375 \n\" style=\"fill: none; stroke-dasharray: 9.6,2.4,1.5,2.4; stroke-dashoffset: 0; stroke: #008000; stroke-width: 1.5\"/>\n    </g>\n    <g id=\"text_14\">\n     <!-- test acc -->\n     <g transform=\"translate(67.103125 93.9375) scale(0.1 -0.1)\">\n      <use xlink:href=\"#DejaVuSans-74\"/>\n      <use xlink:href=\"#DejaVuSans-65\" x=\"39.208984\"/>\n      <use xlink:href=\"#DejaVuSans-73\" x=\"100.732422\"/>\n      <use xlink:href=\"#DejaVuSans-74\" x=\"152.832031\"/>\n      <use xlink:href=\"#DejaVuSans-20\" x=\"192.041016\"/>\n      <use xlink:href=\"#DejaVuSans-61\" x=\"223.828125\"/>\n      <use xlink:href=\"#DejaVuSans-63\" x=\"285.107422\"/>\n      <use xlink:href=\"#DejaVuSans-63\" x=\"340.087891\"/>\n     </g>\n    </g>\n   </g>\n  </g>\n </g>\n <defs>\n  <clipPath id=\"pa6222ee24d\">\n   <rect x=\"30.103125\" y=\"7.2\" width=\"195.3\" height=\"138.6\"/>\n  </clipPath>\n </defs>\n</svg>\n"
     },
     "metadata": {},
     "output_type": "display_data"
    }
   ],
   "source": [
    "lr, num_epochs = 0.05, 10\n",
    "d2l.train_ch6(net, train_loader, test_loader, num_epochs, lr, d2l.try_gpu())"
   ],
   "metadata": {
    "collapsed": false
   },
   "id": "c88d2d403d03537d",
   "execution_count": 39
  },
  {
   "cell_type": "code",
   "outputs": [],
   "source": [
    "# save a benchmark\n",
    "torch.save(net.state_dict(), '../models/emnist-resnet-10-epochs-3.pth')"
   ],
   "metadata": {
    "collapsed": false,
    "ExecuteTime": {
     "end_time": "2024-07-19T12:36:10.113786Z",
     "start_time": "2024-07-19T12:36:10.057283Z"
    }
   },
   "id": "5e017e000bd20485",
   "execution_count": 40
  },
  {
   "cell_type": "code",
   "outputs": [
    {
     "data": {
      "text/plain": "<All keys matched successfully>"
     },
     "execution_count": 44,
     "metadata": {},
     "output_type": "execute_result"
    }
   ],
   "source": [
    "# load model\n",
    "net = nn.Sequential(b1, b2, b3, b4, b5,\n",
    "                    nn.AdaptiveAvgPool2d((1,1)),\n",
    "                    nn.Flatten(), \n",
    "                    nn.Linear(512, 47)).to(\"cuda:0\")\n",
    "net.load_state_dict(torch.load('../models/emnist-resnet-10-epochs-3.pth'))"
   ],
   "metadata": {
    "collapsed": false,
    "ExecuteTime": {
     "end_time": "2024-07-19T12:37:03.174563Z",
     "start_time": "2024-07-19T12:37:03.143099Z"
    }
   },
   "id": "2000013385a86948",
   "execution_count": 44
  },
  {
   "cell_type": "code",
   "outputs": [],
   "source": [
    "# visualize the test result\n",
    "def get_fashion_mnist_labels(labels):\n",
    "    text_labels = [chr(int(mapping.loc[int(i)].values)) for i in labels]\n",
    "    return text_labels\n",
    "\n",
    "def show_images(imgs, num_rows, num_cols, titles=None, scale=1.5):\n",
    "    figsize = (num_cols * scale, num_rows * scale)\n",
    "    _, axes = d2l.plt.subplots(num_rows, num_cols, figsize=figsize)\n",
    "    axes = axes.flatten()\n",
    "    for i, (ax, img) in enumerate(zip(axes, imgs)):\n",
    "        ax.imshow(img.detach().numpy())\n",
    "        ax.axes.get_xaxis().set_visible(False)\n",
    "        ax.axes.get_yaxis().set_visible(False)\n",
    "        if titles:\n",
    "            ax.set_title(titles[i])\n",
    "    return axes\n",
    "\n",
    "for X, y in test_loader:\n",
    "    break\n",
    "X = X.to(\"cuda:0\")\n",
    "y = y.to(\"cuda:0\")"
   ],
   "metadata": {
    "collapsed": false,
    "ExecuteTime": {
     "end_time": "2024-07-19T12:37:05.441200Z",
     "start_time": "2024-07-19T12:37:05.434686Z"
    }
   },
   "id": "8c8c2fe0162b0f",
   "execution_count": 45
  },
  {
   "cell_type": "code",
   "outputs": [
    {
     "data": {
      "text/plain": "array([<Axes: title={'center': 'e\\ne'}>, <Axes: title={'center': '9\\n9'}>,\n       <Axes: title={'center': 'Q\\nQ'}>, <Axes: title={'center': 'q\\n9'}>,\n       <Axes: title={'center': 'X\\nX'}>, <Axes: title={'center': 'E\\nE'}>,\n       <Axes: title={'center': 'B\\nB'}>, <Axes: title={'center': '3\\n3'}>,\n       <Axes: title={'center': 'C\\nI'}>], dtype=object)"
     },
     "execution_count": 46,
     "metadata": {},
     "output_type": "execute_result"
    },
    {
     "data": {
      "text/plain": "<Figure size 1350x150 with 9 Axes>",
      "image/svg+xml": "<?xml version=\"1.0\" encoding=\"utf-8\" standalone=\"no\"?>\n<!DOCTYPE svg PUBLIC \"-//W3C//DTD SVG 1.1//EN\"\n  \"http://www.w3.org/Graphics/SVG/1.1/DTD/svg11.dtd\">\n<svg xmlns:xlink=\"http://www.w3.org/1999/xlink\" width=\"767.7pt\" height=\"114.021538pt\" viewBox=\"0 0 767.7 114.021538\" xmlns=\"http://www.w3.org/2000/svg\" version=\"1.1\">\n <metadata>\n  <rdf:RDF xmlns:dc=\"http://purl.org/dc/elements/1.1/\" xmlns:cc=\"http://creativecommons.org/ns#\" xmlns:rdf=\"http://www.w3.org/1999/02/22-rdf-syntax-ns#\">\n   <cc:Work>\n    <dc:type rdf:resource=\"http://purl.org/dc/dcmitype/StillImage\"/>\n    <dc:date>2024-07-19T20:37:06.910683</dc:date>\n    <dc:format>image/svg+xml</dc:format>\n    <dc:creator>\n     <cc:Agent>\n      <dc:title>Matplotlib v3.7.2, https://matplotlib.org/</dc:title>\n     </cc:Agent>\n    </dc:creator>\n   </cc:Work>\n  </rdf:RDF>\n </metadata>\n <defs>\n  <style type=\"text/css\">*{stroke-linejoin: round; stroke-linecap: butt}</style>\n </defs>\n <g id=\"figure_1\">\n  <g id=\"patch_1\">\n   <path d=\"M 0 114.021538 \nL 767.7 114.021538 \nL 767.7 0 \nL 0 0 \nz\n\" style=\"fill: #ffffff\"/>\n  </g>\n  <g id=\"axes_1\">\n   <g id=\"patch_2\">\n    <path d=\"M 7.2 106.821538 \nL 78.266038 106.821538 \nL 78.266038 35.7555 \nL 7.2 35.7555 \nz\n\" style=\"fill: #ffffff\"/>\n   </g>\n   <g clip-path=\"url(#pd67291507e)\">\n    <image xlink:href=\"data:image/png;base64,\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\" id=\"imagec31f25c7e7\" transform=\"scale(1 -1) translate(0 -71.28)\" x=\"7.2\" y=\"-35.541538\" width=\"71.28\" height=\"71.28\"/>\n   </g>\n   <g id=\"patch_3\">\n    <path d=\"M 7.2 106.821538 \nL 7.2 35.7555 \n\" style=\"fill: none; stroke: #000000; stroke-width: 0.8; stroke-linejoin: miter; stroke-linecap: square\"/>\n   </g>\n   <g id=\"patch_4\">\n    <path d=\"M 78.266038 106.821538 \nL 78.266038 35.7555 \n\" style=\"fill: none; stroke: #000000; stroke-width: 0.8; stroke-linejoin: miter; stroke-linecap: square\"/>\n   </g>\n   <g id=\"patch_5\">\n    <path d=\"M 7.2 106.821538 \nL 78.266038 106.821538 \n\" style=\"fill: none; stroke: #000000; stroke-width: 0.8; stroke-linejoin: miter; stroke-linecap: square\"/>\n   </g>\n   <g id=\"patch_6\">\n    <path d=\"M 7.2 35.7555 \nL 78.266038 35.7555 \n\" style=\"fill: none; stroke: #000000; stroke-width: 0.8; stroke-linejoin: miter; stroke-linecap: square\"/>\n   </g>\n   <g id=\"text_1\">\n    <!-- e -->\n    <g transform=\"translate(39.041144 16.318125) scale(0.12 -0.12)\">\n     <defs>\n      <path id=\"DejaVuSans-65\" d=\"M 3597 1894 \nL 3597 1613 \nL 953 1613 \nQ 991 1019 1311 708 \nQ 1631 397 2203 397 \nQ 2534 397 2845 478 \nQ 3156 559 3463 722 \nL 3463 178 \nQ 3153 47 2828 -22 \nQ 2503 -91 2169 -91 \nQ 1331 -91 842 396 \nQ 353 884 353 1716 \nQ 353 2575 817 3079 \nQ 1281 3584 2069 3584 \nQ 2775 3584 3186 3129 \nQ 3597 2675 3597 1894 \nz\nM 3022 2063 \nQ 3016 2534 2758 2815 \nQ 2500 3097 2075 3097 \nQ 1594 3097 1305 2825 \nQ 1016 2553 972 2059 \nL 3022 2063 \nz\n\" transform=\"scale(0.015625)\"/>\n     </defs>\n     <use xlink:href=\"#DejaVuSans-65\"/>\n    </g>\n    <!-- e -->\n    <g transform=\"translate(39.041144 29.7555) scale(0.12 -0.12)\">\n     <use xlink:href=\"#DejaVuSans-65\"/>\n    </g>\n   </g>\n  </g>\n  <g id=\"axes_2\">\n   <g id=\"patch_7\">\n    <path d=\"M 92.479245 106.821538 \nL 163.545283 106.821538 \nL 163.545283 35.7555 \nL 92.479245 35.7555 \nz\n\" style=\"fill: #ffffff\"/>\n   </g>\n   <g clip-path=\"url(#p338b0fa09d)\">\n    <image xlink:href=\"data:image/png;base64,\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\" id=\"image82a3189e0c\" transform=\"scale(1 -1) translate(0 -71.28)\" x=\"92.479245\" y=\"-35.541538\" width=\"71.28\" height=\"71.28\"/>\n   </g>\n   <g id=\"patch_8\">\n    <path d=\"M 92.479245 106.821538 \nL 92.479245 35.7555 \n\" style=\"fill: none; stroke: #000000; stroke-width: 0.8; stroke-linejoin: miter; stroke-linecap: square\"/>\n   </g>\n   <g id=\"patch_9\">\n    <path d=\"M 163.545283 106.821538 \nL 163.545283 35.7555 \n\" style=\"fill: none; stroke: #000000; stroke-width: 0.8; stroke-linejoin: miter; stroke-linecap: square\"/>\n   </g>\n   <g id=\"patch_10\">\n    <path d=\"M 92.479245 106.821538 \nL 163.545283 106.821538 \n\" style=\"fill: none; stroke: #000000; stroke-width: 0.8; stroke-linejoin: miter; stroke-linecap: square\"/>\n   </g>\n   <g id=\"patch_11\">\n    <path d=\"M 92.479245 35.7555 \nL 163.545283 35.7555 \n\" style=\"fill: none; stroke: #000000; stroke-width: 0.8; stroke-linejoin: miter; stroke-linecap: square\"/>\n   </g>\n   <g id=\"text_2\">\n    <!-- 9 -->\n    <g transform=\"translate(124.194764 16.318125) scale(0.12 -0.12)\">\n     <defs>\n      <path id=\"DejaVuSans-39\" d=\"M 703 97 \nL 703 672 \nQ 941 559 1184 500 \nQ 1428 441 1663 441 \nQ 2288 441 2617 861 \nQ 2947 1281 2994 2138 \nQ 2813 1869 2534 1725 \nQ 2256 1581 1919 1581 \nQ 1219 1581 811 2004 \nQ 403 2428 403 3163 \nQ 403 3881 828 4315 \nQ 1253 4750 1959 4750 \nQ 2769 4750 3195 4129 \nQ 3622 3509 3622 2328 \nQ 3622 1225 3098 567 \nQ 2575 -91 1691 -91 \nQ 1453 -91 1209 -44 \nQ 966 3 703 97 \nz\nM 1959 2075 \nQ 2384 2075 2632 2365 \nQ 2881 2656 2881 3163 \nQ 2881 3666 2632 3958 \nQ 2384 4250 1959 4250 \nQ 1534 4250 1286 3958 \nQ 1038 3666 1038 3163 \nQ 1038 2656 1286 2365 \nQ 1534 2075 1959 2075 \nz\n\" transform=\"scale(0.015625)\"/>\n     </defs>\n     <use xlink:href=\"#DejaVuSans-39\"/>\n    </g>\n    <!-- 9 -->\n    <g transform=\"translate(124.194764 29.7555) scale(0.12 -0.12)\">\n     <use xlink:href=\"#DejaVuSans-39\"/>\n    </g>\n   </g>\n  </g>\n  <g id=\"axes_3\">\n   <g id=\"patch_12\">\n    <path d=\"M 177.758491 106.821538 \nL 248.824528 106.821538 \nL 248.824528 35.7555 \nL 177.758491 35.7555 \nz\n\" style=\"fill: #ffffff\"/>\n   </g>\n   <g clip-path=\"url(#p48c0fcf910)\">\n    <image xlink:href=\"data:image/png;base64,\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\" id=\"image74e1e4a609\" transform=\"scale(1 -1) translate(0 -71.28)\" x=\"177.758491\" y=\"-35.541538\" width=\"71.28\" height=\"71.28\"/>\n   </g>\n   <g id=\"patch_13\">\n    <path d=\"M 177.758491 106.821538 \nL 177.758491 35.7555 \n\" style=\"fill: none; stroke: #000000; stroke-width: 0.8; stroke-linejoin: miter; stroke-linecap: square\"/>\n   </g>\n   <g id=\"patch_14\">\n    <path d=\"M 248.824528 106.821538 \nL 248.824528 35.7555 \n\" style=\"fill: none; stroke: #000000; stroke-width: 0.8; stroke-linejoin: miter; stroke-linecap: square\"/>\n   </g>\n   <g id=\"patch_15\">\n    <path d=\"M 177.758491 106.821538 \nL 248.824528 106.821538 \n\" style=\"fill: none; stroke: #000000; stroke-width: 0.8; stroke-linejoin: miter; stroke-linecap: square\"/>\n   </g>\n   <g id=\"patch_16\">\n    <path d=\"M 177.758491 35.7555 \nL 248.824528 35.7555 \n\" style=\"fill: none; stroke: #000000; stroke-width: 0.8; stroke-linejoin: miter; stroke-linecap: square\"/>\n   </g>\n   <g id=\"text_3\">\n    <!-- Q -->\n    <g transform=\"translate(208.568384 16.318125) scale(0.12 -0.12)\">\n     <defs>\n      <path id=\"DejaVuSans-51\" d=\"M 2522 4238 \nQ 1834 4238 1429 3725 \nQ 1025 3213 1025 2328 \nQ 1025 1447 1429 934 \nQ 1834 422 2522 422 \nQ 3209 422 3611 934 \nQ 4013 1447 4013 2328 \nQ 4013 3213 3611 3725 \nQ 3209 4238 2522 4238 \nz\nM 3406 84 \nL 4238 -825 \nL 3475 -825 \nL 2784 -78 \nQ 2681 -84 2626 -87 \nQ 2572 -91 2522 -91 \nQ 1538 -91 948 567 \nQ 359 1225 359 2328 \nQ 359 3434 948 4092 \nQ 1538 4750 2522 4750 \nQ 3503 4750 4090 4092 \nQ 4678 3434 4678 2328 \nQ 4678 1516 4351 937 \nQ 4025 359 3406 84 \nz\n\" transform=\"scale(0.015625)\"/>\n     </defs>\n     <use xlink:href=\"#DejaVuSans-51\"/>\n    </g>\n    <!-- Q -->\n    <g transform=\"translate(208.568384 29.7555) scale(0.12 -0.12)\">\n     <use xlink:href=\"#DejaVuSans-51\"/>\n    </g>\n   </g>\n  </g>\n  <g id=\"axes_4\">\n   <g id=\"patch_17\">\n    <path d=\"M 263.037736 106.821538 \nL 334.103774 106.821538 \nL 334.103774 35.7555 \nL 263.037736 35.7555 \nz\n\" style=\"fill: #ffffff\"/>\n   </g>\n   <g clip-path=\"url(#p1873f23b24)\">\n    <image xlink:href=\"data:image/png;base64,\niVBORw0KGgoAAAANSUhEUgAAAGMAAABjCAYAAACPO76VAAAFKUlEQVR4nO2dX2gcRRzHd2/vLknTJG1Mz1iTmpoa0hwV4xmiDwEVS8GHgm2glCK0NaIWBJ8VH3zwRfHFB0V8kFIELbUq1eJLY0F8KG2ptcT+gVKS9H+vjaFJk/Nud3xyZn4js9zp7ean+/08/Ybf7u2Eb36/mZv9zZz7nDsqHMCC1FJ3ACggBiMgBiPSS92BuHHTxp/s2v8fhe+rRuBbr6sXiAxGQAxGJCJNpR/olPallx4mvlJ7YL2v4xdX2u0HThNfcO9enXqnQGQwAmIwAmIwIhFjht95n7Rf2/498e1qO2+9752nn5L2xMk+6pyw3/dPQWQwAmIwIhFpSmdZqkTaTW7Wem1v401pn8kORNanv0BkMAJiMAJiMCJxY0Yt7JsalvaK4izxVSJ4HiKDERCDEUhTIVw/l5N2y81TkT8PkcEIiMEIiMGIRIwZxcdbpZ1vuGJ4XceK/hIwiL7WD5HBCIjBiESkqd/XqxSzPvuH4W2w3ufaaxUiAZHBCIjBCIjBiESMGUL7l/NCprIVh9bTrjirriV1txGByGAExGBEItJUtdzxabHCquMz0g6wJSBZQAxGQAxGJGLMCJZXl+8Pz68jbXH+UhTdsYLIYATEYMT/Mk25GVo/u33omLTDamv/RgwvlHQQGYyAGIyAGIzgNWakPNpsXqbstlbi828VpS3K4ZWv+j4LziAyGAExGAExGBHPmKGNBenu1cR1Y2OX8m25RXyv9/4o7d4Mzfu/lrqlvXfySeK7dmEVaRcaf9JaGWs3Ly7mrL44QGQwAmIwwo3kwEhjirqwuSBt/9Ui8b3Xd0Dag1k6RW1wq8uiZiFBWdB22BJISahn5n/YQ3x9Yyeqen69QGQwAmIwAmIwIpKprZuhH3t1RGk+seFLowMeaencDhakfWiul/haPOUbaaR7Lto9ezGzZxwQqRe1re66Qy/Wxz5UhyQLiMGISNKUl6PfgO/Pq2/PNC05TuComfVXcx3E99bhbdJ+5PM54iu3qlT09rN06lp45hxp7+s5Im1f0E0Xen9eXHOM+L7xHpS2QJpKFhCDERCDEZGMGX5HG2nvfuiI5UrH+Xq+Xdqf7tlCfOvGVQ4Xgq7a6B3vGaefOfNoP2mf/Fbl+0KWjlk6jzVOkfahzkFpV6YvW++rF4gMRkAMRsTycqks7Knhrt8k7cws3R9hpqZqMWtkzyyqF1GF7FXrfea2ZJJukaaSBcRgBMRgRDTLIcbhivrBiy9vmCY+/ZSbjwdbiK/jtFrmEGXzmIkQaihY1ldxPRFywk4MIDIYATEYEc038Ou0xmnm5yeUnV8gvqEGNbX96M0PiW/npl3S7hmj6S2YV5/zb04v0FdxfWdpf8wTkcEIiMEIiMGISMYMcxq69rNJaY+O7CC+7wa+kHYhS9/YHR3+RNrD779BfN6sWmJZ+RudkuaOXiPtslDT58AYF0qiLO0TpeX0GdoUPYqzz00QGYyAGIyIptY2hPnRYdKu7L4t7Q/69xOfXnsbOLSQQJ+Gnio1E9/YwVdIO9Wlfm3yhX76S5T7jw9Ju2mabhfoflcrUEBBQrKAGIyAGIyIfcww927o28r0LWWO4ziZrWpZ5WB+L/Hp9bTmfoyxyedJ++4ONWUVzU3EJ6bUmz+xaLxprGWluA4gMhgBMRgRf5qqATetFgjcAXowV7Gw0npfbpwWD1Qmpy1X8gKRwQiIwQiIwQjWY0YoKXthXBxLF1GAyGAExGAEr8O/auE/morCQGQwAmIwAmIw4k9XCC6NNLItQQAAAABJRU5ErkJggg==\" id=\"imageac94a95db5\" transform=\"scale(1 -1) translate(0 -71.28)\" x=\"263.037736\" y=\"-35.541538\" width=\"71.28\" height=\"71.28\"/>\n   </g>\n   <g id=\"patch_18\">\n    <path d=\"M 263.037736 106.821538 \nL 263.037736 35.7555 \n\" style=\"fill: none; stroke: #000000; stroke-width: 0.8; stroke-linejoin: miter; stroke-linecap: square\"/>\n   </g>\n   <g id=\"patch_19\">\n    <path d=\"M 334.103774 106.821538 \nL 334.103774 35.7555 \n\" style=\"fill: none; stroke: #000000; stroke-width: 0.8; stroke-linejoin: miter; stroke-linecap: square\"/>\n   </g>\n   <g id=\"patch_20\">\n    <path d=\"M 263.037736 106.821538 \nL 334.103774 106.821538 \n\" style=\"fill: none; stroke: #000000; stroke-width: 0.8; stroke-linejoin: miter; stroke-linecap: square\"/>\n   </g>\n   <g id=\"patch_21\">\n    <path d=\"M 263.037736 35.7555 \nL 334.103774 35.7555 \n\" style=\"fill: none; stroke: #000000; stroke-width: 0.8; stroke-linejoin: miter; stroke-linecap: square\"/>\n   </g>\n   <g id=\"text_4\">\n    <!-- q -->\n    <g transform=\"translate(294.761692 16.318125) scale(0.12 -0.12)\">\n     <defs>\n      <path id=\"DejaVuSans-71\" d=\"M 947 1747 \nQ 947 1113 1208 752 \nQ 1469 391 1925 391 \nQ 2381 391 2643 752 \nQ 2906 1113 2906 1747 \nQ 2906 2381 2643 2742 \nQ 2381 3103 1925 3103 \nQ 1469 3103 1208 2742 \nQ 947 2381 947 1747 \nz\nM 2906 525 \nQ 2725 213 2448 61 \nQ 2172 -91 1784 -91 \nQ 1150 -91 751 415 \nQ 353 922 353 1747 \nQ 353 2572 751 3078 \nQ 1150 3584 1784 3584 \nQ 2172 3584 2448 3432 \nQ 2725 3281 2906 2969 \nL 2906 3500 \nL 3481 3500 \nL 3481 -1331 \nL 2906 -1331 \nL 2906 525 \nz\n\" transform=\"scale(0.015625)\"/>\n     </defs>\n     <use xlink:href=\"#DejaVuSans-71\"/>\n    </g>\n    <!-- 9 -->\n    <g transform=\"translate(294.753255 29.7555) scale(0.12 -0.12)\">\n     <use xlink:href=\"#DejaVuSans-39\"/>\n    </g>\n   </g>\n  </g>\n  <g id=\"axes_5\">\n   <g id=\"patch_22\">\n    <path d=\"M 348.316981 106.821538 \nL 419.383019 106.821538 \nL 419.383019 35.7555 \nL 348.316981 35.7555 \nz\n\" style=\"fill: #ffffff\"/>\n   </g>\n   <g clip-path=\"url(#p08a862efa9)\">\n    <image xlink:href=\"data:image/png;base64,\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\" id=\"imaged4aa2bb6c2\" transform=\"scale(1 -1) translate(0 -71.28)\" x=\"348.316981\" y=\"-35.541538\" width=\"71.28\" height=\"71.28\"/>\n   </g>\n   <g id=\"patch_23\">\n    <path d=\"M 348.316981 106.821538 \nL 348.316981 35.7555 \n\" style=\"fill: none; stroke: #000000; stroke-width: 0.8; stroke-linejoin: miter; stroke-linecap: square\"/>\n   </g>\n   <g id=\"patch_24\">\n    <path d=\"M 419.383019 106.821538 \nL 419.383019 35.7555 \n\" style=\"fill: none; stroke: #000000; stroke-width: 0.8; stroke-linejoin: miter; stroke-linecap: square\"/>\n   </g>\n   <g id=\"patch_25\">\n    <path d=\"M 348.316981 106.821538 \nL 419.383019 106.821538 \n\" style=\"fill: none; stroke: #000000; stroke-width: 0.8; stroke-linejoin: miter; stroke-linecap: square\"/>\n   </g>\n   <g id=\"patch_26\">\n    <path d=\"M 348.316981 35.7555 \nL 419.383019 35.7555 \n\" style=\"fill: none; stroke: #000000; stroke-width: 0.8; stroke-linejoin: miter; stroke-linecap: square\"/>\n   </g>\n   <g id=\"text_5\">\n    <!-- X -->\n    <g transform=\"translate(379.74 16.318125) scale(0.12 -0.12)\">\n     <defs>\n      <path id=\"DejaVuSans-58\" d=\"M 403 4666 \nL 1081 4666 \nL 2241 2931 \nL 3406 4666 \nL 4084 4666 \nL 2584 2425 \nL 4184 0 \nL 3506 0 \nL 2194 1984 \nL 872 0 \nL 191 0 \nL 1856 2491 \nL 403 4666 \nz\n\" transform=\"scale(0.015625)\"/>\n     </defs>\n     <use xlink:href=\"#DejaVuSans-58\"/>\n    </g>\n    <!-- X -->\n    <g transform=\"translate(379.74 29.7555) scale(0.12 -0.12)\">\n     <use xlink:href=\"#DejaVuSans-58\"/>\n    </g>\n   </g>\n  </g>\n  <g id=\"axes_6\">\n   <g id=\"patch_27\">\n    <path d=\"M 433.596226 106.821538 \nL 504.662264 106.821538 \nL 504.662264 35.7555 \nL 433.596226 35.7555 \nz\n\" style=\"fill: #ffffff\"/>\n   </g>\n   <g clip-path=\"url(#pd809d65121)\">\n    <image xlink:href=\"data:image/png;base64,\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\" id=\"imageda87fbadbc\" transform=\"scale(1 -1) translate(0 -71.28)\" x=\"433.596226\" y=\"-35.541538\" width=\"71.28\" height=\"71.28\"/>\n   </g>\n   <g id=\"patch_28\">\n    <path d=\"M 433.596226 106.821538 \nL 433.596226 35.7555 \n\" style=\"fill: none; stroke: #000000; stroke-width: 0.8; stroke-linejoin: miter; stroke-linecap: square\"/>\n   </g>\n   <g id=\"patch_29\">\n    <path d=\"M 504.662264 106.821538 \nL 504.662264 35.7555 \n\" style=\"fill: none; stroke: #000000; stroke-width: 0.8; stroke-linejoin: miter; stroke-linecap: square\"/>\n   </g>\n   <g id=\"patch_30\">\n    <path d=\"M 433.596226 106.821538 \nL 504.662264 106.821538 \n\" style=\"fill: none; stroke: #000000; stroke-width: 0.8; stroke-linejoin: miter; stroke-linecap: square\"/>\n   </g>\n   <g id=\"patch_31\">\n    <path d=\"M 433.596226 35.7555 \nL 504.662264 35.7555 \n\" style=\"fill: none; stroke: #000000; stroke-width: 0.8; stroke-linejoin: miter; stroke-linecap: square\"/>\n   </g>\n   <g id=\"text_6\">\n    <!-- E -->\n    <g transform=\"translate(465.337995 16.318125) scale(0.12 -0.12)\">\n     <defs>\n      <path id=\"DejaVuSans-45\" d=\"M 628 4666 \nL 3578 4666 \nL 3578 4134 \nL 1259 4134 \nL 1259 2753 \nL 3481 2753 \nL 3481 2222 \nL 1259 2222 \nL 1259 531 \nL 3634 531 \nL 3634 0 \nL 628 0 \nL 628 4666 \nz\n\" transform=\"scale(0.015625)\"/>\n     </defs>\n     <use xlink:href=\"#DejaVuSans-45\"/>\n    </g>\n    <!-- E -->\n    <g transform=\"translate(465.337995 29.7555) scale(0.12 -0.12)\">\n     <use xlink:href=\"#DejaVuSans-45\"/>\n    </g>\n   </g>\n  </g>\n  <g id=\"axes_7\">\n   <g id=\"patch_32\">\n    <path d=\"M 518.875472 106.821538 \nL 589.941509 106.821538 \nL 589.941509 35.7555 \nL 518.875472 35.7555 \nz\n\" style=\"fill: #ffffff\"/>\n   </g>\n   <g clip-path=\"url(#p5ba7d86b44)\">\n    <image xlink:href=\"data:image/png;base64,\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\" id=\"image5bfb566325\" transform=\"scale(1 -1) translate(0 -71.28)\" x=\"518.875472\" y=\"-35.541538\" width=\"71.28\" height=\"71.28\"/>\n   </g>\n   <g id=\"patch_33\">\n    <path d=\"M 518.875472 106.821538 \nL 518.875472 35.7555 \n\" style=\"fill: none; stroke: #000000; stroke-width: 0.8; stroke-linejoin: miter; stroke-linecap: square\"/>\n   </g>\n   <g id=\"patch_34\">\n    <path d=\"M 589.941509 106.821538 \nL 589.941509 35.7555 \n\" style=\"fill: none; stroke: #000000; stroke-width: 0.8; stroke-linejoin: miter; stroke-linecap: square\"/>\n   </g>\n   <g id=\"patch_35\">\n    <path d=\"M 518.875472 106.821538 \nL 589.941509 106.821538 \n\" style=\"fill: none; stroke: #000000; stroke-width: 0.8; stroke-linejoin: miter; stroke-linecap: square\"/>\n   </g>\n   <g id=\"patch_36\">\n    <path d=\"M 518.875472 35.7555 \nL 589.941509 35.7555 \n\" style=\"fill: none; stroke: #000000; stroke-width: 0.8; stroke-linejoin: miter; stroke-linecap: square\"/>\n   </g>\n   <g id=\"text_7\">\n    <!-- B -->\n    <g transform=\"translate(550.291928 16.318125) scale(0.12 -0.12)\">\n     <defs>\n      <path id=\"DejaVuSans-42\" d=\"M 1259 2228 \nL 1259 519 \nL 2272 519 \nQ 2781 519 3026 730 \nQ 3272 941 3272 1375 \nQ 3272 1813 3026 2020 \nQ 2781 2228 2272 2228 \nL 1259 2228 \nz\nM 1259 4147 \nL 1259 2741 \nL 2194 2741 \nQ 2656 2741 2882 2914 \nQ 3109 3088 3109 3444 \nQ 3109 3797 2882 3972 \nQ 2656 4147 2194 4147 \nL 1259 4147 \nz\nM 628 4666 \nL 2241 4666 \nQ 2963 4666 3353 4366 \nQ 3744 4066 3744 3513 \nQ 3744 3084 3544 2831 \nQ 3344 2578 2956 2516 \nQ 3422 2416 3680 2098 \nQ 3938 1781 3938 1306 \nQ 3938 681 3513 340 \nQ 3088 0 2303 0 \nL 628 0 \nL 628 4666 \nz\n\" transform=\"scale(0.015625)\"/>\n     </defs>\n     <use xlink:href=\"#DejaVuSans-42\"/>\n    </g>\n    <!-- B -->\n    <g transform=\"translate(550.291928 29.7555) scale(0.12 -0.12)\">\n     <use xlink:href=\"#DejaVuSans-42\"/>\n    </g>\n   </g>\n  </g>\n  <g id=\"axes_8\">\n   <g id=\"patch_37\">\n    <path d=\"M 604.154717 106.821538 \nL 675.220755 106.821538 \nL 675.220755 35.7555 \nL 604.154717 35.7555 \nz\n\" style=\"fill: #ffffff\"/>\n   </g>\n   <g clip-path=\"url(#p5b12e815f6)\">\n    <image xlink:href=\"data:image/png;base64,\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\" id=\"image24ee659999\" transform=\"scale(1 -1) translate(0 -71.28)\" x=\"604.154717\" y=\"-35.541538\" width=\"71.28\" height=\"71.28\"/>\n   </g>\n   <g id=\"patch_38\">\n    <path d=\"M 604.154717 106.821538 \nL 604.154717 35.7555 \n\" style=\"fill: none; stroke: #000000; stroke-width: 0.8; stroke-linejoin: miter; stroke-linecap: square\"/>\n   </g>\n   <g id=\"patch_39\">\n    <path d=\"M 675.220755 106.821538 \nL 675.220755 35.7555 \n\" style=\"fill: none; stroke: #000000; stroke-width: 0.8; stroke-linejoin: miter; stroke-linecap: square\"/>\n   </g>\n   <g id=\"patch_40\">\n    <path d=\"M 604.154717 106.821538 \nL 675.220755 106.821538 \n\" style=\"fill: none; stroke: #000000; stroke-width: 0.8; stroke-linejoin: miter; stroke-linecap: square\"/>\n   </g>\n   <g id=\"patch_41\">\n    <path d=\"M 604.154717 35.7555 \nL 675.220755 35.7555 \n\" style=\"fill: none; stroke: #000000; stroke-width: 0.8; stroke-linejoin: miter; stroke-linecap: square\"/>\n   </g>\n   <g id=\"text_8\">\n    <!-- 3 -->\n    <g transform=\"translate(635.870236 16.318125) scale(0.12 -0.12)\">\n     <defs>\n      <path id=\"DejaVuSans-33\" d=\"M 2597 2516 \nQ 3050 2419 3304 2112 \nQ 3559 1806 3559 1356 \nQ 3559 666 3084 287 \nQ 2609 -91 1734 -91 \nQ 1441 -91 1130 -33 \nQ 819 25 488 141 \nL 488 750 \nQ 750 597 1062 519 \nQ 1375 441 1716 441 \nQ 2309 441 2620 675 \nQ 2931 909 2931 1356 \nQ 2931 1769 2642 2001 \nQ 2353 2234 1838 2234 \nL 1294 2234 \nL 1294 2753 \nL 1863 2753 \nQ 2328 2753 2575 2939 \nQ 2822 3125 2822 3475 \nQ 2822 3834 2567 4026 \nQ 2313 4219 1838 4219 \nQ 1578 4219 1281 4162 \nQ 984 4106 628 3988 \nL 628 4550 \nQ 988 4650 1302 4700 \nQ 1616 4750 1894 4750 \nQ 2613 4750 3031 4423 \nQ 3450 4097 3450 3541 \nQ 3450 3153 3228 2886 \nQ 3006 2619 2597 2516 \nz\n\" transform=\"scale(0.015625)\"/>\n     </defs>\n     <use xlink:href=\"#DejaVuSans-33\"/>\n    </g>\n    <!-- 3 -->\n    <g transform=\"translate(635.870236 29.7555) scale(0.12 -0.12)\">\n     <use xlink:href=\"#DejaVuSans-33\"/>\n    </g>\n   </g>\n  </g>\n  <g id=\"axes_9\">\n   <g id=\"patch_42\">\n    <path d=\"M 689.433962 106.821538 \nL 760.5 106.821538 \nL 760.5 35.7555 \nL 689.433962 35.7555 \nz\n\" style=\"fill: #ffffff\"/>\n   </g>\n   <g clip-path=\"url(#pf8e0fa3ac3)\">\n    <image xlink:href=\"data:image/png;base64,\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\" id=\"imagee3f692744d\" transform=\"scale(1 -1) translate(0 -71.28)\" x=\"689.433962\" y=\"-35.541538\" width=\"71.28\" height=\"71.28\"/>\n   </g>\n   <g id=\"patch_43\">\n    <path d=\"M 689.433962 106.821538 \nL 689.433962 35.7555 \n\" style=\"fill: none; stroke: #000000; stroke-width: 0.8; stroke-linejoin: miter; stroke-linecap: square\"/>\n   </g>\n   <g id=\"patch_44\">\n    <path d=\"M 760.5 106.821538 \nL 760.5 35.7555 \n\" style=\"fill: none; stroke: #000000; stroke-width: 0.8; stroke-linejoin: miter; stroke-linecap: square\"/>\n   </g>\n   <g id=\"patch_45\">\n    <path d=\"M 689.433962 106.821538 \nL 760.5 106.821538 \n\" style=\"fill: none; stroke: #000000; stroke-width: 0.8; stroke-linejoin: miter; stroke-linecap: square\"/>\n   </g>\n   <g id=\"patch_46\">\n    <path d=\"M 689.433962 35.7555 \nL 760.5 35.7555 \n\" style=\"fill: none; stroke: #000000; stroke-width: 0.8; stroke-linejoin: miter; stroke-linecap: square\"/>\n   </g>\n   <g id=\"text_9\">\n    <!-- C -->\n    <g transform=\"translate(720.777294 16.318125) scale(0.12 -0.12)\">\n     <defs>\n      <path id=\"DejaVuSans-43\" d=\"M 4122 4306 \nL 4122 3641 \nQ 3803 3938 3442 4084 \nQ 3081 4231 2675 4231 \nQ 1875 4231 1450 3742 \nQ 1025 3253 1025 2328 \nQ 1025 1406 1450 917 \nQ 1875 428 2675 428 \nQ 3081 428 3442 575 \nQ 3803 722 4122 1019 \nL 4122 359 \nQ 3791 134 3420 21 \nQ 3050 -91 2638 -91 \nQ 1578 -91 968 557 \nQ 359 1206 359 2328 \nQ 359 3453 968 4101 \nQ 1578 4750 2638 4750 \nQ 3056 4750 3426 4639 \nQ 3797 4528 4122 4306 \nz\n\" transform=\"scale(0.015625)\"/>\n     </defs>\n     <use xlink:href=\"#DejaVuSans-43\"/>\n    </g>\n    <!-- I -->\n    <g transform=\"translate(723.196981 29.7555) scale(0.12 -0.12)\">\n     <defs>\n      <path id=\"DejaVuSans-49\" d=\"M 628 4666 \nL 1259 4666 \nL 1259 0 \nL 628 0 \nL 628 4666 \nz\n\" transform=\"scale(0.015625)\"/>\n     </defs>\n     <use xlink:href=\"#DejaVuSans-49\"/>\n    </g>\n   </g>\n  </g>\n </g>\n <defs>\n  <clipPath id=\"pd67291507e\">\n   <rect x=\"7.2\" y=\"35.7555\" width=\"71.066038\" height=\"71.066038\"/>\n  </clipPath>\n  <clipPath id=\"p338b0fa09d\">\n   <rect x=\"92.479245\" y=\"35.7555\" width=\"71.066038\" height=\"71.066038\"/>\n  </clipPath>\n  <clipPath id=\"p48c0fcf910\">\n   <rect x=\"177.758491\" y=\"35.7555\" width=\"71.066038\" height=\"71.066038\"/>\n  </clipPath>\n  <clipPath id=\"p1873f23b24\">\n   <rect x=\"263.037736\" y=\"35.7555\" width=\"71.066038\" height=\"71.066038\"/>\n  </clipPath>\n  <clipPath id=\"p08a862efa9\">\n   <rect x=\"348.316981\" y=\"35.7555\" width=\"71.066038\" height=\"71.066038\"/>\n  </clipPath>\n  <clipPath id=\"pd809d65121\">\n   <rect x=\"433.596226\" y=\"35.7555\" width=\"71.066038\" height=\"71.066038\"/>\n  </clipPath>\n  <clipPath id=\"p5ba7d86b44\">\n   <rect x=\"518.875472\" y=\"35.7555\" width=\"71.066038\" height=\"71.066038\"/>\n  </clipPath>\n  <clipPath id=\"p5b12e815f6\">\n   <rect x=\"604.154717\" y=\"35.7555\" width=\"71.066038\" height=\"71.066038\"/>\n  </clipPath>\n  <clipPath id=\"pf8e0fa3ac3\">\n   <rect x=\"689.433962\" y=\"35.7555\" width=\"71.066038\" height=\"71.066038\"/>\n  </clipPath>\n </defs>\n</svg>\n"
     },
     "metadata": {},
     "output_type": "display_data"
    }
   ],
   "source": [
    "true_labels = get_fashion_mnist_labels(y)\n",
    "pred_labels = get_fashion_mnist_labels(net(X).argmax(axis=1))\n",
    "titles = [true + '\\n' + pred for true, pred in zip(true_labels, pred_labels)]\n",
    "show_images(X[0:9].reshape((-1,28,28)).cpu(), 1, 9, titles=titles[0:9])\n"
   ],
   "metadata": {
    "collapsed": false,
    "ExecuteTime": {
     "end_time": "2024-07-19T12:37:06.934106Z",
     "start_time": "2024-07-19T12:37:06.769744Z"
    }
   },
   "id": "46f2ad04bb4fe187",
   "execution_count": 46
  },
  {
   "cell_type": "code",
   "outputs": [],
   "source": [],
   "metadata": {
    "collapsed": false,
    "ExecuteTime": {
     "end_time": "2024-07-19T11:52:04.685520Z",
     "start_time": "2024-07-19T11:52:04.683792Z"
    }
   },
   "id": "da311ae7ba706ad8",
   "execution_count": 31
  }
 ],
 "metadata": {
  "kernelspec": {
   "display_name": "Python 3",
   "language": "python",
   "name": "python3"
  },
  "language_info": {
   "codemirror_mode": {
    "name": "ipython",
    "version": 2
   },
   "file_extension": ".py",
   "mimetype": "text/x-python",
   "name": "python",
   "nbconvert_exporter": "python",
   "pygments_lexer": "ipython2",
   "version": "2.7.6"
  }
 },
 "nbformat": 4,
 "nbformat_minor": 5
}
